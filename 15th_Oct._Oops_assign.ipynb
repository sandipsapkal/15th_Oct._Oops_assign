{
 "cells": [
  {
   "cell_type": "code",
   "execution_count": null,
   "id": "763cabc3-b875-47a6-8cbd-46449c7040c4",
   "metadata": {},
   "outputs": [],
   "source": [
    "OOPS Assignment"
   ]
  },
  {
   "cell_type": "code",
   "execution_count": null,
   "id": "b187b965-7e17-416f-9dde-1150e408b2f7",
   "metadata": {},
   "outputs": [],
   "source": [
    "Constructor"
   ]
  },
  {
   "cell_type": "code",
   "execution_count": null,
   "id": "6f4ea392-44f0-4d0d-ba1e-b4a978a4d894",
   "metadata": {},
   "outputs": [],
   "source": [
    "1. What is a constructor in Python? Explain its purpose and usage."
   ]
  },
  {
   "cell_type": "code",
   "execution_count": null,
   "id": "0d888b69-16cd-4af7-b658-ac3ed645fdb0",
   "metadata": {},
   "outputs": [],
   "source": [
    "In Python, a constructor is a special method within a class that is automatically called when an object of that class is created.\n",
    "It is named __init__() and its purpose is to initialize the attributes of the object.\n",
    "\n",
    "Here's a breakdown of its purpose and usage:\n",
    "\n",
    "Purpose:\n",
    "Initializing Attributes: The primary purpose of a constructor is to set up initial values for the object's attributes.\n",
    "Preparing the Object: It allows for performing any setup actions or computations required before the object is ready for use.\n",
    "Customizing Object Creation: Constructors enable customization during object creation by accepting arguments that can be used to set initial values.\n",
    "\n",
    "Usages\n",
    "class MyClass:\n",
    "    def __init__(self, param1, param2):  # Constructor with parameters\n",
    "        self.attribute1 = param1  # Initializing attribute1 with param1\n",
    "        self.attribute2 = param2  # Initializing attribute2 with param2\n",
    "\n",
    "    # Other methods can be defined here\n",
    "\n",
    "# Creating an object of MyClass and passing arguments to the constructor\n",
    "obj = MyClass(value1, value2)\n",
    "\n",
    "Key Points:\n",
    "The constructor method __init__() is called automatically when an object is created.\n",
    "The self parameter in the constructor refers to the instance of the object itself and is used to access its attributes.\n",
    "You can define a constructor to accept parameters (besides self) that can be used to initialize attributes when creating objects."
   ]
  },
  {
   "cell_type": "code",
   "execution_count": null,
   "id": "93f04a7a-2bf8-415c-a1e3-5d9123d62db1",
   "metadata": {},
   "outputs": [],
   "source": [
    "2. Differentiate between a parameterless constructor and a parameterized constructor in Python."
   ]
  },
  {
   "cell_type": "code",
   "execution_count": null,
   "id": "64179207-d564-4b19-bdcc-57254f4177a0",
   "metadata": {},
   "outputs": [],
   "source": [
    "In Python, constructors in classes are defined using the __init__() method. The difference between a parameterless constructor and a parameterized constructor lies in whether or not they accept arguments (parameters) when creating an object.\n",
    "\n",
    "Parameterless Constructor:\n",
    "A parameterless constructor, as the name suggests, doesn't take any parameters other than the default self.\n",
    "It initializes the object's attributes with predefined values or performs certain actions without requiring any external input during object creation.\n",
    "Example of a Parameterless Constructor:\n",
    "    class MyClass:\n",
    "    def __init__(self):\n",
    "        self.attribute = \"default_value\"  # Initializing an attribute without any parameters\n",
    "\n",
    "# Creating an object of MyClass using a parameterless constructor\n",
    "obj = MyClass()\n",
    "\n",
    "Parameterized Constructor:\n",
    "A parameterized constructor accepts one or more parameters besides the default self.\n",
    "It initializes the object's attributes using the values passed as arguments when the object is created.\n",
    "Example of a Parameterized Constructor:\n",
    "    class Car:\n",
    "    def __init__(self, brand, model, year):\n",
    "        self.brand = brand\n",
    "        self.model = model\n",
    "        self.year = year\n",
    "\n",
    "# Creating an instance of Car using a parameterized constructor\n",
    "my_car = Car(\"Toyota\", \"Corolla\", 2022)"
   ]
  },
  {
   "cell_type": "code",
   "execution_count": null,
   "id": "7bd11a11-d4c5-4416-b80b-f8550012cc27",
   "metadata": {},
   "outputs": [],
   "source": [
    "3. How do you define a constructor in a Python class? Provide an example."
   ]
  },
  {
   "cell_type": "code",
   "execution_count": 1,
   "id": "952fcdd7-bc7a-488f-b640-fe32e3751555",
   "metadata": {},
   "outputs": [
    {
     "name": "stdout",
     "output_type": "stream",
     "text": [
      "Name: Alice, Age: 30\n",
      "Name: Bob, Age: 25\n"
     ]
    }
   ],
   "source": [
    "class Person:\n",
    "    def __init__(self, name, age):\n",
    "        self.name = name\n",
    "        self.age = age\n",
    "\n",
    "    def display_info(self):\n",
    "        print(f\"Name: {self.name}, Age: {self.age}\")\n",
    "\n",
    "# Creating an instance of Person using the constructor\n",
    "person1 = Person(\"Alice\", 30)\n",
    "person2 = Person(\"Bob\", 25)\n",
    "\n",
    "# Accessing attributes and methods of the objects\n",
    "person1.display_info()  # Output: Name: Alice, Age: 30\n",
    "person2.display_info()  # Output: Name: Bob, Age: 25"
   ]
  },
  {
   "cell_type": "code",
   "execution_count": null,
   "id": "8ac8f57e-a582-4659-a244-9ade380cafad",
   "metadata": {},
   "outputs": [],
   "source": [
    "4. Explain the `__init__` method in Python and its role in constructors."
   ]
  },
  {
   "cell_type": "code",
   "execution_count": 2,
   "id": "6867a397-578b-436e-8220-7b4a89248872",
   "metadata": {},
   "outputs": [
    {
     "name": "stdout",
     "output_type": "stream",
     "text": [
      "Name: Alice, Age: 30\n",
      "Name: Bob, Age: 25\n"
     ]
    }
   ],
   "source": [
    "\"\"\"In Python, the __init__() method is a special method used in classes as a constructor. It's automatically called when an object is created from the class. The primary role of __init__() is to initialize the attributes of the newly created object.\n",
    "\n",
    "Role of __init__() in Constructors:\n",
    "Initialization: The __init__() method initializes the object's attributes by assigning initial values based on the arguments passed during object creation.\n",
    "\n",
    "Automatic Invocation: When an object is instantiated, Python automatically calls __init__() to perform any necessary setup or initialization for that object.\n",
    "\n",
    "Parameter Handling: It accepts parameters other than the default self, allowing customization of attribute values when creating objects.\"\"\"\n",
    "class Person:\n",
    "    def __init__(self, name, age):\n",
    "        self.name = name\n",
    "        self.age = age\n",
    "\n",
    "    def display_info(self):\n",
    "        print(f\"Name: {self.name}, Age: {self.age}\")\n",
    "\n",
    "# Creating an instance of Person using the constructor\n",
    "person1 = Person(\"Alice\", 30)\n",
    "person2 = Person(\"Bob\", 25)\n",
    "\n",
    "# Accessing attributes and methods of the objects\n",
    "person1.display_info()  # Output: Name: Alice, Age: 30\n",
    "person2.display_info()  # Output: Name: Bob, Age: 25"
   ]
  },
  {
   "cell_type": "code",
   "execution_count": null,
   "id": "8365f419-3c60-4623-a549-54686bc4604e",
   "metadata": {},
   "outputs": [],
   "source": [
    "5. In a class named `Person`, create a constructor that initializes the `name` and `age` attributes. Provide an \n",
    "example of creating an object of this class."
   ]
  },
  {
   "cell_type": "code",
   "execution_count": 3,
   "id": "47c7c0bb-bcfe-439f-8f2d-0d24d06095c8",
   "metadata": {},
   "outputs": [
    {
     "name": "stdout",
     "output_type": "stream",
     "text": [
      "Name: Alice, Age: 30\n"
     ]
    }
   ],
   "source": [
    "class Person:\n",
    "    def __init__(self, name, age):\n",
    "        self.name = name\n",
    "        self.age = age\n",
    "\n",
    "    def display_info(self):\n",
    "        print(f\"Name: {self.name}, Age: {self.age}\")\n",
    "\n",
    "# Creating an instance of Person using the constructor\n",
    "person = Person(\"Alice\", 30)\n",
    "person.display_info()  # Output: Name: Alice, Age: 30"
   ]
  },
  {
   "cell_type": "code",
   "execution_count": null,
   "id": "e63cd989-4823-420d-abea-756494922e35",
   "metadata": {},
   "outputs": [],
   "source": [
    "6. How can you call a constructor explicitly in Python? Give an example."
   ]
  },
  {
   "cell_type": "code",
   "execution_count": 4,
   "id": "4a2cf749-1d2f-418c-b87a-75f89e22a6e9",
   "metadata": {},
   "outputs": [
    {
     "name": "stdout",
     "output_type": "stream",
     "text": [
      "Value: 10\n",
      "Value: 20\n"
     ]
    }
   ],
   "source": [
    "\"\"\"In Python, you typically don't call a constructor explicitly. \n",
    "When you create an instance of a class using the class name followed by parentheses, the constructor (__init__() method) is automatically invoked. \n",
    "However, you can indirectly call the constructor by using __init__() within another method of the class. \n",
    "This isn't a recommended practice but can be done for specific purposes.\n",
    "\n",
    "Here's an example illustrating how you can indirectly call the constructor:\"\"\"\n",
    "\n",
    "class MyClass:\n",
    "    def __init__(self, value):\n",
    "        self.value = value\n",
    "\n",
    "    def explicit_constructor_call(self, new_value):\n",
    "        self.__init__(new_value)  # Explicitly calling __init__ to reinitialize 'value'\n",
    "\n",
    "    def display_value(self):\n",
    "        print(f\"Value: {self.value}\")\n",
    "\n",
    "# Creating an instance of MyClass\n",
    "obj = MyClass(10)\n",
    "obj.display_value()  # Output: Value: 10\n",
    "\n",
    "# Explicitly calling the constructor to change 'value'\n",
    "obj.explicit_constructor_call(20)\n",
    "obj.display_value()  # Output: Value: 20"
   ]
  },
  {
   "cell_type": "code",
   "execution_count": null,
   "id": "09d2f0ce-b199-4b9e-8134-c325ae16e1f3",
   "metadata": {},
   "outputs": [],
   "source": [
    "7. What is the significance of the `self` parameter in Python constructors? Explain with an example."
   ]
  },
  {
   "cell_type": "code",
   "execution_count": 5,
   "id": "8b1c6f28-3a70-4cda-b136-5321cf6a4c99",
   "metadata": {},
   "outputs": [
    {
     "name": "stdout",
     "output_type": "stream",
     "text": [
      "Name: Alice, Age: 30\n"
     ]
    }
   ],
   "source": [
    "\"\"\"In Python, the self parameter in constructors (and other methods within a class) refers to the instance of the class itself. It's a convention used to access and manipulate the instance variables (attributes) and methods within the class.\n",
    "\n",
    "Significance of self in Constructors:\n",
    "Instance Reference: self represents the specific instance of the class that is being operated on. It allows access to instance variables and methods within the class.\n",
    "\n",
    "Attribute Assignment: It's used to assign values to instance attributes within the constructor or any other methods of the class.\n",
    "\n",
    "Example:\"\"\"\n",
    "class Person:\n",
    "    def __init__(self, name, age):\n",
    "        self.name = name  # Assigning 'name' to the instance attribute 'self.name'\n",
    "        self.age = age    # Assigning 'age' to the instance attribute 'self.age'\n",
    "\n",
    "    def display_info(self):\n",
    "        print(f\"Name: {self.name}, Age: {self.age}\")\n",
    "\n",
    "# Creating an instance of Person\n",
    "person = Person(\"Alice\", 30)\n",
    "\n",
    "# Accessing attributes and calling methods using 'self'\n",
    "person.display_info()  # Output: Name: Alice, Age: 30"
   ]
  },
  {
   "cell_type": "code",
   "execution_count": null,
   "id": "ad4ddc24-e636-4bd6-b51a-869f80cb19bd",
   "metadata": {},
   "outputs": [],
   "source": [
    "8. Discuss the concept of default constructors in Python. When are they used?"
   ]
  },
  {
   "cell_type": "code",
   "execution_count": null,
   "id": "c6414277-7c04-4240-bf17-587db75852c4",
   "metadata": {},
   "outputs": [],
   "source": [
    "In Python, the concept of default constructors refers to constructors that are automatically created if no explicit constructor (__init__() method) is defined within a class. When a class lacks an explicitly defined constructor, Python generates a default constructor that doesn't perform any initialization.\n",
    "\n",
    "Usage of Default Constructors:\n",
    "Implicit Creation: If you haven't defined a constructor in your class, Python creates a default constructor behind the scenes. This default constructor doesn't take any arguments other than self.\n",
    "\n",
    "Attribute Initialization: The default constructor doesn't initialize any attributes by default. It leaves the attributes uninitialized until explicitly assigned values during the object's lifetime.\n",
    "When Are They Used?\n",
    "Default constructors come into play when no custom constructor is defined within a class. They serve as placeholders and allow objects to be instantiated without any specific attribute initialization provided by the user.\n",
    "\n",
    "However, it's essential to note that the default constructor might not suit every scenario. If your class requires specific attribute initialization or additional setup when an object is created, it's better to define a custom constructor (__init__() method) to ensure that the object is properly initialized upon creation.\n",
    "\n",
    "In summary, default constructors are automatically generated by Python when no explicit constructor is defined within a class. They serve as a basic initialization mechanism, but for more specific initialization needs, it's recommended to define a custom constructor.\n"
   ]
  },
  {
   "cell_type": "code",
   "execution_count": null,
   "id": "3c9ca9f1-ba9f-439d-81dd-904b361220b8",
   "metadata": {},
   "outputs": [],
   "source": [
    "9. Create a Python class called `Rectangle` with a constructor that initializes the `width` and `height` \n",
    "attributes. Provide a method to calculate the area of the rectangle."
   ]
  },
  {
   "cell_type": "code",
   "execution_count": 6,
   "id": "bfe52b83-c076-467c-bfb5-57e090c3e6cb",
   "metadata": {},
   "outputs": [
    {
     "name": "stdout",
     "output_type": "stream",
     "text": [
      "The area of the rectangle is: 50\n"
     ]
    }
   ],
   "source": [
    "class Rectangle:\n",
    "    def __init__(self, width, height):\n",
    "        self.width = width\n",
    "        self.height = height\n",
    "\n",
    "    def calculate_area(self):\n",
    "        return self.width * self.height\n",
    "\n",
    "# Creating an instance of Rectangle\n",
    "rect = Rectangle(5, 10)\n",
    "\n",
    "# Calculating and printing the area of the rectangle\n",
    "area = rect.calculate_area()\n",
    "print(f\"The area of the rectangle is: {area}\")"
   ]
  },
  {
   "cell_type": "code",
   "execution_count": null,
   "id": "dfa376ce-d99a-4d32-8f93-a287a90087b5",
   "metadata": {},
   "outputs": [],
   "source": [
    "10. How can you have multiple constructors in a Python class? Explain with an example."
   ]
  },
  {
   "cell_type": "code",
   "execution_count": 7,
   "id": "57d2b171-3b50-4c2a-a9dd-a9b933c9712e",
   "metadata": {},
   "outputs": [
    {
     "name": "stdout",
     "output_type": "stream",
     "text": [
      "Alice is 30 years old.\n",
      "David is 0 years old.\n"
     ]
    }
   ],
   "source": [
    "\"\"\"In Python, having multiple constructors within a class directly isn't possible due to the lack of method overloading based on different parameter signatures (as in some other programming languages). However, you can simulate multiple constructors using class methods or default argument values within a single constructor.\n",
    "\n",
    "Using Class Methods for Multiple Constructors:\n",
    "One way to achieve multiple constructors is by using class methods (also known as factory methods) to create instances of the class with different initialization parameters.\n",
    "\n",
    "Here's an example:\"\"\"\n",
    "class Person:\n",
    "    def __init__(self, name, age):\n",
    "        self.name = name\n",
    "        self.age = age\n",
    "\n",
    "    @classmethod\n",
    "    def create_newborn(cls, name):\n",
    "        return cls(name, 0)  # Create a newborn person with age 0\n",
    "\n",
    "# Using different constructors (class methods) to create instances\n",
    "person1 = Person(\"Alice\", 30)  # Creating a person with name and age\n",
    "newborn = Person.create_newborn(\"David\")  # Creating a newborn with only a name\n",
    "\n",
    "print(f\"{person1.name} is {person1.age} years old.\")\n",
    "print(f\"{newborn.name} is {newborn.age} years old.\")"
   ]
  },
  {
   "cell_type": "code",
   "execution_count": null,
   "id": "5196a03f-e714-4caa-b64f-eac999584314",
   "metadata": {},
   "outputs": [],
   "source": [
    "11. What is method overloading, and how is it related to constructors in Python?"
   ]
  },
  {
   "cell_type": "code",
   "execution_count": null,
   "id": "01cf8fcf-2055-4f77-a47e-60f4c9268b48",
   "metadata": {},
   "outputs": [],
   "source": [
    "Method overloading refers to the ability to define multiple methods within a class with the same name but different parameter lists. In some programming languages, method overloading allows you to create methods that perform similar tasks but with different parameter types or numbers.\n",
    "\n",
    "However, Python does not support method overloading in the traditional sense where multiple methods with the same name and different signatures exist within the same class. In Python, only the latest defined method with a particular name in a class is considered, and previous methods with the same name are overwritten.\n",
    "\n",
    "Regarding constructors in Python:\n",
    "\n",
    "Python does not support multiple constructors with different parameter lists (as in languages like Java or C++ where constructor overloading is allowed).\n",
    "In Python, the constructor method is typically denoted by __init__(), and a class can have only one constructor method with this name.\n",
    "While it's not possible to have multiple constructors based on different parameters directly within a class in Python, you can simulate different constructor behaviors using techniques like default argument values or class methods to create instances with varying initialization parameters (as discussed in a previous example).\n",
    "Python's approach to handling constructors and method overloading is more flexible but different from languages that explicitly support method overloading by allowing multiple methods with the same name but different parameters.\n"
   ]
  },
  {
   "cell_type": "code",
   "execution_count": null,
   "id": "97cbd6cb-fe1b-44f1-b129-a048944d812b",
   "metadata": {},
   "outputs": [],
   "source": [
    "12. Explain the use of the `super()` function in Python constructors. Provide an example."
   ]
  },
  {
   "cell_type": "code",
   "execution_count": 8,
   "id": "93c4c479-25f4-4f62-ac4b-6db962db9900",
   "metadata": {},
   "outputs": [
    {
     "name": "stdout",
     "output_type": "stream",
     "text": [
      "Parent Value: Parent\n",
      "Child Value: Child\n"
     ]
    }
   ],
   "source": [
    "\"\"\"In Python, the super() function is used in constructors (or any other methods) to access and call methods or constructors from the parent (or superclass) within a subclass.\n",
    "It allows you to invoke methods or constructors defined in the superclass, facilitating code reusability and maintaining inheritance relationships.\n",
    "\n",
    "Example Demonstrating super() in Constructors:\"\"\"\n",
    "class ParentClass:\n",
    "    def __init__(self, parent_value):\n",
    "        self.parent_value = parent_value\n",
    "\n",
    "    def display_parent(self):\n",
    "        print(f\"Parent Value: {self.parent_value}\")\n",
    "\n",
    "\n",
    "class ChildClass(ParentClass):\n",
    "    def __init__(self, parent_value, child_value):\n",
    "        super().__init__(parent_value)  # Calling the parent class constructor\n",
    "        self.child_value = child_value\n",
    "\n",
    "    def display_child(self):\n",
    "        print(f\"Child Value: {self.child_value}\")\n",
    "\n",
    "\n",
    "# Creating an instance of the ChildClass\n",
    "child_obj = ChildClass(\"Parent\", \"Child\")\n",
    "\n",
    "# Accessing values and methods from both ParentClass and ChildClass\n",
    "child_obj.display_parent()  # Output: Parent Value: Parent\n",
    "child_obj.display_child()   # Output: Child Value: Child"
   ]
  },
  {
   "cell_type": "code",
   "execution_count": null,
   "id": "0d38d312-8fad-4c44-8600-1636b4de5b67",
   "metadata": {},
   "outputs": [],
   "source": [
    "13. Create a class called `Book` with a constructor that initializes the `title`, `author`, and `published_year` \n",
    "attributes. Provide a method to display book details"
   ]
  },
  {
   "cell_type": "code",
   "execution_count": 9,
   "id": "9a7fc9a0-1dee-4720-8383-a72554e6bba4",
   "metadata": {},
   "outputs": [
    {
     "name": "stdout",
     "output_type": "stream",
     "text": [
      "Title: Python Programming\n",
      "Author: Guido van Rossum\n",
      "Published Year: 1991\n"
     ]
    }
   ],
   "source": [
    "class Book:\n",
    "    def __init__(self, title, author, published_year):\n",
    "        self.title = title\n",
    "        self.author = author\n",
    "        self.published_year = published_year\n",
    "\n",
    "    def display_details(self):\n",
    "        print(f\"Title: {self.title}\")\n",
    "        print(f\"Author: {self.author}\")\n",
    "        print(f\"Published Year: {self.published_year}\")\n",
    "\n",
    "# Creating an instance of Book and displaying book details\n",
    "book = Book(\"Python Programming\", \"Guido van Rossum\", 1991)\n",
    "book.display_details()"
   ]
  },
  {
   "cell_type": "code",
   "execution_count": null,
   "id": "2c38aff1-7de6-4068-b67a-22aee855ad05",
   "metadata": {},
   "outputs": [],
   "source": [
    "14. Discuss the differences between constructors and regular methods in Python classes."
   ]
  },
  {
   "cell_type": "code",
   "execution_count": null,
   "id": "578a41a5-7d5a-4219-9646-f91ba734a9d0",
   "metadata": {},
   "outputs": [],
   "source": [
    "Constructors:\n",
    "Initialization: Constructors, denoted by the __init__() method, are used to initialize object attributes when an instance of the class is created.\n",
    "Automatic Invocation: Constructors are automatically called when an object of the class is instantiated.\n",
    "Single Constructor: In Python, a class typically has only one constructor, although you can use techniques like default argument values to simulate multiple constructor behaviors.\n",
    "Name Conventions: Constructors have a fixed name (__init__()) that identifies them as initialization methods for objects.\n",
    "No Return Value: Constructors don't return any value explicitly; they initialize the object state.\n",
    "Regular Methods:\n",
    "    Perform Actions: Regular methods in a class are functions defined within the class to perform specific actions or operations on object attributes.\n",
    "Invocation: Regular methods are called explicitly on instances of the class using the instance name followed by the method name.\n",
    "Multiple Methods: A class can have multiple regular methods, each performing different actions or computations on object attributes.\n",
    "Flexible Naming: Regular methods can have diverse names based on the actions they perform. They are not bound by any specific naming convention.\n",
    "Can Return Values: Regular methods can return values or perform specific tasks and computations, unlike constructors that initialize object attributes without returning any explicit value."
   ]
  },
  {
   "cell_type": "code",
   "execution_count": null,
   "id": "723a63f0-ff71-4435-b512-b6b9f89c5776",
   "metadata": {},
   "outputs": [],
   "source": [
    "15. Explain the role of the `self` parameter in instance variable initialization within a constructor."
   ]
  },
  {
   "cell_type": "code",
   "execution_count": null,
   "id": "499f2b41-a3e7-4c94-a671-6e01b103bdab",
   "metadata": {},
   "outputs": [],
   "source": [
    "In Python, the self parameter in a constructor (__init__() method) plays a crucial role in initializing instance variables within a class. The self parameter refers to the specific instance of the class being manipulated and allows access to and manipulation of instance variables.\n",
    "\n",
    "Role of self in Instance Variable Initialization:\n",
    "Instance Specificity: self helps differentiate between instance variables (attributes) and local variables within a method. It points to the instance of the class where the method is invoked, ensuring that instance-specific attributes are accessed and modified.\n",
    "\n",
    "Attribute Assignment: Within the constructor, self is used to assign initial values to instance variables. By using self.attribute_name, the instance variables are created and associated with the specific instance of the class."
   ]
  },
  {
   "cell_type": "code",
   "execution_count": null,
   "id": "57bf5d5d-1f0d-48c0-9c70-f26adb828855",
   "metadata": {},
   "outputs": [],
   "source": [
    "16. How do you prevent a class from having multiple instances by using constructors in Python? Provide an example."
   ]
  },
  {
   "cell_type": "code",
   "execution_count": 10,
   "id": "da74fc42-114c-4807-aac7-27e51bb5bac7",
   "metadata": {},
   "outputs": [
    {
     "name": "stdout",
     "output_type": "stream",
     "text": [
      "10\n",
      "10\n"
     ]
    }
   ],
   "source": [
    "\"\"\"In Python, you can prevent a class from having multiple instances by implementing a design pattern called the Singleton pattern. The Singleton pattern ensures that a class has only one instance throughout the program's execution.\n",
    "\n",
    "To achieve this, you can use a class variable to store the instance and control its creation by allowing creation only if an instance doesn't exist yet. Here's an example:\"\"\"\n",
    "class Singleton:\n",
    "    _instance = None\n",
    "\n",
    "    def __new__(cls, *args, **kwargs):\n",
    "        if cls._instance is None:\n",
    "            cls._instance = super().__new__(cls)\n",
    "        return cls._instance\n",
    "\n",
    "    def __init__(self, value):\n",
    "        if not hasattr(self, 'initialized'):\n",
    "            self.value = value\n",
    "            self.initialized = True\n",
    "\n",
    "# Creating instances\n",
    "singleton_instance_1 = Singleton(10)\n",
    "singleton_instance_2 = Singleton(20)\n",
    "\n",
    "print(singleton_instance_1.value)  # Output: 10\n",
    "print(singleton_instance_2.value)  # Output: 10 (same as instance 1)"
   ]
  },
  {
   "cell_type": "code",
   "execution_count": null,
   "id": "4698bc78-8a3b-4f96-b61b-59c0d6cca482",
   "metadata": {},
   "outputs": [],
   "source": [
    "17. Create a Python class called `Student` with a constructor that takes a list of subjects as a parameter and \n",
    "initializes the `subjects` attribute."
   ]
  },
  {
   "cell_type": "code",
   "execution_count": 11,
   "id": "723884eb-8a91-4b9c-b0c0-ba837355b8ab",
   "metadata": {},
   "outputs": [
    {
     "name": "stdout",
     "output_type": "stream",
     "text": [
      "List of Subjects:\n",
      "Math\n",
      "Science\n",
      "History\n",
      "English\n"
     ]
    }
   ],
   "source": [
    "class Student:\n",
    "    def __init__(self, subjects):\n",
    "        self.subjects = subjects\n",
    "\n",
    "    def display_subjects(self):\n",
    "        print(\"List of Subjects:\")\n",
    "        for subject in self.subjects:\n",
    "            print(subject)\n",
    "\n",
    "# Creating an instance of Student and providing a list of subjects\n",
    "student = Student(['Math', 'Science', 'History', 'English'])\n",
    "\n",
    "# Displaying the list of subjects for the student\n",
    "student.display_subjects()"
   ]
  },
  {
   "cell_type": "code",
   "execution_count": null,
   "id": "2b400ab3-915f-49e4-aa4e-ab2e696ea216",
   "metadata": {},
   "outputs": [],
   "source": [
    "18. What is the purpose of the `__del__` method in Python classes, and how does it relate to constructors?"
   ]
  },
  {
   "cell_type": "code",
   "execution_count": null,
   "id": "a97cf9a5-134d-4384-8120-358a1c6af712",
   "metadata": {},
   "outputs": [],
   "source": [
    "The __del__ method in Python classes, also known as the destructor, serves the purpose of performing cleanup actions or releasing resources associated with an object before it is destroyed or deallocated.\n",
    "\n",
    "Purpose of __del__ Method:\n",
    "Resource Cleanup: It allows you to define actions or operations that need to be performed before an object is destroyed.\n",
    "Release Resources: Use it to release resources like file handles, network connections, or any other system-level resources acquired during the object's lifetime.\n",
    "Relationship with Constructors (__init__):\n",
    "While constructors (__init__ methods) are called when an object is created, the __del__ method is invoked just before an object is destroyed or deallocated.\n",
    "Constructors are used for initializing object attributes, while __del__ is used for cleanup or finalization before the object is removed from memory."
   ]
  },
  {
   "cell_type": "code",
   "execution_count": null,
   "id": "511bb5f4-2685-4823-8d43-1a99a647c61e",
   "metadata": {},
   "outputs": [],
   "source": [
    "19. Explain the use of constructor chaining in Python. Provide a practical example."
   ]
  },
  {
   "cell_type": "code",
   "execution_count": 14,
   "id": "052f9c50-d7d6-4206-a052-5b921d8e5522",
   "metadata": {},
   "outputs": [
    {
     "name": "stdout",
     "output_type": "stream",
     "text": [
      "Parent Constructor\n",
      "Child Constructor\n"
     ]
    }
   ],
   "source": [
    "\"\"\"Constructor chaining refers to the process of one constructor calling another constructor within the same class or in the parent class. \n",
    "In Python, this is achieved using the super() function to call constructors in the parent class or in a specific class within the inheritance hierarchy.\n",
    "\n",
    "Example of Constructor Chaining:\"\"\"\n",
    "class ParentClass:\n",
    "    def __init__(self, parent_attribute):\n",
    "        self.parent_attribute = parent_attribute\n",
    "        print(\"Parent Constructor\")\n",
    "\n",
    "class ChildClass(ParentClass):\n",
    "    def __init__(self, parent_attribute, child_attribute):\n",
    "        super().__init__(parent_attribute)  # Calling the parent class constructor\n",
    "        self.child_attribute = child_attribute\n",
    "        print(\"Child Constructor\")\n",
    "\n",
    "# Creating an instance of the ChildClass\n",
    "child_obj = ChildClass(\"Parent Value\", \"Child Value\")"
   ]
  },
  {
   "cell_type": "code",
   "execution_count": null,
   "id": "e7ed93ce-6209-4b35-b451-d93f631d16ef",
   "metadata": {},
   "outputs": [],
   "source": [
    "20. Create a Python class called `Car` with a default constructor that initializes the `make` and `model` attributes. \n",
    "Provide a method to display car information."
   ]
  },
  {
   "cell_type": "code",
   "execution_count": 15,
   "id": "4537144c-3a44-4a1c-bc9d-01541ea1b860",
   "metadata": {},
   "outputs": [
    {
     "name": "stdout",
     "output_type": "stream",
     "text": [
      "Make: Unknown\n",
      "Model: Unknown\n"
     ]
    }
   ],
   "source": [
    "class Car:\n",
    "    def __init__(self, make=\"Unknown\", model=\"Unknown\"):\n",
    "        self.make = make\n",
    "        self.model = model\n",
    "\n",
    "    def display_info(self):\n",
    "        print(f\"Make: {self.make}\")\n",
    "        print(f\"Model: {self.model}\")\n",
    "\n",
    "# Creating an instance of Car with default values\n",
    "car = Car()\n",
    "car.display_info()"
   ]
  },
  {
   "cell_type": "code",
   "execution_count": null,
   "id": "a99a221e-f7a7-4f6b-8596-962ba3b97cf6",
   "metadata": {},
   "outputs": [],
   "source": [
    "Inheritance:"
   ]
  },
  {
   "cell_type": "code",
   "execution_count": null,
   "id": "e9cf98c3-5ad4-4e2d-afa2-3aa9b43caa80",
   "metadata": {},
   "outputs": [],
   "source": [
    "1. What is inheritance in Python? Explain its significance in object-oriented programming."
   ]
  },
  {
   "cell_type": "code",
   "execution_count": null,
   "id": "155aca8a-e0b0-44d9-8ae6-73c4b9266e94",
   "metadata": {},
   "outputs": [],
   "source": [
    "In Python, inheritance is a fundamental concept in object-oriented programming (OOP) that allows a new class (derived or child class) to inherit properties and behaviors (attributes and methods) from an existing class (base or parent class).\n",
    "\n",
    "The child class can access and use the attributes and methods of the parent class without redefining them, promoting code reusability and organization. \n",
    "This process of inheritance establishes an \"is-a\" relationship between the classes, where the derived class is a specialized version of the base class.\n",
    "\n",
    "Significance of inheritance in OOP:\n",
    "\n",
    "Code Reusability: Inheritance enables the reuse of code by allowing classes to inherit attributes and methods from their parent classes.\n",
    "Developers can avoid rewriting existing code, reducing redundancy and improving efficiency.\n",
    "\n",
    "Extensibility: Child classes can extend or override the behavior of the parent class by adding new methods or modifying existing ones. \n",
    "This allows for customization and specialization while maintaining the core functionalities inherited from the parent.\n",
    "Organizational Structure: Inheritance facilitates a hierarchical structure among classes, making the codebase more organized and easier to understand. \n",
    "It establishes relationships between classes, showing how they relate to each other in terms of functionality.\n",
    "\n",
    "Polymorphism: In Python, inheritance contributes to polymorphism, allowing objects of different classes to be treated as objects of a common parent class. \n",
    "This flexibility enables writing more generic and adaptable code that can work with various object types."
   ]
  },
  {
   "cell_type": "code",
   "execution_count": null,
   "id": "1ca588f0-882d-466d-b306-6ac12712f666",
   "metadata": {},
   "outputs": [],
   "source": [
    "2. Differentiate between single inheritance and multiple inheritance in Python. Provide examples for each."
   ]
  },
  {
   "cell_type": "code",
   "execution_count": 1,
   "id": "517de50f-cf42-4cb5-bf7f-9053366392d2",
   "metadata": {},
   "outputs": [
    {
     "name": "stdout",
     "output_type": "stream",
     "text": [
      "Woof!\n",
      "Woof!\n",
      "The dog is playing fetch!\n"
     ]
    }
   ],
   "source": [
    "#Single Inheritance:\n",
    "#Single inheritance refers to the concept where a class inherits attributes and methods from only one parent class.\n",
    "\n",
    "#Example of single inheritance:\n",
    "# Parent class\n",
    "class Animal:\n",
    "    def make_sound(self):\n",
    "        pass  # Placeholder method\n",
    "\n",
    "# Child class inheriting from Animal\n",
    "class Dog(Animal):\n",
    "    def make_sound(self):\n",
    "        return \"Woof!\"\n",
    "\n",
    "# Creating an instance\n",
    "dog = Dog()\n",
    "print(dog.make_sound())  # Output: Woof!\n",
    "\n",
    "#Multiple Inheritance:\n",
    "#Multiple inheritance refers to the concept where a class can inherit attributes and methods from more than one parent class.\n",
    "#Example of multiple inheritance:\n",
    "# Parent class 1\n",
    "class Animal:\n",
    "    def make_sound(self):\n",
    "        pass  # Placeholder method\n",
    "\n",
    "# Parent class 2\n",
    "class Pet:\n",
    "    def play(self):\n",
    "        pass  # Placeholder method\n",
    "\n",
    "# Child class inheriting from both Animal and Pet\n",
    "class Dog(Animal, Pet):\n",
    "    def make_sound(self):\n",
    "        return \"Woof!\"\n",
    "\n",
    "    def play(self):\n",
    "        return \"The dog is playing fetch!\"\n",
    "\n",
    "# Creating an instance\n",
    "dog = Dog()\n",
    "print(dog.make_sound())  # Output: Woof!\n",
    "print(dog.play())        # Output: The dog is playing fetch!"
   ]
  },
  {
   "cell_type": "code",
   "execution_count": null,
   "id": "558b13fc-01d8-4255-bbb7-bf4c87fd9f12",
   "metadata": {},
   "outputs": [],
   "source": [
    "3. Create a Python class called `Vehicle` with attributes `color` and `speed`. Then, create a child class called `Car` that inherits from `Vehicle` and adds a `brand` attribute.\n",
    "Provide an example of creating a `Car` object."
   ]
  },
  {
   "cell_type": "code",
   "execution_count": 2,
   "id": "84f697f1-e250-47c8-84a4-c8379f94ea13",
   "metadata": {},
   "outputs": [
    {
     "name": "stdout",
     "output_type": "stream",
     "text": [
      "Color: Red\n",
      "Speed: 60\n",
      "Brand: Toyota\n"
     ]
    }
   ],
   "source": [
    "# Parent class\n",
    "class Vehicle:\n",
    "    def __init__(self, color, speed):\n",
    "        self.color = color\n",
    "        self.speed = speed\n",
    "\n",
    "# Child class inheriting from Vehicle\n",
    "class Car(Vehicle):\n",
    "    def __init__(self, color, speed, brand):\n",
    "        super().__init__(color, speed)\n",
    "        self.brand = brand\n",
    "\n",
    "# Creating a Car object\n",
    "my_car = Car('Red', 60, 'Toyota')\n",
    "\n",
    "# Accessing attributes of the Car object\n",
    "print(f\"Color: {my_car.color}\")  # Output: Color: Red\n",
    "print(f\"Speed: {my_car.speed}\")  # Output: Speed: 60\n",
    "print(f\"Brand: {my_car.brand}\")  # Output: Brand: Toyota"
   ]
  },
  {
   "cell_type": "code",
   "execution_count": null,
   "id": "7bd88485-0951-4c5a-b916-d879aa281d87",
   "metadata": {},
   "outputs": [],
   "source": [
    "4. Explain the concept of method overriding in inheritance. Provide a practical example."
   ]
  },
  {
   "cell_type": "code",
   "execution_count": 3,
   "id": "526f4850-aa0c-4779-94ee-71b215f81ec6",
   "metadata": {},
   "outputs": [
    {
     "name": "stdout",
     "output_type": "stream",
     "text": [
      "Generic animal sound\n",
      "Woof!\n",
      "Meow!\n"
     ]
    }
   ],
   "source": [
    "\"\"\"Method overriding in inheritance refers to the ability of a subclass to provide a specific implementation for a method that is already defined in its parent class. \n",
    "When a method in the subclass has the same name, parameters, and return type as a method in the parent class, the method in the subclass overrides (replaces) the method in the parent class.\n",
    "\n",
    "Here's a practical example to illustrate method overriding:\"\"\"\n",
    "# Parent class\n",
    "class Animal:\n",
    "    def make_sound(self):\n",
    "        return \"Generic animal sound\"\n",
    "\n",
    "# Child class inheriting from Animal\n",
    "class Dog(Animal):\n",
    "    def make_sound(self):\n",
    "        return \"Woof!\"\n",
    "\n",
    "# Child class inheriting from Animal\n",
    "class Cat(Animal):\n",
    "    def make_sound(self):\n",
    "        return \"Meow!\"\n",
    "\n",
    "# Creating instances\n",
    "animal = Animal()\n",
    "dog = Dog()\n",
    "cat = Cat()\n",
    "\n",
    "# Calling the overridden method\n",
    "print(animal.make_sound())  # Output: Generic animal sound\n",
    "print(dog.make_sound())    # Output: Woof!\n",
    "print(cat.make_sound())    # Output: Meow!"
   ]
  },
  {
   "cell_type": "code",
   "execution_count": null,
   "id": "d931b8b6-6290-4e83-bfd9-79fb67896a8d",
   "metadata": {},
   "outputs": [],
   "source": [
    "5. How can you access the methods and attributes of a parent class from a child class in Python? Give an example."
   ]
  },
  {
   "cell_type": "code",
   "execution_count": 4,
   "id": "9a1e851f-6176-46e3-8d5c-c0a8df9025a3",
   "metadata": {},
   "outputs": [
    {
     "name": "stdout",
     "output_type": "stream",
     "text": [
      "The Canine (Labrador) makes a sound: Generic animal sound\n",
      "Canine\n",
      "Labrador\n"
     ]
    }
   ],
   "source": [
    "\"\"\"In Python, to access the methods and attributes of a parent class from a child class, you can use the super() function. \n",
    "This allows you to call methods and access attributes of the parent class within the child class.\n",
    "\n",
    "Here's an example demonstrating how to access the parent class's methods and attributes from a child class:\"\"\"\n",
    "# Parent class\n",
    "class Animal:\n",
    "    def __init__(self, species):\n",
    "        self.species = species\n",
    "\n",
    "    def make_sound(self):\n",
    "        return \"Generic animal sound\"\n",
    "\n",
    "# Child class inheriting from Animal\n",
    "class Dog(Animal):\n",
    "    def __init__(self, species, breed):\n",
    "        super().__init__(species)  # Calling the parent class's constructor\n",
    "        self.breed = breed\n",
    "\n",
    "    def make_sound(self):\n",
    "        return \"Woof!\"\n",
    "\n",
    "    def get_species_and_sound(self):\n",
    "        parent_sound = super().make_sound()  # Calling the parent class's method\n",
    "        return f\"The {self.species} ({self.breed}) makes a sound: {parent_sound}\"\n",
    "\n",
    "# Creating a Dog object\n",
    "my_dog = Dog('Canine', 'Labrador')\n",
    "\n",
    "# Accessing methods and attributes\n",
    "print(my_dog.get_species_and_sound())  # Output: The Canine (Labrador) makes a sound: Generic animal sound\n",
    "print(my_dog.species)                  # Output: Canine\n",
    "print(my_dog.breed)                    # Output: Labrador"
   ]
  },
  {
   "cell_type": "code",
   "execution_count": null,
   "id": "9b13aabc-1bc0-4c54-939b-3e4d5a358b3c",
   "metadata": {},
   "outputs": [],
   "source": [
    "6. Discuss the use of the `super()` function in Python inheritance. When and why is it used? Provide an example."
   ]
  },
  {
   "cell_type": "code",
   "execution_count": 5,
   "id": "c4b56e7e-b404-456d-8c71-3c079a28387f",
   "metadata": {},
   "outputs": [
    {
     "name": "stdout",
     "output_type": "stream",
     "text": [
      "Canine\n",
      "Buddy\n",
      "Labrador\n",
      "Woof!\n",
      "Buddy is playing\n"
     ]
    }
   ],
   "source": [
    "\"\"\"The super() function in Python is used to access methods, attributes, and properties of a parent class within a subclass.\n",
    "It provides a way to call methods from the parent class, enabling a subclass to leverage and extend functionalities from its parent.\n",
    "\n",
    "Here's a breakdown of the super() function's use in Python inheritance:\n",
    "\n",
    "Usage:\n",
    "Accessing Parent Class Methods: super() is used to call methods of the parent class from a subclass. \n",
    "This allows for method overriding while still using the parent class's implementation.\n",
    "\n",
    "Initialization of Parent Class: super() is commonly used in a subclass's __init__ method to call the parent class's __init__ method, ensuring that the initialization logic of the parent class is executed.\n",
    "\n",
    "Why Use super()?\n",
    "Maintaining Code Consistency: It ensures that the inheritance chain is maintained and prevents hard-coding the parent class name, making the code more flexible and easier to maintain.\n",
    "Method Resolution Order (MRO): super() considers the Method Resolution Order, which is particularly useful in multiple inheritance scenarios where it correctly identifies the next class in the hierarchy.\n",
    "\n",
    "Supports Cooperative Multiple Inheritance: It facilitates cooperative multiple inheritance by providing a consistent way to invoke methods from parent classes in a predictable order.\n",
    "\n",
    "Example:\n",
    "Consider a scenario with multiple inheritance:\"\"\"\n",
    "    # Parent class\n",
    "class Animal:\n",
    "    def __init__(self, species):\n",
    "        self.species = species\n",
    "\n",
    "    def make_sound(self):\n",
    "        return \"Generic animal sound\"\n",
    "\n",
    "# Parent class\n",
    "class Pet:\n",
    "    def __init__(self, name):\n",
    "        self.name = name\n",
    "\n",
    "    def play(self):\n",
    "        return f\"{self.name} is playing\"\n",
    "\n",
    "# Child class inheriting from Animal and Pet\n",
    "class Dog(Animal, Pet):\n",
    "    def __init__(self, species, name, breed):\n",
    "        super().__init__(species)  # Calling Animal's __init__ method\n",
    "        Pet.__init__(self, name)  # Calling Pet's __init__ method\n",
    "        self.breed = breed\n",
    "\n",
    "    def make_sound(self):\n",
    "        return \"Woof!\"\n",
    "\n",
    "# Creating a Dog object\n",
    "my_dog = Dog('Canine', 'Buddy', 'Labrador')\n",
    "\n",
    "# Accessing attributes and methods\n",
    "print(my_dog.species)  # Output: Canine\n",
    "print(my_dog.name)     # Output: Buddy\n",
    "print(my_dog.breed)    # Output: Labrador\n",
    "print(my_dog.make_sound())  # Output: Woof!\n",
    "print(my_dog.play())   # Output: Buddy is playing"
   ]
  },
  {
   "cell_type": "code",
   "execution_count": null,
   "id": "06fee888-c7c3-4fbf-9114-09ee21406893",
   "metadata": {},
   "outputs": [],
   "source": [
    "7. Create a Python class called `Animal` with a method `speak()`. \n",
    "Then, create child classes `Dog` and `Cat` that inherit from `Animal` and override the `speak()` method. \n",
    "Provide an example of using these classes."
   ]
  },
  {
   "cell_type": "code",
   "execution_count": 6,
   "id": "64f32208-3c1f-4e64-ac8f-c660cca69bf5",
   "metadata": {},
   "outputs": [
    {
     "name": "stdout",
     "output_type": "stream",
     "text": [
      "Generic animal sound\n",
      "Woof!\n",
      "Meow!\n"
     ]
    }
   ],
   "source": [
    "# Parent class\n",
    "class Animal:\n",
    "    def speak(self):\n",
    "        return \"Generic animal sound\"\n",
    "\n",
    "# Child class inheriting from Animal\n",
    "class Dog(Animal):\n",
    "    def speak(self):\n",
    "        return \"Woof!\"\n",
    "\n",
    "# Child class inheriting from Animal\n",
    "class Cat(Animal):\n",
    "    def speak(self):\n",
    "        return \"Meow!\"\n",
    "\n",
    "# Creating instances\n",
    "generic_animal = Animal()\n",
    "dog = Dog()\n",
    "cat = Cat()\n",
    "\n",
    "# Calling overridden methods\n",
    "print(generic_animal.speak())  # Output: Generic animal sound\n",
    "print(dog.speak())             # Output: Woof!\n",
    "print(cat.speak())             # Output: Meow!"
   ]
  },
  {
   "cell_type": "code",
   "execution_count": null,
   "id": "c12a759a-a30d-4184-96b5-9e76ece049d8",
   "metadata": {},
   "outputs": [],
   "source": [
    "8. Explain the role of the `isinstance()` function in Python and how it relates to inheritance."
   ]
  },
  {
   "cell_type": "code",
   "execution_count": null,
   "id": "25310586-fb7e-4269-a061-a60c8ad9e349",
   "metadata": {},
   "outputs": [],
   "source": [
    "The isinstance() function in Python is used to check whether an object belongs to a particular class or subclass. \n",
    "It returns True if the object is an instance of the specified class or any of its subclasses, and False otherwise.\n",
    "\n",
    "Role of isinstance() in Inheritance:\n",
    "Checking Class Membership: It helps in determining if an object is an instance of a specific class, which is crucial in understanding the object's nature and handling it accordingly.\n",
    "\n",
    "Inheritance Testing: isinstance() is instrumental in dealing with inheritance hierarchies. \n",
    "It's used to check if an object is an instance of a particular class or any of its derived classes.\n",
    "\n",
    "Relationship with Inheritance:\n",
    "Checking Subclass Relationships: isinstance() can be used to determine if an object belongs to a specific class or its subclass. \n",
    "For instance, if class B inherits from class A, isinstance(object_of_B, A) will return True because B is a subclass of A.\n",
    "Polymorphic Behavior: It enables code to exhibit polymorphic behavior by allowing methods to accept objects of different subclasses sharing a common base class. \n",
    "This promotes flexibility in handling various object types within the same codebase."
   ]
  },
  {
   "cell_type": "code",
   "execution_count": null,
   "id": "d3a8c934-efe0-4886-82f0-ed766d20d86b",
   "metadata": {},
   "outputs": [],
   "source": [
    "9. What is the purpose of the `issubclass()` function in Python? Provide an example."
   ]
  },
  {
   "cell_type": "code",
   "execution_count": 7,
   "id": "e1009527-7154-4b8c-9c43-558455297445",
   "metadata": {},
   "outputs": [
    {
     "name": "stdout",
     "output_type": "stream",
     "text": [
      "True\n",
      "True\n",
      "True\n",
      "True\n",
      "False\n",
      "False\n"
     ]
    }
   ],
   "source": [
    "\"\"\"The issubclass() function in Python is used to check whether a given class is a subclass of another class. It returns True if the first class is indeed a subclass of the second class or if they are the same class, and False otherwise.\n",
    "\n",
    "Purpose of issubclass():\n",
    "Checking Subclass Relationships: It helps determine the inheritance relationship between classes, checking if one class is a subclass of another.\n",
    "\n",
    "Verification of Class Hierarchy: issubclass() allows validation of class hierarchies, aiding in understanding class relationships and their structure.\n",
    "\n",
    "Example:\"\"\"\n",
    "# Parent class\n",
    "class Animal:\n",
    "    pass\n",
    "\n",
    "# Child classes inheriting from Animal\n",
    "class Dog(Animal):\n",
    "    pass\n",
    "\n",
    "class Cat(Animal):\n",
    "    pass\n",
    "\n",
    "# Checking subclass relationships\n",
    "print(issubclass(Dog, Animal))  # Output: True\n",
    "print(issubclass(Cat, Animal))  # Output: True\n",
    "\n",
    "# Testing the same class\n",
    "print(issubclass(Dog, Dog))     # Output: True\n",
    "print(issubclass(Animal, Animal))  # Output: True\n",
    "\n",
    "# Checking unrelated classes\n",
    "print(issubclass(Cat, Dog))     # Output: False\n",
    "print(issubclass(Animal, Cat))  # Output: False"
   ]
  },
  {
   "cell_type": "code",
   "execution_count": null,
   "id": "b42673b4-436f-4db2-9305-3cbb48b803c3",
   "metadata": {},
   "outputs": [],
   "source": [
    "10. Discuss the concept of constructor inheritance in Python. How are constructors inherited in child classes?"
   ]
  },
  {
   "cell_type": "code",
   "execution_count": 1,
   "id": "7c1a093c-d53e-424c-bff8-47125c43ae8d",
   "metadata": {},
   "outputs": [
    {
     "name": "stdout",
     "output_type": "stream",
     "text": [
      "Animal constructor called\n",
      "Dog constructor called\n"
     ]
    }
   ],
   "source": [
    "\"\"\"In Python, constructors are special methods named __init__() that initialize objects of a class. When it comes to constructor inheritance in child classes, it works similarly to method inheritance. If a child class doesn’t have its own __init__() method, it automatically inherits the constructor from its parent class.\n",
    "\n",
    "Constructor Inheritance:\n",
    "Inheriting Parent's Constructor: If a child class doesn't explicitly define its own __init__() method, upon instantiation, it will automatically call the constructor of the parent class.\n",
    "\n",
    "Overriding Parent's Constructor: If the child class defines its own __init__() method, it can override the constructor inherited from the parent class. In this case, the child class's constructor takes precedence.\n",
    "\n",
    "Example:\"\"\"\n",
    "# Parent class\n",
    "class Animal:\n",
    "    def __init__(self, species):\n",
    "        self.species = species\n",
    "        print(\"Animal constructor called\")\n",
    "\n",
    "# Child class inheriting from Animal\n",
    "class Dog(Animal):\n",
    "    def __init__(self, species, breed):\n",
    "        super().__init__(species)  # Calling the parent class constructor\n",
    "        self.breed = breed\n",
    "        print(\"Dog constructor called\")\n",
    "\n",
    "# Creating a Dog object\n",
    "my_dog = Dog('Canine', 'Labrador')"
   ]
  },
  {
   "cell_type": "code",
   "execution_count": null,
   "id": "2fb9faa8-4d55-481c-9d7e-3b8688a0b02c",
   "metadata": {},
   "outputs": [],
   "source": [
    "11. Create a Python class called `Shape` with a method `area()` that calculates the area of a shape. \n",
    "Then, create child classes `Circle` and `Rectangle` that inherit from `Shape` and implement the `area()` method \n",
    "accordingly. Provide an example"
   ]
  },
  {
   "cell_type": "code",
   "execution_count": 2,
   "id": "c9dcf909-702c-4f63-b77a-6e1725763b4f",
   "metadata": {},
   "outputs": [
    {
     "name": "stdout",
     "output_type": "stream",
     "text": [
      "Area of the circle: 78.54\n",
      "Area of the rectangle: 24\n"
     ]
    }
   ],
   "source": [
    "import math\n",
    "\n",
    "# Parent class\n",
    "class Shape:\n",
    "    def area(self):\n",
    "        pass  # Placeholder method\n",
    "\n",
    "# Child class inheriting from Shape\n",
    "class Circle(Shape):\n",
    "    def __init__(self, radius):\n",
    "        self.radius = radius\n",
    "\n",
    "    def area(self):\n",
    "        return math.pi * self.radius ** 2\n",
    "\n",
    "# Child class inheriting from Shape\n",
    "class Rectangle(Shape):\n",
    "    def __init__(self, width, height):\n",
    "        self.width = width\n",
    "        self.height = height\n",
    "\n",
    "    def area(self):\n",
    "        return self.width * self.height\n",
    "\n",
    "# Creating instances and calculating areas\n",
    "circle = Circle(5)\n",
    "rectangle = Rectangle(4, 6)\n",
    "\n",
    "# Calculating areas\n",
    "print(f\"Area of the circle: {circle.area():.2f}\")      # Output: Area of the circle: 78.54\n",
    "print(f\"Area of the rectangle: {rectangle.area()}\")    # Output: Area of the rectangle: 24"
   ]
  },
  {
   "cell_type": "code",
   "execution_count": null,
   "id": "c731cccb-2739-4084-8449-a40c2f11523e",
   "metadata": {},
   "outputs": [],
   "source": [
    "12. Explain the use of abstract base classes (ABCs) in Python and how they relate to inheritance. Provide an \n",
    "example using the `abc` module."
   ]
  },
  {
   "cell_type": "code",
   "execution_count": 3,
   "id": "01cd8d34-c55d-478d-aac8-689ee1159edf",
   "metadata": {},
   "outputs": [
    {
     "name": "stdout",
     "output_type": "stream",
     "text": [
      "Area of the circle: 78.50\n"
     ]
    }
   ],
   "source": [
    "\"\"\"Abstract Base Classes (ABCs) in Python, provided by the abc module, allow you to define abstract methods within a class. An abstract method is a method defined in a base class but has no implementation. Instead, it's meant to be overridden in the derived classes, forcing those classes to provide their own implementation for the abstract methods.\n",
    "\n",
    "Purpose of ABCs:\n",
    "Defining a Blueprint: ABCs define a blueprint for other classes to follow by specifying the methods that must be implemented in the subclasses. This enforces a contract, ensuring that derived classes provide necessary functionalities.\n",
    "\n",
    "Enforcing Structure: ABCs help in creating a structure for inheritance, guiding subclasses to implement essential methods. If a subclass fails to implement these methods, it raises an error, promoting robust code design.\n",
    "\n",
    "Example using abc module:\"\"\"\n",
    "from abc import ABC, abstractmethod\n",
    "\n",
    "# Abstract Base Class\n",
    "class Shape(ABC):\n",
    "    @abstractmethod\n",
    "    def area(self):\n",
    "        pass\n",
    "\n",
    "# Concrete subclass inheriting from Shape\n",
    "class Circle(Shape):\n",
    "    def __init__(self, radius):\n",
    "        self.radius = radius\n",
    "\n",
    "    def area(self):\n",
    "        return 3.14 * self.radius ** 2\n",
    "\n",
    "# Creating an instance\n",
    "circle = Circle(5)\n",
    "\n",
    "# Accessing the implemented method\n",
    "print(f\"Area of the circle: {circle.area():.2f}\")  # Output: Area of the circle: 78.50\n",
    "    "
   ]
  },
  {
   "cell_type": "code",
   "execution_count": null,
   "id": "d3db9d49-3541-4a59-98f2-3cbff49e0063",
   "metadata": {},
   "outputs": [],
   "source": [
    "13. How can you prevent a child class from modifying certain attributes or methods inherited from a parent \n",
    "class in Python?"
   ]
  },
  {
   "cell_type": "code",
   "execution_count": 5,
   "id": "d5584dc5-157a-4bc1-a4ac-bdead540ca74",
   "metadata": {},
   "outputs": [],
   "source": [
    "\"\"\"In Python, there's no direct way to enforce attribute or method immutability in subclasses that inherit from a parent class. However, there are some practices and techniques you can employ to achieve a level of restriction or prevent modification:\n",
    "\n",
    "1. Encapsulation and Naming Conventions:\n",
    "Use naming conventions like prefixing with an underscore (_) to indicate that certain attributes or methods should not be modified. This doesn't prevent modification but serves as a signal to developers that these elements are intended for internal use and should not be modified directly.\n",
    "2. Documentation and Comments:\n",
    "Clearly document which attributes or methods are not intended for modification. Good documentation can guide developers on proper usage and discourage unnecessary modifications.\n",
    "3. Use of Properties and Getter Methods:\n",
    "    Encapsulate attributes and provide getter methods or properties to access them. By not providing setter methods, you limit direct modification of these attributes.\n",
    "4. Override Methods with a 'Do-Nothing' Implementation:\n",
    "In the parent class, provide methods that raise NotImplementedError or have a 'do-nothing' implementation for methods that should not be modified. This way, attempts to modify these methods in the child class will result in errors or unexpected behavior.\n",
    "Example:\"\"\"\n",
    "class Parent:\n",
    "    def __init__(self):\n",
    "        self._immutable_attribute = 42  # Attribute intended not to be modified\n",
    "\n",
    "    def immutable_method(self):\n",
    "        raise NotImplementedError(\"This method should not be modified in child classes\")\n",
    "\n",
    "class Child(Parent):\n",
    "    def __init__(self):\n",
    "        super().__init__()\n",
    "        # Attempting to modify the inherited immutable attribute will only create a new attribute in the child class\n",
    "        self._immutable_attribute = 100  \n",
    "\n",
    "    def immutable_method(self):\n",
    "        # Providing a new implementation in the child class overrides the parent's method\n",
    "        pass"
   ]
  },
  {
   "cell_type": "code",
   "execution_count": null,
   "id": "4d771ff8-3ce3-4370-a602-c9ea48258a59",
   "metadata": {},
   "outputs": [],
   "source": [
    "14. Create a Python class called `Employee` with attributes `name` and `salary`. Then, create a child class \n",
    "`Manager` that inherits from `Employee` and adds an attribute `department`. Provide an example."
   ]
  },
  {
   "cell_type": "code",
   "execution_count": 6,
   "id": "647b55bd-ffb8-4ce5-89bc-5021886edf8d",
   "metadata": {},
   "outputs": [
    {
     "name": "stdout",
     "output_type": "stream",
     "text": [
      "John earns 50000\n",
      "Alice earns 80000 in the Sales department\n"
     ]
    }
   ],
   "source": [
    "# Parent class\n",
    "class Employee:\n",
    "    def __init__(self, name, salary):\n",
    "        self.name = name\n",
    "        self.salary = salary\n",
    "\n",
    "# Child class inheriting from Employee\n",
    "class Manager(Employee):\n",
    "    def __init__(self, name, salary, department):\n",
    "        super().__init__(name, salary)\n",
    "        self.department = department\n",
    "\n",
    "# Creating instances\n",
    "employee1 = Employee(\"John\", 50000)\n",
    "manager1 = Manager(\"Alice\", 80000, \"Sales\")\n",
    "\n",
    "# Accessing attributes\n",
    "print(f\"{employee1.name} earns {employee1.salary}\")  # Output: John earns 50000\n",
    "print(f\"{manager1.name} earns {manager1.salary} in the {manager1.department} department\")  # Output: Alice earns 80000 in the Sales department"
   ]
  },
  {
   "cell_type": "code",
   "execution_count": null,
   "id": "fd2a319a-a1af-48a6-9bda-a835610c0bf4",
   "metadata": {},
   "outputs": [],
   "source": [
    "15. Discuss the concept of method overloading in Python inheritance. How does it differ from method \n",
    "overriding?"
   ]
  },
  {
   "cell_type": "code",
   "execution_count": null,
   "id": "29d5f462-21ac-4c15-b90c-23dabc842b8c",
   "metadata": {},
   "outputs": [],
   "source": [
    "Method Overloading:\n",
    "Definition: Method overloading refers to defining multiple methods in the same class with the same name but different signatures (different parameters or argument types).\n",
    "Python's Approach: Unlike some other languages like Java or C++, Python doesn't support native method overloading based on the number or types of arguments. \n",
    "In Python, the last defined method with a particular name in a class will overwrite the earlier defined ones.\n",
    "Python achieves a similar functionality using default argument values and *args or **kwargs to handle multiple parameter variations within the same method.\n",
    "Method Overriding:\n",
    "Definition: Method overriding occurs when a subclass provides a specific implementation for a method that is already defined in its parent class. \n",
    "The method in the subclass has the same name, parameters, and return type as the method in the parent class.\n",
    "Python's Approach: Python supports method overriding by allowing a subclass to redefine a method inherited from its parent class. \n",
    "When the method is called on an instance of the subclass, the subclass's implementation of the method is executed instead of the parent class's implementation.\n",
    "Differences:\n",
    "Nature: Method overloading deals with multiple methods having the same name but different parameters, while method overriding deals with redefining a method in a subclass with the same signature as the method in the parent class.\n",
    "Implementation: Method overloading doesn't have direct support in Python due to its dynamic typing and flexibility, while method overriding is a common practice and supported in Python through inheritance."
   ]
  },
  {
   "cell_type": "code",
   "execution_count": null,
   "id": "48becdc8-f6b8-4eca-bf69-8d53fde95e32",
   "metadata": {},
   "outputs": [],
   "source": [
    "16. Explain the purpose of the `__init__()` method in Python inheritance and how it is utilized in child classes."
   ]
  },
  {
   "cell_type": "code",
   "execution_count": 7,
   "id": "14c05b0c-ce5a-4d01-a87a-e3f797483a48",
   "metadata": {},
   "outputs": [
    {
     "name": "stdout",
     "output_type": "stream",
     "text": [
      "Animal initialized\n",
      "Dog initialized\n"
     ]
    }
   ],
   "source": [
    "\"\"\"The __init__() method in Python is a special method, also known as the constructor, used to initialize objects when they are created. In inheritance, the __init__() method plays a crucial role in initializing attributes of both the parent and child classes.\n",
    "\n",
    "Purpose of __init__() in Inheritance:\n",
    "Initialization of Attributes: It initializes the attributes of an object, setting up its initial state during object creation.\n",
    "\n",
    "Inheritance and Attribute Initialization: In the context of inheritance, the __init__() method of the child class can call the __init__() method of the parent class using super().__init__(). This ensures proper initialization of attributes inherited from the parent class.\n",
    "\n",
    "Utilization in Child Classes:\n",
    "Calling Parent Class's __init__(): By calling super().__init__() within the __init__() method of the child class, it invokes the constructor of the parent class. This allows the child class to inherit and initialize attributes defined in the parent class.\n",
    "Example:\"\"\"\n",
    "\n",
    "# Parent class\n",
    "class Animal:\n",
    "    def __init__(self, species):\n",
    "        self.species = species\n",
    "        print(\"Animal initialized\")\n",
    "\n",
    "# Child class inheriting from Animal\n",
    "class Dog(Animal):\n",
    "    def __init__(self, species, breed):\n",
    "        super().__init__(species)  # Calling the parent class's __init__ method\n",
    "        self.breed = breed\n",
    "        print(\"Dog initialized\")\n",
    "\n",
    "# Creating a Dog object\n",
    "my_dog = Dog('Canine', 'Labrador')"
   ]
  },
  {
   "cell_type": "code",
   "execution_count": null,
   "id": "f38129e1-24dd-4343-951a-3e4f79294151",
   "metadata": {},
   "outputs": [],
   "source": [
    "17. Create a Python class called `Bird` with a method `fly()`.\n",
    "Then, create child classes `Eagle` and `Sparrow` that inherit from `Bird` and implement the `fly()` method differently. \n",
    "Provide an example of using these classes."
   ]
  },
  {
   "cell_type": "code",
   "execution_count": 8,
   "id": "9d5383c6-f64b-4bb7-bb94-b8470757a022",
   "metadata": {},
   "outputs": [
    {
     "name": "stdout",
     "output_type": "stream",
     "text": [
      "Generic flying\n",
      "Soaring high in the sky\n",
      "Flying close to the ground\n"
     ]
    }
   ],
   "source": [
    "# Parent class\n",
    "class Bird:\n",
    "    def fly(self):\n",
    "        return \"Generic flying\"\n",
    "\n",
    "# Child class inheriting from Bird\n",
    "class Eagle(Bird):\n",
    "    def fly(self):\n",
    "        return \"Soaring high in the sky\"\n",
    "\n",
    "# Child class inheriting from Bird\n",
    "class Sparrow(Bird):\n",
    "    def fly(self):\n",
    "        return \"Flying close to the ground\"\n",
    "\n",
    "# Creating instances\n",
    "bird = Bird()\n",
    "eagle = Eagle()\n",
    "sparrow = Sparrow()\n",
    "\n",
    "# Accessing methods\n",
    "print(bird.fly())      # Output: Generic flying\n",
    "print(eagle.fly())     # Output: Soaring high in the sky\n",
    "print(sparrow.fly())   # Output: Flying close to the ground"
   ]
  },
  {
   "cell_type": "code",
   "execution_count": null,
   "id": "d381ff1f-2fcc-4114-aa32-6ce496da1e57",
   "metadata": {},
   "outputs": [],
   "source": [
    "18. What is the \"diamond problem\" in multiple inheritance, and how does Python address it?"
   ]
  },
  {
   "cell_type": "code",
   "execution_count": null,
   "id": "9ca6b275-9ffd-4da9-a552-7d4829ca304d",
   "metadata": {},
   "outputs": [],
   "source": [
    "The \"diamond problem\" is a challenge that arises in languages that support multiple inheritance, where a particular class inherits from two or more classes that have a common ancestor. \n",
    "This creates an ambiguous situation where the language might face difficulties in deciding which version of a method or attribute to prioritize due to the shared ancestry.\n",
    "\n",
    "Python's Approach to Address the Diamond Problem:\n",
    "Method Resolution Order (MRO): Python uses a specific algorithm called C3 linearization to determine the order in which methods are resolved in the presence of multiple inheritance. \n",
    "This algorithm defines the Method Resolution Order (MRO), ensuring a consistent and predictable order of method resolution.\n",
    "\n",
    "C3 Linearization: Python's MRO algorithm, known as C3 Linearization, calculates a linearization order for the classes involved in multiple inheritance. \n",
    "It maintains the order in which classes should be searched for methods or attributes. \n",
    "The order is determined based on the depth-first, left-to-right approach, ensuring that a method is searched in a predictable sequence across the inheritance hierarchy.\n",
    "\n",
    "super() Function: Python encourages the use of the super() function to access and call methods from parent classes. This facilitates a consistent and controlled approach to handle methods overridden in multiple inheritance scenarios, allowing for better method resolution and reducing ambiguity.\n",
    "\n",
    "By utilizing MRO and the super() function, Python resolves the diamond problem by providing a clear and predictable order of method resolution, ensuring that the correct method or attribute is accessed in cases of multiple inheritance. \n",
    "This helps avoid ambiguity and inconsistency in method resolution among the classes involved."
   ]
  },
  {
   "cell_type": "code",
   "execution_count": null,
   "id": "16cf7977-5ff7-44fd-a051-0d480f7e59aa",
   "metadata": {},
   "outputs": [],
   "source": [
    "19. Discuss the concept of \"is-a\" and \"has-a\" relationships in inheritance, and provide examples of each."
   ]
  },
  {
   "cell_type": "code",
   "execution_count": 9,
   "id": "e3e29c40-ca5e-454a-95f0-2e67e40ce0e1",
   "metadata": {},
   "outputs": [
    {
     "name": "stdout",
     "output_type": "stream",
     "text": [
      "Roar!\n",
      "Trumpet!\n"
     ]
    }
   ],
   "source": [
    "\"\"\"Inheritance in object-oriented programming often involves establishing relationships between classes. Two fundamental types of relationships are the \"is-a\" relationship and the \"has-a\" relationship.\n",
    "\n",
    "\"is-a\" Relationship:\n",
    "Definition: The \"is-a\" relationship, also known as the inheritance or subclassing relationship, signifies that a class is a specialized version of another class. It represents a hierarchical relationship where a subclass shares characteristics and behaviors of its superclass.\n",
    "Example: In a zoo simulation:\n",
    "Animal is a superclass, and Lion and Elephant are subclasses. A lion and an elephant are both animals, so they inherit attributes and behaviors from the Animal class.\n",
    "Example of \"is-a\" Relationship:\"\"\"\n",
    "# \"is-a\" relationship example\n",
    "class Animal:\n",
    "    def sound(self):\n",
    "        pass  # Placeholder method\n",
    "\n",
    "class Lion(Animal):\n",
    "    def sound(self):\n",
    "        return \"Roar!\"\n",
    "\n",
    "class Elephant(Animal):\n",
    "    def sound(self):\n",
    "        return \"Trumpet!\"\n",
    "\n",
    "lion = Lion()\n",
    "elephant = Elephant()\n",
    "\n",
    "print(lion.sound())      # Output: Roar!\n",
    "print(elephant.sound())  # Output: Trumpet!"
   ]
  },
  {
   "cell_type": "code",
   "execution_count": 10,
   "id": "253f5ab9-341e-499c-821f-4a4ab08bc98e",
   "metadata": {},
   "outputs": [
    {
     "name": "stdout",
     "output_type": "stream",
     "text": [
      "Engine started\n"
     ]
    }
   ],
   "source": [
    "\"\"\"\"has-a\" Relationship:\n",
    "Definition: The \"has-a\" relationship signifies that a class has a component of another class as one of its attributes or components. It represents a composition or aggregation relationship.\n",
    "Example: In a car scenario:\n",
    "A Car has an Engine, meaning the Engine is a part of the Car object.\n",
    "Example of \"has-a\" Relationship:\"\"\"\n",
    "# \"has-a\" relationship example\n",
    "class Engine:\n",
    "    def start(self):\n",
    "        return \"Engine started\"\n",
    "\n",
    "class Car:\n",
    "    def __init__(self):\n",
    "        self.engine = Engine()  # Car has an Engine as an attribute\n",
    "\n",
    "my_car = Car()\n",
    "print(my_car.engine.start())  # Output: Engine started"
   ]
  },
  {
   "cell_type": "code",
   "execution_count": null,
   "id": "fa21bc8b-de5a-43c6-834d-3198290d7754",
   "metadata": {},
   "outputs": [],
   "source": [
    "20. Create a Python class hierarchy for a university system. Start with a base class `Person` and create child \n",
    "classes `Student` and `Professor`, each with their own attributes and methods. Provide an example of using \n",
    "these classes in a university context."
   ]
  },
  {
   "cell_type": "code",
   "execution_count": 11,
   "id": "ff9e3464-2e92-410b-b5ac-67791f0986ab",
   "metadata": {},
   "outputs": [
    {
     "name": "stdout",
     "output_type": "stream",
     "text": [
      "Alice, Age: 20\n",
      "Dr. Smith, Age: 45\n",
      "Alice is studying\n",
      "Dr. Smith is teaching\n"
     ]
    }
   ],
   "source": [
    "# Base class\n",
    "class Person:\n",
    "    def __init__(self, name, age):\n",
    "        self.name = name\n",
    "        self.age = age\n",
    "\n",
    "    def __str__(self):\n",
    "        return f\"{self.name}, Age: {self.age}\"\n",
    "\n",
    "# Child class Student inheriting from Person\n",
    "class Student(Person):\n",
    "    def __init__(self, name, age, student_id):\n",
    "        super().__init__(name, age)\n",
    "        self.student_id = student_id\n",
    "\n",
    "    def study(self):\n",
    "        return f\"{self.name} is studying\"\n",
    "\n",
    "# Child class Professor inheriting from Person\n",
    "class Professor(Person):\n",
    "    def __init__(self, name, age, employee_id):\n",
    "        super().__init__(name, age)\n",
    "        self.employee_id = employee_id\n",
    "\n",
    "    def teach(self):\n",
    "        return f\"{self.name} is teaching\"\n",
    "\n",
    "# Example usage\n",
    "student1 = Student(\"Alice\", 20, \"STU123\")\n",
    "professor1 = Professor(\"Dr. Smith\", 45, \"EMP456\")\n",
    "\n",
    "print(student1)          # Output: Alice, Age: 20\n",
    "print(professor1)        # Output: Dr. Smith, Age: 45\n",
    "\n",
    "print(student1.study())  # Output: Alice is studying\n",
    "print(professor1.teach())# Output: Dr. Smith is teaching"
   ]
  },
  {
   "cell_type": "code",
   "execution_count": null,
   "id": "80cbbe98-3ba9-4921-88a2-566ccf02e129",
   "metadata": {},
   "outputs": [],
   "source": [
    "Encapsulation:"
   ]
  },
  {
   "cell_type": "code",
   "execution_count": null,
   "id": "6100a525-2581-414f-9137-4378b6c23d13",
   "metadata": {},
   "outputs": [],
   "source": [
    "1. Explain the concept of encapsulation in Python. What is its role in object-oriented programming?"
   ]
  },
  {
   "cell_type": "code",
   "execution_count": null,
   "id": "e16f3693-5acc-47cd-baac-8d755f49756a",
   "metadata": {},
   "outputs": [],
   "source": [
    "Encapsulation is a fundamental concept in object-oriented programming (OOP) that refers to the bundling of data (attributes) and methods (functions) that operate on the data within a single unit, usually a class.\n",
    "It aims to restrict direct access to certain components of an object and only allows access through the object's methods.\n",
    "\n",
    "Role of Encapsulation in OOP:\n",
    "Data Hiding: Encapsulation hides the internal state of an object (its attributes), preventing direct modification by external code. \n",
    "This is achieved by marking attributes as private or protected and providing controlled access through getter and setter methods.\n",
    "\n",
    "Abstraction: It allows the internal workings of an object to be hidden, presenting a simplified and more understandable interface to interact with the object. \n",
    "Users need not know the intricate details of how an object works internally; they interact with it through its public methods.\n",
    "\n",
    "Security: Encapsulation improves security by controlling access to certain data or methods. \n",
    "It restricts the modification of critical attributes and ensures that the object remains in a valid state after any operation."
   ]
  },
  {
   "cell_type": "code",
   "execution_count": null,
   "id": "022dce45-6127-4b3d-abfc-3c8f64ef379a",
   "metadata": {},
   "outputs": [],
   "source": [
    "2. Describe the key principles of encapsulation, including access control and data hiding."
   ]
  },
  {
   "cell_type": "code",
   "execution_count": null,
   "id": "fdad68cc-318b-4487-aa39-73d44a165ccb",
   "metadata": {},
   "outputs": [],
   "source": [
    "Encapsulation is a fundamental concept in object-oriented programming that bundles data and methods that operate on the data into a single unit, known as a class. \n",
    "Its key principles involve access control and data hiding:\n",
    "\n",
    "Abstraction: Encapsulation provides an abstraction mechanism by hiding the internal state of an object and exposing only the necessary functionalities through well-defined interfaces. \n",
    "This allows for a clear separation between the internal implementation details and the external interaction with the object.\n",
    "\n",
    "Access Control: It regulates the access to the internal components of an object.\n",
    "Access specifiers like public, private, and protected determine what parts of a class are visible and accessible to other classes or code outside the class.\n",
    "\n",
    "Public: Public members are accessible from outside the class. \n",
    "These members can be accessed and modified directly by external code.\n",
    "\n",
    "Private: Private members are accessible only within the class itself. They cannot be accessed or modified directly from outside the class. \n",
    "Access to private members is typically mediated through public methods, providing controlled access and ensuring data integrity and security.\n",
    "\n",
    "Protected: Protected members are similar to private members but with the additional aspect that they can be accessed by derived classes (subclasses) as well.\n",
    "\n",
    "Data Hiding: Encapsulation involves hiding the internal state of an object from outside interference or tampering. \n",
    "By declaring data members as private, direct access from outside the class is restricted.\n",
    "Instead, public methods (getters and setters) are used to manipulate and access the data, providing controlled and validated access to the object's state.\n",
    "\n",
    "Encapsulation promotes several benefits, such as improved maintainability, reusability, and flexibility of code. \n",
    "It also helps in preventing unintended interference with an object's state, enhancing security and robustness in software systems."
   ]
  },
  {
   "cell_type": "code",
   "execution_count": null,
   "id": "aa7eb05f-4ec8-44d7-818e-8e23832d1989",
   "metadata": {},
   "outputs": [],
   "source": [
    "3. How can you achieve encapsulation in Python classes? Provide an example."
   ]
  },
  {
   "cell_type": "code",
   "execution_count": 1,
   "id": "05e219e3-2b9d-4fb9-be64-0d02970cea07",
   "metadata": {},
   "outputs": [
    {
     "name": "stdout",
     "output_type": "stream",
     "text": [
      "Make: Toyota\n",
      "Model: Camry\n",
      "Year: 2020\n",
      "\n",
      "Modified Make: Honda\n",
      "Modified Model: Accord\n",
      "Modified Year: 2022\n"
     ]
    }
   ],
   "source": [
    "\"\"\"In Python, encapsulation is achieved by using access specifiers and properties to control the visibility and accessibility of class members. \n",
    "Python does not have strict enforcement of private or protected access, but it follows conventions to indicate the level of access.\n",
    "\n",
    "Here's an example demonstrating encapsulation in Python:\"\"\"\n",
    "\n",
    "class Car:\n",
    "    def __init__(self, make, model, year):\n",
    "        self.__make = make  # __make is a private attribute\n",
    "        self.__model = model  # __model is a private attribute\n",
    "        self.__year = year  # __year is a private attribute\n",
    "\n",
    "    # Getter methods to access private attributes\n",
    "    def get_make(self):\n",
    "        return self.__make\n",
    "\n",
    "    def get_model(self):\n",
    "        return self.__model\n",
    "\n",
    "    def get_year(self):\n",
    "        return self.__year\n",
    "\n",
    "    # Setter methods to modify private attributes\n",
    "    def set_make(self, make):\n",
    "        self.__make = make\n",
    "\n",
    "    def set_model(self, model):\n",
    "        self.__model = model\n",
    "\n",
    "    def set_year(self, year):\n",
    "        self.__year = year\n",
    "\n",
    "\n",
    "# Creating an instance of the Car class\n",
    "my_car = Car(\"Toyota\", \"Camry\", 2020)\n",
    "\n",
    "# Accessing private attributes using getter methods\n",
    "print(\"Make:\", my_car.get_make())\n",
    "print(\"Model:\", my_car.get_model())\n",
    "print(\"Year:\", my_car.get_year())\n",
    "\n",
    "# Modifying private attributes using setter methods\n",
    "my_car.set_make(\"Honda\")\n",
    "my_car.set_model(\"Accord\")\n",
    "my_car.set_year(2022)\n",
    "\n",
    "# Displaying modified attributes\n",
    "print(\"\\nModified Make:\", my_car.get_make())\n",
    "print(\"Modified Model:\", my_car.get_model())\n",
    "print(\"Modified Year:\", my_car.get_year())"
   ]
  },
  {
   "cell_type": "code",
   "execution_count": null,
   "id": "8d232f4b-b783-4271-9aae-76c5ae799b52",
   "metadata": {},
   "outputs": [],
   "source": [
    "4. Discuss the difference between public, private, and protected access modifiers in Python."
   ]
  },
  {
   "cell_type": "code",
   "execution_count": 2,
   "id": "eb681da9-869a-4644-948e-c64994772d62",
   "metadata": {},
   "outputs": [
    {
     "name": "stdout",
     "output_type": "stream",
     "text": [
      "10\n",
      "Public Method\n",
      "20\n",
      "Protected Method\n",
      "30\n",
      "Private Method\n"
     ]
    }
   ],
   "source": [
    "\"\"\"In Python, access control is achieved through naming conventions rather than strict access modifiers as seen in some other languages like Java or C++. \n",
    "However, there are conventions that indicate the intended level of access to class members:\n",
    "\n",
    "Public Access:\n",
    "\n",
    "In Python, attributes or methods without any name mangling (no leading underscores) are considered public.\n",
    "They can be accessed and modified directly from outside the class.\n",
    "Example: def method(self): or self.attribute\n",
    "Private Access:\n",
    "\n",
    "Attributes or methods prefixed with a double underscore __ (name mangling) are intended to be private.\n",
    "Python name mangling changes the name of the variable in a way that makes it harder to create collisions when the class is extended later.\n",
    "They are accessible only within the class itself and not from outside the class directly.\n",
    "Example: def __method(self): or self.__attribute\n",
    "Protected Access:\n",
    "\n",
    "Attributes or methods prefixed with a single underscore _ are considered as protected.\n",
    "There's no strict enforcement of protected access in Python, but this naming convention is used to indicate that these members should not be accessed from outside the class or its subclasses.\n",
    "It's more of a convention to indicate that these members are for internal use or for use by subclasses.\n",
    "Example: _protected_attribute\n",
    "The naming conventions in Python help developers understand the intended visibility and usage of class members, but they don't provide strict enforcement like some other languages. \n",
    "For instance, private members can still be accessed in Python, although it's discouraged.\n",
    "\n",
    "Here's an example demonstrating these access levels:\"\"\"\n",
    "\n",
    "class Example:\n",
    "    def __init__(self):\n",
    "        self.public_attribute = 10  # Public attribute\n",
    "        self._protected_attribute = 20  # Protected attribute\n",
    "        self.__private_attribute = 30  # Private attribute\n",
    "\n",
    "    def public_method(self):\n",
    "        print(\"Public Method\")\n",
    "\n",
    "    def _protected_method(self):\n",
    "        print(\"Protected Method\")\n",
    "\n",
    "    def __private_method(self):\n",
    "        print(\"Private Method\")\n",
    "\n",
    "\n",
    "obj = Example()\n",
    "\n",
    "# Accessing public attributes and methods\n",
    "print(obj.public_attribute)\n",
    "obj.public_method()\n",
    "\n",
    "# Accessing protected attributes and methods (conventionally discouraged)\n",
    "print(obj._protected_attribute)\n",
    "obj._protected_method()\n",
    "\n",
    "# Attempting to access private attributes and methods (name mangling)\n",
    "# This will raise an AttributeError because of name mangling\n",
    "# print(obj.__private_attribute)\n",
    "# obj.__private_method()\n",
    "\n",
    "# However, name mangling changes the name of private members, so this works:\n",
    "print(obj._Example__private_attribute)\n",
    "obj._Example__private_method()"
   ]
  },
  {
   "cell_type": "code",
   "execution_count": null,
   "id": "9a76a54a-5046-4dbc-b387-24750522214f",
   "metadata": {},
   "outputs": [],
   "source": [
    "5. Create a Python class called `Person` with a private attribute `__name`. Provide methods to get and set the \n",
    "name attribute."
   ]
  },
  {
   "cell_type": "code",
   "execution_count": 3,
   "id": "88be81ae-4740-4da6-bfbe-a5b16df2c1ae",
   "metadata": {},
   "outputs": [
    {
     "name": "stdout",
     "output_type": "stream",
     "text": [
      "Current Name: Alice\n",
      "Updated Name: Bob\n"
     ]
    }
   ],
   "source": [
    "class Person:\n",
    "    def __init__(self, name):\n",
    "        self.__name = name  # Private attribute\n",
    "\n",
    "    def get_name(self):\n",
    "        return self.__name  # Getter method for private attribute\n",
    "\n",
    "    def set_name(self, new_name):\n",
    "        self.__name = new_name  # Setter method for private attribute\n",
    "\n",
    "\n",
    "# Creating an instance of the Person class\n",
    "person = Person(\"Alice\")\n",
    "\n",
    "# Accessing the name attribute using the getter method\n",
    "print(\"Current Name:\", person.get_name())\n",
    "\n",
    "# Modifying the name attribute using the setter method\n",
    "person.set_name(\"Bob\")\n",
    "\n",
    "# Displaying the updated name attribute\n",
    "print(\"Updated Name:\", person.get_name())"
   ]
  },
  {
   "cell_type": "code",
   "execution_count": null,
   "id": "bd8dbc05-dff3-4cfa-81e8-114b0404d911",
   "metadata": {},
   "outputs": [],
   "source": [
    "6. Explain the purpose of getter and setter methods in encapsulation. Provide examples."
   ]
  },
  {
   "cell_type": "code",
   "execution_count": 4,
   "id": "999bd435-f41b-4109-a2e3-a0014f106e10",
   "metadata": {},
   "outputs": [
    {
     "name": "stdout",
     "output_type": "stream",
     "text": [
      "Current Temperature: 0\n"
     ]
    }
   ],
   "source": [
    "\"\"\"Getter and setter methods play a crucial role in encapsulation by controlling access to the attributes of a class. \n",
    "They allow for indirect access to private attributes, enabling validation, manipulation, and controlled retrieval of data.\n",
    "\n",
    "Purpose of Getter Methods:\n",
    "Getter methods retrieve the values of private attributes. \n",
    "They provide controlled access to these attributes from outside the class, allowing read-only access or performing additional operations before returning the attribute's value. \n",
    "They ensure encapsulation by not directly exposing the internal state of the object.\n",
    "\n",
    "Example:\"\"\"\n",
    "class Temperature:\n",
    "    def __init__(self):\n",
    "        self.__celsius = 0  # Private attribute for temperature in Celsius\n",
    "\n",
    "    def get_temperature(self):\n",
    "        return self.__celsius  # Getter method for accessing temperature\n",
    "\n",
    "# Creating an instance of Temperature class\n",
    "temp = Temperature()\n",
    "\n",
    "# Accessing temperature using the getter method\n",
    "print(\"Current Temperature:\", temp.get_temperature())"
   ]
  },
  {
   "cell_type": "code",
   "execution_count": 5,
   "id": "ff432047-83c7-4b99-ad15-6c292682e027",
   "metadata": {},
   "outputs": [
    {
     "ename": "AttributeError",
     "evalue": "'Temperature' object has no attribute 'get_temperature'",
     "output_type": "error",
     "traceback": [
      "\u001b[0;31m---------------------------------------------------------------------------\u001b[0m",
      "\u001b[0;31mAttributeError\u001b[0m                            Traceback (most recent call last)",
      "Cell \u001b[0;32mIn[5], line 24\u001b[0m\n\u001b[1;32m     21\u001b[0m temp\u001b[38;5;241m.\u001b[39mset_temperature(\u001b[38;5;241m25\u001b[39m)\n\u001b[1;32m     23\u001b[0m \u001b[38;5;66;03m# Accessing the modified temperature using the getter method\u001b[39;00m\n\u001b[0;32m---> 24\u001b[0m \u001b[38;5;28mprint\u001b[39m(\u001b[38;5;124m\"\u001b[39m\u001b[38;5;124mUpdated Temperature:\u001b[39m\u001b[38;5;124m\"\u001b[39m, \u001b[43mtemp\u001b[49m\u001b[38;5;241;43m.\u001b[39;49m\u001b[43mget_temperature\u001b[49m())\n",
      "\u001b[0;31mAttributeError\u001b[0m: 'Temperature' object has no attribute 'get_temperature'"
     ]
    }
   ],
   "source": [
    "\"\"\"Purpose of Setter Methods:\n",
    "Setter methods modify the values of private attributes. \n",
    "They enable controlled modification of the attribute's value, often implementing validation or additional logic before assigning a new value to the attribute.\n",
    "This helps in maintaining the object's integrity and enforcing certain rules for data modification.\n",
    "\n",
    "Example:\"\"\"\n",
    "class Temperature:\n",
    "    def __init__(self):\n",
    "        self.__celsius = 0  # Private attribute for temperature in Celsius\n",
    "\n",
    "    def set_temperature(self, value):\n",
    "        if value < -273.15:\n",
    "            raise ValueError(\"Temperature cannot be below -273.15 Celsius (absolute zero)\")\n",
    "        else:\n",
    "            self.__celsius = value  # Setter method for modifying temperature\n",
    "\n",
    "# Creating an instance of Temperature class\n",
    "temp = Temperature()\n",
    "\n",
    "# Modifying temperature using the setter method\n",
    "temp.set_temperature(25)\n",
    "\n",
    "# Accessing the modified temperature using the getter method\n",
    "print(\"Updated Temperature:\", temp.get_temperature())"
   ]
  },
  {
   "cell_type": "code",
   "execution_count": null,
   "id": "ddcc20c7-ac86-4c4a-b30b-b2d2de07b300",
   "metadata": {},
   "outputs": [],
   "source": [
    "7. What is name mangling in Python, and how does it affect encapsulation?"
   ]
  },
  {
   "cell_type": "code",
   "execution_count": 2,
   "id": "5018bdd3-ac58-480b-be0d-0718ad2c6876",
   "metadata": {},
   "outputs": [
    {
     "name": "stdout",
     "output_type": "stream",
     "text": [
      "10\n"
     ]
    }
   ],
   "source": [
    "\"\"\"Name mangling in Python is a mechanism used to make class attributes or methods have a different name to avoid name clashes in subclasses.\n",
    "It's primarily achieved by prefixing the attribute or method name with double underscores (__). \n",
    "When Python encounters an identifier of the form __attribute, it internally modifies the name to include the class name as a prefix to prevent accidental overriding in subclasses.\n",
    "\n",
    "For instance, if you have a class MyClass with a private attribute __my_attribute, Python will internally rename it to _MyClass__my_attribute. \n",
    "This alteration helps in avoiding accidental overriding when subclassing, as the attribute's name becomes specific to the class where it was defined.\"\"\"\n",
    "\"\"\"Regarding encapsulation, name mangling in Python doesn't fully restrict access to private attributes. \n",
    "It's more of a convention and a mechanism to prevent unintentional access or overriding of attributes in subclasses. \n",
    "While it makes it harder to access private attributes directly from outside the class, it's still possible to access them if needed by using the mangled name.\n",
    "\n",
    "Encapsulation in Python relies more on convention rather than strict enforcement. \n",
    "The use of name mangling encourages developers to respect privacy and not access or modify private attributes directly. \n",
    "However, it doesn't provide absolute protection, and access to these attributes is still possible with the mangled names, emphasizing the importance of adhering to conventions for proper encapsulation.\"\"\"\n",
    "\n",
    "class MyClass:\n",
    "    def __init__(self):\n",
    "        self.__my_attribute = 10\n",
    "\n",
    "obj = MyClass()\n",
    "\n",
    "# Accessing the private attribute directly\n",
    "# This will not work due to name mangling\n",
    "# print(obj.__my_attribute)\n",
    "\n",
    "# However, Python name mangling changes the name\n",
    "# You can access it like this:\n",
    "print(obj._MyClass__my_attribute)  # Output: 10"
   ]
  },
  {
   "cell_type": "code",
   "execution_count": null,
   "id": "d0e54867-43c8-47b7-9842-7ac05ba2a20e",
   "metadata": {},
   "outputs": [],
   "source": [
    "8. Create a Python class called `BankAccount` with private attributes for the account balance (`__balance`) and\n",
    "account number (`__account_number`). Provide methods for depositing and withdrawing money."
   ]
  },
  {
   "cell_type": "code",
   "execution_count": 1,
   "id": "671fc1e2-2b80-485b-9dd6-e834206fcd6e",
   "metadata": {},
   "outputs": [],
   "source": [
    "class BankAccount:\n",
    "    def __init__(self, account_number, initial_balance=0):\n",
    "        self.__account_number = account_number\n",
    "        self.__balance = initial_balance\n",
    "\n",
    "    def deposit(self, amount):\n",
    "        if amount > 0:\n",
    "            self.__balance += amount\n",
    "            return f\"Deposited {amount} successfully. New balance is {self.__balance}.\"\n",
    "        else:\n",
    "            return \"Deposit amount should be greater than zero.\"\n",
    "\n",
    "    def withdraw(self, amount):\n",
    "        if amount > 0:\n",
    "            if self.__balance >= amount:\n",
    "                self.__balance -= amount\n",
    "                return f\"Withdrawn {amount} successfully. New balance is {self.__balance}.\"\n",
    "            else:\n",
    "                return \"Insufficient funds.\"\n",
    "        else:\n",
    "            return \"Withdrawal amount should be greater than zero.\"\n",
    "\n",
    "    def get_balance(self):\n",
    "        return f\"Account balance: {self.__balance}\"\n",
    "\n",
    "    def get_account_number(self):\n",
    "        return f\"Account number: {self.__account_number}\""
   ]
  },
  {
   "cell_type": "code",
   "execution_count": null,
   "id": "8092cef4-11a3-43fc-8999-ba9a31308ba5",
   "metadata": {},
   "outputs": [],
   "source": [
    "9. Discuss the advantages of encapsulation in terms of code maintainability and security."
   ]
  },
  {
   "cell_type": "code",
   "execution_count": null,
   "id": "e96f9363-07d1-46ac-a9c7-112212604370",
   "metadata": {},
   "outputs": [],
   "source": [
    "Encapsulation, one of the core principles of object-oriented programming (OOP), refers to the bundling of data (attributes) and methods (functions) that operate on the data within a single unit, typically a class. \n",
    "This concept offers several advantages in terms of code maintainability and security:\n",
    "\n",
    "Modularity and Abstraction:\n",
    "\n",
    "Encapsulation helps in creating modules where the internal workings of an object are hidden from the outside world. \n",
    "This abstraction allows developers to focus on using the object's interface (public methods), reducing complexity and dependencies on internal implementation details.\n",
    "Code Maintainability:\n",
    "\n",
    "By hiding the internal implementation details, encapsulation helps in improving code maintainability. \n",
    "Changes to the internal structure or behavior of an object can be made without affecting the code that uses the object's interface. \n",
    "This allows for easier updates and modifications without breaking existing code.\n",
    "Controlled Access:\n",
    "\n",
    "Encapsulation allows for control over access to the data within an object. \n",
    "By using access modifiers like public, private, and protected, it restricts direct access to certain data or methods, ensuring that data is accessed and modified only through defined interfaces (getters and setters).\n",
    "Security and Data Integrity:\n",
    "\n",
    "With encapsulation, sensitive data can be hidden and accessed or modified only through controlled methods. \n",
    "This reduces the risk of unintended modification or corruption of data, enhancing security and maintaining data integrity.\n",
    "Encapsulation Supports Inheritance and Polymorphism:\n",
    "\n",
    "Encapsulation provides a foundation for other OOP principles like inheritance and polymorphism. \n",
    "Inheritance allows the creation of new classes based on existing ones while maintaining encapsulation. \n",
    "Polymorphism enables objects of different classes to be treated as objects of a common superclass, preserving encapsulation through a shared interface.\n",
    "Easier Debugging and Testing:\n",
    "\n",
    "Encapsulation aids in debugging and testing by isolating the behavior and state of an object. \n",
    "With clearly defined interfaces, it becomes easier to test the object's functionality and locate issues within the object's methods without diving into its internal implementation details.\n",
    "Overall, encapsulation promotes code organization, reduces complexity, enhances security by controlling access to data, and facilitates easier maintenance and extension of codebases in the long run.\n"
   ]
  },
  {
   "cell_type": "code",
   "execution_count": null,
   "id": "afaca6c7-ffda-4175-89f2-443ae57d3d43",
   "metadata": {},
   "outputs": [],
   "source": [
    "10. How can you access private attributes in Python? Provide an example demonstrating the use of name mangling."
   ]
  },
  {
   "cell_type": "code",
   "execution_count": 2,
   "id": "64340afa-ace5-4952-8627-ed20b2849b74",
   "metadata": {},
   "outputs": [
    {
     "name": "stdout",
     "output_type": "stream",
     "text": [
      "10\n",
      "20\n"
     ]
    }
   ],
   "source": [
    "\"\"\"In Python, private attributes are not truly private; they can be accessed indirectly using a mechanism called \"name mangling.\" \n",
    "Name mangling is a feature that allows private variables to be accessed in a limited way outside of the class they belong to.\n",
    "\n",
    "Private attributes in Python are denoted by prefixing them with double underscores (__). \n",
    "However, they can still be accessed using a modified name that Python internally applies, altering the name to include the class name.\n",
    "\n",
    "Here's an example demonstrating the use of name mangling to access private attributes:\"\"\"\n",
    "class MyClass:\n",
    "    def __init__(self):\n",
    "        self.__private_attribute = 10\n",
    "\n",
    "    def get_private_attribute(self):\n",
    "        return self.__private_attribute\n",
    "\n",
    "# Accessing private attribute using name mangling\n",
    "obj = MyClass()\n",
    "# This will throw an AttributeError\n",
    "# print(obj.__private_attribute)\n",
    "\n",
    "# Accessing private attribute using name mangling\n",
    "print(obj._MyClass__private_attribute)  # Output: 10\n",
    "\n",
    "# Modifying private attribute using name mangling\n",
    "obj._MyClass__private_attribute = 20\n",
    "print(obj.get_private_attribute())  # Output: 20"
   ]
  },
  {
   "cell_type": "code",
   "execution_count": null,
   "id": "32d6a6b4-721b-4dc1-8690-40eb54fbfb03",
   "metadata": {},
   "outputs": [],
   "source": [
    "11. Create a Python class hierarchy for a school system, including classes for students, teachers, and courses, and implement \n",
    "encapsulation principles to protect sensitive information."
   ]
  },
  {
   "cell_type": "code",
   "execution_count": 3,
   "id": "e48759cc-630b-4142-8219-1ed9636239f5",
   "metadata": {},
   "outputs": [
    {
     "name": "stdout",
     "output_type": "stream",
     "text": [
      "Student: Alice (ID: S001), Age: 16, Gender: Female\n",
      "Courses enrolled: ['Course: MATH101 - Introduction to Mathematics', 'Course: SCI202 - Physics']\n",
      "Teacher: Mr. Smith (ID: T001), Age: 35, Gender: Male\n",
      "Courses taught: ['Course: MATH101 - Introduction to Mathematics', 'Course: SCI202 - Physics']\n"
     ]
    }
   ],
   "source": [
    "class Course:\n",
    "    def __init__(self, course_code, course_name):\n",
    "        self.__course_code = course_code\n",
    "        self.__course_name = course_name\n",
    "\n",
    "    def get_course_info(self):\n",
    "        return f\"Course: {self.__course_code} - {self.__course_name}\"\n",
    "\n",
    "\n",
    "class Person:\n",
    "    def __init__(self, name, age, gender):\n",
    "        self.__name = name\n",
    "        self.__age = age\n",
    "        self.__gender = gender\n",
    "\n",
    "    def get_name(self):\n",
    "        return self.__name\n",
    "\n",
    "    def get_age(self):\n",
    "        return self.__age\n",
    "\n",
    "    def get_gender(self):\n",
    "        return self.__gender\n",
    "\n",
    "\n",
    "class Student(Person):\n",
    "    def __init__(self, name, age, gender, student_id):\n",
    "        super().__init__(name, age, gender)\n",
    "        self.__student_id = student_id\n",
    "        self.__courses = []\n",
    "\n",
    "    def get_student_info(self):\n",
    "        return f\"Student: {self.get_name()} (ID: {self.__student_id}), Age: {self.get_age()}, Gender: {self.get_gender()}\"\n",
    "\n",
    "    def enroll_course(self, course):\n",
    "        self.__courses.append(course)\n",
    "\n",
    "    def get_courses_enrolled(self):\n",
    "        return [course.get_course_info() for course in self.__courses]\n",
    "\n",
    "\n",
    "class Teacher(Person):\n",
    "    def __init__(self, name, age, gender, teacher_id):\n",
    "        super().__init__(name, age, gender)\n",
    "        self.__teacher_id = teacher_id\n",
    "        self.__courses_taught = []\n",
    "\n",
    "    def get_teacher_info(self):\n",
    "        return f\"Teacher: {self.get_name()} (ID: {self.__teacher_id}), Age: {self.get_age()}, Gender: {self.get_gender()}\"\n",
    "\n",
    "    def assign_course(self, course):\n",
    "        self.__courses_taught.append(course)\n",
    "\n",
    "    def get_courses_taught(self):\n",
    "        return [course.get_course_info() for course in self.__courses_taught]\n",
    "\n",
    "\n",
    "# Example Usage:\n",
    "\n",
    "math_course = Course(\"MATH101\", \"Introduction to Mathematics\")\n",
    "science_course = Course(\"SCI202\", \"Physics\")\n",
    "\n",
    "student1 = Student(\"Alice\", 16, \"Female\", \"S001\")\n",
    "teacher1 = Teacher(\"Mr. Smith\", 35, \"Male\", \"T001\")\n",
    "\n",
    "student1.enroll_course(math_course)\n",
    "student1.enroll_course(science_course)\n",
    "\n",
    "teacher1.assign_course(math_course)\n",
    "teacher1.assign_course(science_course)\n",
    "\n",
    "print(student1.get_student_info())\n",
    "print(\"Courses enrolled:\", student1.get_courses_enrolled())\n",
    "\n",
    "print(teacher1.get_teacher_info())\n",
    "print(\"Courses taught:\", teacher1.get_courses_taught())"
   ]
  },
  {
   "cell_type": "code",
   "execution_count": null,
   "id": "c0de9ffc-648c-418f-bdce-daf59caa4378",
   "metadata": {},
   "outputs": [],
   "source": [
    "12. Explain the concept of property decorators in Python and how they relate to encapsulation."
   ]
  },
  {
   "cell_type": "code",
   "execution_count": null,
   "id": "454f3ad5-c2c7-4bc2-9e49-c23334d961a5",
   "metadata": {},
   "outputs": [],
   "source": [
    "In Python, property decorators (@property, @<attribute>.setter, @<attribute>.deleter) are a way to implement methods that can be accessed like attributes. \n",
    "They are used to define properties within a class to control the access, modification, and deletion of class attributes.\n",
    "\n",
    "@property decorator:\n",
    "It allows defining a method that can be accessed like an attribute.\n",
    "It's used to provide getter functionality and helps encapsulate attribute access by controlling how values are retrieved from an object.\n",
    "@<attribute>.setter decorator:\n",
    "It allows defining a method that sets an attribute's value.\n",
    "It helps encapsulate attribute modification by controlling how values are assigned to an object's attribute.\n",
    "@<attribute>.deleter decorator:\n",
    "    It allows defining a method that deletes an attribute's value.\n",
    "It helps encapsulate attribute deletion by controlling how attributes are removed from an object.\n",
    "Encapsulation and Property Decorators:\n",
    "Property decorators play a crucial role in encapsulation by allowing controlled access to class attributes.\n",
    "They enable the implementation of getter, setter, and deleter methods, allowing developers to define custom behavior when getting, setting, or deleting an attribute's value.\n",
    "This control allows for validation, manipulation, or computation of values before allowing access or modification to the underlying data."
   ]
  },
  {
   "cell_type": "code",
   "execution_count": null,
   "id": "03f93a3f-95d3-4178-a811-92562bd0e06e",
   "metadata": {},
   "outputs": [],
   "source": [
    "13. What is data hiding, and why is it important in encapsulation? Provide examples."
   ]
  },
  {
   "cell_type": "code",
   "execution_count": 4,
   "id": "25c83e9f-6369-45ab-9e37-4f61725b2c55",
   "metadata": {},
   "outputs": [
    {
     "name": "stdout",
     "output_type": "stream",
     "text": [
      "Initial Balance: 1000\n",
      "Updated Balance: 1300\n",
      "Account Number: 12345\n",
      "Updated Account Number: 54321\n"
     ]
    }
   ],
   "source": [
    "\"\"\"Data hiding is the principle of restricting direct access to certain parts of an object or class, typically its attributes or implementation details, from the outside world. \n",
    "It's a core concept in encapsulation that aims to ensure that sensitive or implementation-specific data is not directly accessible or modifiable by external code.\n",
    "\n",
    "Importance of Data Hiding in Encapsulation:\n",
    "Controlled Access:\n",
    "\n",
    "Data hiding ensures that only specified methods or interfaces (getters, setters) can access and modify the internal state of an object.\n",
    "This control prevents unintended or unauthorized changes, maintaining the integrity of the object's data.\n",
    "Security:\n",
    "\n",
    "It enhances security by limiting direct access to sensitive data. Encapsulation, with data hiding, prevents external code from directly manipulating critical information, reducing the risk of data corruption or unauthorized access.\n",
    "Abstraction and Modularity:\n",
    "\n",
    "Data hiding facilitates abstraction by allowing users of a class to interact with its interface (public methods) without needing to understand the underlying implementation details. \n",
    "This separation promotes modularity and simplifies the use of complex systems.\n",
    "Maintainability:\n",
    "\n",
    "It contributes to code maintainability by minimizing dependencies between different parts of a program. \n",
    "Changes to the internal implementation of a class can be made without affecting the code that uses it, as long as the public interface remains consistent.\n",
    "Example demonstrating Data Hiding:\"\"\"\n",
    "class BankAccount:\n",
    "    def __init__(self, account_number, initial_balance=0):\n",
    "        self.__account_number = account_number  # Data hiding with private attribute\n",
    "        self.__balance = initial_balance\n",
    "\n",
    "    def deposit(self, amount):\n",
    "        if amount > 0:\n",
    "            self.__balance += amount\n",
    "\n",
    "    def withdraw(self, amount):\n",
    "        if amount > 0 and self.__balance >= amount:\n",
    "            self.__balance -= amount\n",
    "\n",
    "    def get_balance(self):\n",
    "        return self.__balance\n",
    "\n",
    "    # Example of controlled access through getters and setters\n",
    "    def get_account_number(self):\n",
    "        return self.__account_number\n",
    "\n",
    "    def set_account_number(self, new_account_number):\n",
    "        # Add validation or security checks if needed\n",
    "        self.__account_number = new_account_number\n",
    "\n",
    "\n",
    "# Example usage:\n",
    "\n",
    "account = BankAccount(\"12345\", 1000)\n",
    "\n",
    "# Accessing balance using getter method\n",
    "print(\"Initial Balance:\", account.get_balance())\n",
    "\n",
    "# Modifying balance indirectly through methods\n",
    "account.deposit(500)\n",
    "account.withdraw(200)\n",
    "\n",
    "print(\"Updated Balance:\", account.get_balance())\n",
    "\n",
    "# This will throw an AttributeError as __account_number is private\n",
    "# print(account.__account_number)\n",
    "\n",
    "# Accessing account number using getter and setter methods\n",
    "print(\"Account Number:\", account.get_account_number())\n",
    "account.set_account_number(\"54321\")\n",
    "print(\"Updated Account Number:\", account.get_account_number())"
   ]
  },
  {
   "cell_type": "code",
   "execution_count": null,
   "id": "e036e26e-652d-49be-aab6-8eb6deb626fd",
   "metadata": {},
   "outputs": [],
   "source": [
    "14. Create a Python class called `Employee` with private attributes for salary (`__salary`) and employee ID (`__employee_id`). \n",
    "Provide a method to calculate yearly bonuses."
   ]
  },
  {
   "cell_type": "code",
   "execution_count": 5,
   "id": "f94daa1d-fc8d-4435-9bab-e147996fa7eb",
   "metadata": {},
   "outputs": [
    {
     "name": "stdout",
     "output_type": "stream",
     "text": [
      "Yearly bonus for employee E001: $5000.0\n",
      "Employee salary: $50000\n"
     ]
    }
   ],
   "source": [
    "class Employee:\n",
    "    def __init__(self, employee_id, salary):\n",
    "        self.__employee_id = employee_id\n",
    "        self.__salary = salary\n",
    "\n",
    "    def calculate_yearly_bonus(self, bonus_percentage):\n",
    "        bonus_amount = (bonus_percentage / 100) * self.__salary\n",
    "        return bonus_amount\n",
    "\n",
    "    # Getter method for employee ID\n",
    "    def get_employee_id(self):\n",
    "        return self.__employee_id\n",
    "\n",
    "    # Getter method for salary\n",
    "    def get_salary(self):\n",
    "        return self.__salary\n",
    "\n",
    "\n",
    "# Example usage:\n",
    "\n",
    "employee = Employee(\"E001\", 50000)\n",
    "\n",
    "# Calculate yearly bonus with a bonus percentage of 10%\n",
    "bonus = employee.calculate_yearly_bonus(10)\n",
    "print(f\"Yearly bonus for employee {employee.get_employee_id()}: ${bonus}\")\n",
    "\n",
    "# Accessing salary using getter method\n",
    "print(f\"Employee salary: ${employee.get_salary()}\")"
   ]
  },
  {
   "cell_type": "code",
   "execution_count": null,
   "id": "5018a357-71bd-4c19-b1b8-dcf6d746ff17",
   "metadata": {},
   "outputs": [],
   "source": [
    "15. Discuss the use of accessors and mutators in encapsulation. How do they help maintain control over \n",
    "attribute access?"
   ]
  },
  {
   "cell_type": "code",
   "execution_count": null,
   "id": "ec39e20f-585e-4c6e-80d2-187848bbc1ae",
   "metadata": {},
   "outputs": [],
   "source": [
    "Accessors and mutators, also known as getters and setters, are methods used to access (get) and modify (set) the values of private attributes within a class.\n",
    "They play a crucial role in encapsulation by providing controlled access to class attributes and enabling the implementation of data validation, security checks, and abstraction of implementation details.\n",
    "\n",
    "Accessors (Getters):\n",
    "Purpose: Getters are methods used to access and retrieve the values of private attributes.\n",
    "Usage: They allow other parts of the program to retrieve attribute values without directly accessing the private attributes.\n",
    "Controlled Access: Getters provide controlled access by exposing read-only access to attributes, allowing read operations while restricting direct modification of the underlying data.\n",
    "Mutators (Setters):\n",
    "Purpose: Setters are methods used to modify or set the values of private attributes.\n",
    "Usage: They enable controlled modification of attribute values, often performing validation or applying certain logic before allowing changes.\n",
    "Controlled Modification: Setters allow controlled access to modify attribute values, enforcing constraints or business rules before applying changes.\n",
    "\n",
    "Importance in Encapsulation:\n",
    "Control Over Access:\n",
    "\n",
    "Accessors and mutators provide a level of indirection, allowing classes to control how internal attributes are accessed and modified. They enable validation, security checks, or data transformation before allowing changes, ensuring data integrity and security.\n",
    "Abstraction of Implementation:\n",
    "\n",
    "They abstract the internal implementation details of a class from external code. Users interact with the class through its public methods (getters and setters) without needing to know the specifics of how the data is stored or manipulated.\n",
    "Maintaining Consistency:\n",
    "\n",
    "Getters and setters help maintain consistency in the way attributes are accessed and modified throughout a program. Any logic or validation applied within setters ensures that attribute changes comply with predefined rules or constraints.\n",
    "Easy Maintenance and Modification:\n",
    "    Encapsulation through accessors and mutators makes it easier to update or modify the internal implementation of a class without affecting the external code that uses it. \n",
    "    As long as the public interface remains the same, the underlying implementation can change."
   ]
  },
  {
   "cell_type": "code",
   "execution_count": null,
   "id": "4789a28c-839c-4675-9123-910261318a17",
   "metadata": {},
   "outputs": [],
   "source": [
    "16. What are the potential drawbacks or disadvantages of using encapsulation in Python?"
   ]
  },
  {
   "cell_type": "code",
   "execution_count": null,
   "id": "081b046f-337f-4eb6-8767-14fb23ca78b0",
   "metadata": {},
   "outputs": [],
   "source": [
    "Increased Complexity:\n",
    "\n",
    "Overuse of encapsulation can lead to overly complex code, especially if there are numerous getters and setters for each attribute. \n",
    "This can make the codebase harder to understand and maintain.\n",
    "Performance Overhead:\n",
    "\n",
    "Accessing attributes through getter and setter methods might incur a slight performance cost compared to direct attribute access.\n",
    "For simple classes or when performance is critical, this overhead can be a concern.\n",
    "Difficulty in Debugging:\n",
    "\n",
    "When encapsulation is overly strict, it might hinder the debugging process. Limited visibility into the internal state of objects can make it challenging to identify and resolve issues.\n",
    "Boilerplate Code:\n",
    "\n",
    "Implementing getter and setter methods for each attribute can result in boilerplate code, especially in larger classes.\n",
    "This can lead to code verbosity and reduced rediability.\n",
    "Violation of Pythonic Idioms:\n",
    "\n",
    "Python follows the principle of \"we are all consenting adults here,\" promoting readability and simplicity.\n",
    "Overuse of encapsulation might go against Python's philosophy of readability and simplicity.\n",
    "Difficulty in Data Access for Serialization:\n",
    "\n",
    "When objects heavily rely on encapsulation, serializing or accessing data from outside sources like databases might become challenging as direct access to attributes is restricted.\n",
    "Potential for Misuse:\n",
    "\n",
    "Encapsulation might encourage developers to make all attributes private, leading to a rigid structure that limits flexibility. Over-encapsulation can lead to unnecessary complexities.\n",
    "Increased Learning Curve:\n",
    "\n",
    "For newcomers or those unfamiliar with the codebase, understanding the encapsulated structure might pose challenges, requiring additional time to comprehend the code's internals.\n"
   ]
  },
  {
   "cell_type": "code",
   "execution_count": null,
   "id": "8dfc8f94-cc44-4633-a61f-3af9a79a42ce",
   "metadata": {},
   "outputs": [],
   "source": [
    "17. Create a Python class for a library system that encapsulates book information, including titles, authors, \n",
    "and availability status."
   ]
  },
  {
   "cell_type": "code",
   "execution_count": 6,
   "id": "3176e1d0-9895-494b-9f92-e2325abc054f",
   "metadata": {},
   "outputs": [
    {
     "name": "stdout",
     "output_type": "stream",
     "text": [
      "Book 1: The Great Gatsby by F. Scott Fitzgerald\n",
      "Book 1 Availability: Available\n",
      "Book 2: To Kill a Mockingbird by Harper Lee\n",
      "Book 2 Availability: Available\n",
      "The book 'The Great Gatsby' by F. Scott Fitzgerald has been borrowed.\n",
      "The book 'To Kill a Mockingbird' by Harper Lee has been borrowed.\n",
      "Book 1 Availability: Not Available\n",
      "Book 2 Availability: Not Available\n",
      "The book 'The Great Gatsby' by F. Scott Fitzgerald has been returned.\n",
      "The book 'To Kill a Mockingbird' by Harper Lee has been returned.\n",
      "Book 1 Availability: Available\n",
      "Book 2 Availability: Available\n"
     ]
    }
   ],
   "source": [
    "class Book:\n",
    "    def __init__(self, title, author):\n",
    "        self.__title = title\n",
    "        self.__author = author\n",
    "        self.__available = True\n",
    "\n",
    "    def get_title(self):\n",
    "        return self.__title\n",
    "\n",
    "    def get_author(self):\n",
    "        return self.__author\n",
    "\n",
    "    def is_available(self):\n",
    "        return self.__available\n",
    "\n",
    "    def borrow_book(self):\n",
    "        if self.__available:\n",
    "            self.__available = False\n",
    "            return f\"The book '{self.__title}' by {self.__author} has been borrowed.\"\n",
    "        else:\n",
    "            return f\"The book '{self.__title}' by {self.__author} is currently unavailable.\"\n",
    "\n",
    "    def return_book(self):\n",
    "        if not self.__available:\n",
    "            self.__available = True\n",
    "            return f\"The book '{self.__title}' by {self.__author} has been returned.\"\n",
    "        else:\n",
    "            return f\"The book '{self.__title}' by {self.__author} is already available.\"\n",
    "\n",
    "\n",
    "# Example usage:\n",
    "\n",
    "book1 = Book(\"The Great Gatsby\", \"F. Scott Fitzgerald\")\n",
    "book2 = Book(\"To Kill a Mockingbird\", \"Harper Lee\")\n",
    "\n",
    "print(\"Book 1:\", book1.get_title(), \"by\", book1.get_author())\n",
    "print(\"Book 1 Availability:\", \"Available\" if book1.is_available() else \"Not Available\")\n",
    "\n",
    "print(\"Book 2:\", book2.get_title(), \"by\", book2.get_author())\n",
    "print(\"Book 2 Availability:\", \"Available\" if book2.is_available() else \"Not Available\")\n",
    "\n",
    "print(book1.borrow_book())\n",
    "print(book2.borrow_book())\n",
    "\n",
    "print(\"Book 1 Availability:\", \"Available\" if book1.is_available() else \"Not Available\")\n",
    "print(\"Book 2 Availability:\", \"Available\" if book2.is_available() else \"Not Available\")\n",
    "\n",
    "print(book1.return_book())\n",
    "print(book2.return_book())\n",
    "\n",
    "print(\"Book 1 Availability:\", \"Available\" if book1.is_available() else \"Not Available\")\n",
    "print(\"Book 2 Availability:\", \"Available\" if book2.is_available() else \"Not Available\")"
   ]
  },
  {
   "cell_type": "code",
   "execution_count": null,
   "id": "f1dc0ef3-79ba-4196-afea-6cf79507d903",
   "metadata": {},
   "outputs": [],
   "source": [
    "18. Explain how encapsulation enhances code reusability and modularity in Python programs."
   ]
  },
  {
   "cell_type": "code",
   "execution_count": null,
   "id": "3d797a82-7042-4f5d-9b72-223b7c3d586b",
   "metadata": {},
   "outputs": [],
   "source": [
    "Encapsulation plays a crucial role in enhancing code reusability and modularity in Python programs through the following mechanisms:\n",
    "\n",
    "1. Information Hiding:\n",
    "Encapsulation hides the internal details of a class from the outside world, exposing only the necessary interfaces (methods) to interact with the class.\n",
    "This abstraction allows developers to use classes without needing to know how they are implemented internally.\n",
    "2. Reusability through Interfaces:\n",
    "By exposing well-defined interfaces (public methods) while hiding the implementation details, encapsulation facilitates code reuse. \n",
    "Other parts of the program can utilize these interfaces without concern for the underlying implementation. This promotes reuse of the same class in various contexts.\n",
    "3. Modularity and Loose Coupling:\n",
    "Encapsulation encourages a modular approach to programming. By encapsulating related data and functionalities within a class, it promotes modular design. \n",
    "Modules can interact with each other through well-defined interfaces (public methods), reducing interdependencies and coupling between modules.\n",
    "4. Encapsulation and Inheritance:\n",
    "Encapsulation supports inheritance, allowing subclasses to inherit the encapsulated behaviors and attributes of their parent classes. \n",
    "This inheritance promotes code reuse by inheriting functionality from existing classes while maintaining encapsulation.\n",
    "5. Encapsulation and Code Maintenance:\n",
    "Encapsulation helps in maintaining code by localizing changes. Modifications to the internal implementation of a class can be done without affecting the external code that uses the class, as long as the interface remains consistent. \n",
    "This separation of concerns simplifies maintenance."
   ]
  },
  {
   "cell_type": "code",
   "execution_count": null,
   "id": "e2bb9cc9-2fdd-4b3b-a821-9096c918ced9",
   "metadata": {},
   "outputs": [],
   "source": [
    "19. Describe the concept of information hiding in encapsulation. Why is it essential in software development?"
   ]
  },
  {
   "cell_type": "code",
   "execution_count": null,
   "id": "82e4ee57-2385-47ae-a9a3-33608c7eba0b",
   "metadata": {},
   "outputs": [],
   "source": [
    "Information hiding is a principle within encapsulation that involves hiding the internal workings or implementation details of a class or module, exposing only the necessary interfaces to interact with it.\n",
    "It's a way to restrict access to certain parts of an object or a system, ensuring that sensitive or implementation-specific details are hidden from the outside world.\n",
    "\n",
    "Key Aspects of Information Hiding:\n",
    "Private Members:\n",
    "\n",
    "Encapsulation allows the declaration of private members (attributes or methods) that are not directly accessible from outside the class. \n",
    "This prevents external code from directly manipulating or accessing these members.\n",
    "Controlled Access:\n",
    "\n",
    "Information hiding allows controlled access to data and functionality. It exposes only specific interfaces (public methods) to interact with the class, providing a clear and defined way to interact while hiding the internal complexities.\n",
    "Information hiding is a principle within encapsulation that involves hiding the internal workings or implementation details of a class or module, exposing only the necessary interfaces to interact with it. \n",
    "It's a way to restrict access to certain parts of an object or a system, ensuring that sensitive or implementation-specific details are hidden from the outside world.\n",
    "\n",
    "Key Aspects of Information Hiding:\n",
    "Private Members:\n",
    "\n",
    "Encapsulation allows the declaration of private members (attributes or methods) that are not directly accessible from outside the class. \n",
    "This prevents external code from directly manipulating or accessing these members.\n",
    "Controlled Access:\n",
    "\n",
    "Information hiding allows controlled access to data and functionality. \n",
    "It exposes only specific interfaces (public methods) to interact with the class, providing a clear and defined way to interact while hiding the internal complexities.\n",
    "Modularity and Reusability:\n",
    "\n",
    "By hiding implementation details, information hiding promotes modularity.\n",
    "Encapsulated components can be reused in different contexts, as long as their interfaces remain consistent. \n",
    "This facilitates code reuse and supports modular design.\n",
    "Improved Maintenance:\n",
    "\n",
    "It simplifies maintenance by localizing changes. Modifications to the internal implementation can be made without affecting the external code that uses the class or module, as long as the exposed interface remains unchanged.\n",
    "Abstraction and Encapsulation:\n",
    "\n",
    "Information hiding is an essential part of encapsulation. Together, they promote the principle of abstraction, focusing on what an object does rather than how it does it, which aids in understanding and using code."
   ]
  },
  {
   "cell_type": "code",
   "execution_count": null,
   "id": "8947ed8e-b5bc-4da9-bc3d-28e4d1da51c3",
   "metadata": {},
   "outputs": [],
   "source": [
    "20. Create a Python class called `Customer` with private attributes for customer details like name, address, \n",
    "and contact information. Implement encapsulation to ensure data integrity and security"
   ]
  },
  {
   "cell_type": "code",
   "execution_count": 7,
   "id": "d5d98f5d-4a5f-4a14-ac71-018df6f3420a",
   "metadata": {},
   "outputs": [
    {
     "name": "stdout",
     "output_type": "stream",
     "text": [
      "Customer Name: Alice\n",
      "Customer Address: 123 Main St\n",
      "Customer Contact Info: alice@example.com\n",
      "\n",
      "Updated Customer Details:\n",
      "Customer Name: Bob\n",
      "Customer Address: 456 Elm St\n",
      "Customer Contact Info: bob@example.com\n"
     ]
    }
   ],
   "source": [
    "class Customer:\n",
    "    def __init__(self, name, address, contact_info):\n",
    "        self.__name = name\n",
    "        self.__address = address\n",
    "        self.__contact_info = contact_info\n",
    "\n",
    "    def get_name(self):\n",
    "        return self.__name\n",
    "\n",
    "    def get_address(self):\n",
    "        return self.__address\n",
    "\n",
    "    def get_contact_info(self):\n",
    "        return self.__contact_info\n",
    "\n",
    "    def set_name(self, new_name):\n",
    "        self.__name = new_name\n",
    "\n",
    "    def set_address(self, new_address):\n",
    "        self.__address = new_address\n",
    "\n",
    "    def set_contact_info(self, new_contact_info):\n",
    "        self.__contact_info = new_contact_info\n",
    "\n",
    "\n",
    "# Example usage:\n",
    "\n",
    "customer = Customer(\"Alice\", \"123 Main St\", \"alice@example.com\")\n",
    "\n",
    "print(\"Customer Name:\", customer.get_name())\n",
    "print(\"Customer Address:\", customer.get_address())\n",
    "print(\"Customer Contact Info:\", customer.get_contact_info())\n",
    "\n",
    "# Attempting direct access to private attributes (this will raise an AttributeError)\n",
    "# print(customer.__name)\n",
    "# print(customer.__address)\n",
    "# print(customer.__contact_info)\n",
    "\n",
    "# Modifying customer details using setter methods\n",
    "customer.set_name(\"Bob\")\n",
    "customer.set_address(\"456 Elm St\")\n",
    "customer.set_contact_info(\"bob@example.com\")\n",
    "\n",
    "print(\"\\nUpdated Customer Details:\")\n",
    "print(\"Customer Name:\", customer.get_name())\n",
    "print(\"Customer Address:\", customer.get_address())\n",
    "print(\"Customer Contact Info:\", customer.get_contact_info())"
   ]
  },
  {
   "cell_type": "code",
   "execution_count": null,
   "id": "5daaf9ce-116b-440c-ac98-c7d0a10cb830",
   "metadata": {},
   "outputs": [],
   "source": [
    "Polymorphism:"
   ]
  },
  {
   "cell_type": "code",
   "execution_count": null,
   "id": "13847541-b010-4d8b-8230-a5a5ea249140",
   "metadata": {},
   "outputs": [],
   "source": [
    "1. What is polymorphism in Python? Explain how it is related to object-oriented programming."
   ]
  },
  {
   "cell_type": "code",
   "execution_count": null,
   "id": "34d67959-d6b0-499f-b4fd-46d9a16b36c5",
   "metadata": {},
   "outputs": [],
   "source": [
    "Polymorphism, in the context of object-oriented programming (OOP), refers to the ability of different classes to be treated as instances of the same class through a common interface. \n",
    "It allows objects of different classes to be treated as objects of a common superclass, thereby enabling a single interface to represent multiple underlying data types or classes.\n",
    "\n",
    "Key Aspects of Polymorphism:\n",
    "Method Overriding:\n",
    "\n",
    "Subclasses can provide their own specific implementation of methods defined in their superclass. \n",
    "When a method is called on an object of the superclass, the appropriate overridden method in the subclass is invoked based on the object's actual type.\n",
    "Polymorphic Behavior:\n",
    "\n",
    "Objects of different classes can respond to the same method or interface in different ways, based on their specific implementations. \n",
    "This allows for flexibility and extensibility in code design.\n",
    "Code Reusability:\n",
    "    Polymorphism enables the creation of a common interface or superclass, which can be reused to handle objects of various subclasses. \n",
    "This facilitates code reuse and promotes modular design.\n",
    "Relationship with Object-Oriented Programming (OOP):\n",
    "Inheritance and Polymorphism:\n",
    "\n",
    "Polymorphism is closely related to inheritance, another fundamental concept in OOP.\n",
    "It's achieved through inheritance, where subclasses inherit and override methods from their superclass.\n",
    "Abstraction and Encapsulation:\n",
    "\n",
    "Polymorphism helps in achieving abstraction and encapsulation by allowing objects to be treated uniformly based on their common interface, abstracting away the underlying implementation details.\n",
    "Dynamic Binding:\n",
    "\n",
    "Polymorphism in Python involves dynamic binding, where the method to be invoked is determined at runtime based on the actual type of the object. \n",
    "This dynamic nature allows for flexibility in object interactions."
   ]
  },
  {
   "cell_type": "code",
   "execution_count": null,
   "id": "05a0d38f-1afc-44bb-8a79-8d5e3f7d57af",
   "metadata": {},
   "outputs": [],
   "source": [
    "2. Describe the difference between compile-time polymorphism and runtime polymorphism in Python."
   ]
  },
  {
   "cell_type": "code",
   "execution_count": null,
   "id": "9cc80826-5981-40b3-9366-44bb6af3e40d",
   "metadata": {},
   "outputs": [],
   "source": [
    "In Python, polymorphism is primarily achieved through runtime polymorphism, also known as dynamic polymorphism.\n",
    "However, to understand the difference, let's contrast it with compile-time polymorphism, which is more prevalent in statically typed languages.\n",
    "\n",
    "Compile-Time Polymorphism (Static Polymorphism):\n",
    "Method Overloading:\n",
    "In languages like C++ or Java, compile-time polymorphism is often associated with method overloading, where multiple methods in the same class have the same name but differ in the number or types of their parameters.\n",
    "Function Signatures at Compile Time:\n",
    "During compilation, the appropriate method to be called is determined based on the number and types of arguments provided. \n",
    "This decision is made at compile time, and the method to be executed is bound statically.\n",
    "Runtime Polymorphism (Dynamic Polymorphism):\n",
    "Method Overriding:\n",
    "\n",
    "In Python, runtime polymorphism is primarily achieved through method overriding. Subclasses can override methods of their superclass, providing their own specific implementation.\n",
    "Dynamic Method Binding:\n",
    "\n",
    "The determination of which method to call happens at runtime based on the actual type of the object. Python uses dynamic method binding to decide which overridden method to execute, making the decision dynamically during runtime.\n",
    "Differences:\n",
    "Binding Time:\n",
    "\n",
    "Compile-time polymorphism resolves method calls at compile time, whereas runtime polymorphism resolves method calls dynamically during program execution.\n",
    "Mechanism:\n",
    "\n",
    "Compile-time polymorphism is often associated with static languages and is achieved through method overloading, where the appropriate method is determined based on the method signature at compile time.\n",
    "Runtime polymorphism, prevalent in dynamically typed languages like Python, is achieved through method overriding, and the method to be executed is determined based on the object's actual type at runtime.\n",
    "Flexibility:\n",
    "\n",
    "Compile-time polymorphism requires method signatures to be determined at compile time, which limits flexibility. \n",
    "In contrast, runtime polymorphism allows for more dynamic and flexible behavior, enabling objects of different types to respond differently to the same method call."
   ]
  },
  {
   "cell_type": "code",
   "execution_count": null,
   "id": "c8c2333b-78c8-4630-8488-8e91d6a66329",
   "metadata": {},
   "outputs": [],
   "source": [
    "3. Create a Python class hierarchy for shapes (e.g., circle, square, triangle) and demonstrate polymorphism \n",
    " through a common method, such as `calculate_area()`."
   ]
  },
  {
   "cell_type": "code",
   "execution_count": 10,
   "id": "74f4dae2-1bcb-445d-ba12-3bd7565e5fca",
   "metadata": {},
   "outputs": [
    {
     "name": "stdout",
     "output_type": "stream",
     "text": [
      "Area of Circle: 78.53981633974483\n",
      "Area of Square: 16\n",
      "Area of Triangle: 9.0\n"
     ]
    }
   ],
   "source": [
    "import math\n",
    "\n",
    "class Shape:\n",
    "    def calculate_area(self):\n",
    "        pass  # This method will be overridden by subclasses\n",
    "\n",
    "class Circle(Shape):\n",
    "    def __init__(self, radius):\n",
    "        self.radius = radius\n",
    "\n",
    "    def calculate_area(self):\n",
    "        return math.pi * self.radius ** 2\n",
    "\n",
    "class Square(Shape):\n",
    "    def __init__(self, side):\n",
    "        self.side = side\n",
    "\n",
    "    def calculate_area(self):\n",
    "        return self.side ** 2\n",
    "\n",
    "class Triangle(Shape):\n",
    "    def __init__(self, base, height):\n",
    "        self.base = base\n",
    "        self.height = height\n",
    "\n",
    "    def calculate_area(self):\n",
    "        return 0.5 * self.base * self.height\n",
    "\n",
    "# Demonstration of polymorphism\n",
    "shapes = [Circle(5), Square(4), Triangle(3, 6)]\n",
    "\n",
    "for shape in shapes:\n",
    "    print(f\"Area of {shape.__class__.__name__}: {shape.calculate_area()}\")"
   ]
  },
  {
   "cell_type": "code",
   "execution_count": null,
   "id": "b3c6c30d-0d21-479e-b556-0caaf84f61d2",
   "metadata": {},
   "outputs": [],
   "source": [
    "4. Explain the concept of method overriding in polymorphism. Provide an example."
   ]
  },
  {
   "cell_type": "code",
   "execution_count": 11,
   "id": "a7afb816-d417-4c8e-b942-24e186261eda",
   "metadata": {},
   "outputs": [
    {
     "ename": "IndentationError",
     "evalue": "expected an indented block after class definition on line 19 (3882814673.py, line 23)",
     "output_type": "error",
     "traceback": [
      "\u001b[0;36m  Cell \u001b[0;32mIn[11], line 23\u001b[0;36m\u001b[0m\n\u001b[0;31m    dog = Dog()\u001b[0m\n\u001b[0m    ^\u001b[0m\n\u001b[0;31mIndentationError\u001b[0m\u001b[0;31m:\u001b[0m expected an indented block after class definition on line 19\n"
     ]
    }
   ],
   "source": [
    "\"\"\"Method overriding is a fundamental concept in object-oriented programming that allows a subclass to provide a specific implementation of a method that is already defined in its superclass. \n",
    "When a method in the subclass has the same name, same parameters, and same return type as a method in its superclass, it overrides the superclass method.\n",
    "\n",
    "This concept is crucial in achieving polymorphism because it allows different classes to have their own implementation of a common method name, enabling the appropriate method to be called based on the object's actual type at runtime.\n",
    "\n",
    "Here's an example to illustrate method overriding:\"\"\"\n",
    "class Animal:\n",
    "    def make_sound(self):\n",
    "        return \"Some generic sound\"\n",
    "\n",
    "class Dog(Animal):\n",
    "    def make_sound(self):\n",
    "        return \"Woof!\"\n",
    "\n",
    "class Cat(Animal):\n",
    "    def make_sound(self):\n",
    "        return \"Meow!\"\n",
    "\n",
    "class Cow(Animal):\n",
    "    # This class doesn't override make_sound() method, so it will use the implementation from Animal\n",
    "\n",
    "# Using overridden methods\n",
    "dog = Dog()\n",
    "print(dog.make_sound())  # Output: \"Woof!\"\n",
    "\n",
    "cat = Cat()\n",
    "print(cat.make_sound())  # Output: \"Meow!\"\n",
    "\n",
    "cow = Cow()\n",
    "print(cow.make_sound())  # Output: \"Some generic sound\" (from Animal)"
   ]
  },
  {
   "cell_type": "code",
   "execution_count": null,
   "id": "d72e5da2-ba88-4b57-92ad-c404bf3adf28",
   "metadata": {},
   "outputs": [],
   "source": [
    "5. How is polymorphism different from method overloading in Python? Provide examples for both."
   ]
  },
  {
   "cell_type": "code",
   "execution_count": 12,
   "id": "d5d3a670-c7d9-4a85-a9fe-84d8236ca12b",
   "metadata": {},
   "outputs": [
    {
     "name": "stdout",
     "output_type": "stream",
     "text": [
      "5\n",
      "8\n",
      "10\n"
     ]
    }
   ],
   "source": [
    "\"\"\"Polymorphism:\n",
    "Polymorphism refers to the ability of different objects to be treated as instances of the same class but behave differently based on their specific implementations of methods.\n",
    "It allows different classes to have their own implementation of a common method name. \n",
    "Python achieves polymorphism through method overriding.\n",
    "\n",
    "Method Overloading:\n",
    "Python doesn't support traditional method overloading as seen in some other languages (like Java or C++), where you can have multiple methods in the same class with the same name but different parameters. In Python, you can't have multiple methods with the same name differing only by the number or types of arguments.\n",
    "\n",
    "However, Python does allow a form of overloading using default arguments or variable arguments (*args or **kwargs).\n",
    "\n",
    "Example of Method Overloading in Python (using default arguments):\"\"\"\n",
    "class Calculator:\n",
    "    def add(self, a, b=None, c=None):\n",
    "        if b is None and c is None:\n",
    "            return a\n",
    "        elif c is None:\n",
    "            return a + b\n",
    "        else:\n",
    "            return a + b + c\n",
    "\n",
    "calc = Calculator()\n",
    "\n",
    "print(calc.add(5))        # Output: 5\n",
    "print(calc.add(5, 3))     # Output: 8\n",
    "print(calc.add(5, 3, 2))  # Output: 10"
   ]
  },
  {
   "cell_type": "code",
   "execution_count": null,
   "id": "3aa3196e-762d-430a-93c8-f6456dceca7d",
   "metadata": {},
   "outputs": [],
   "source": [
    "6. Create a Python class called `Animal` with a method `speak()`. Then, create child classes like `Dog`, `Cat`, and `Bird`,\n",
    "each with their own `speak()` method. Demonstrate polymorphism by calling the `speak()` method on objects of different subclasses."
   ]
  },
  {
   "cell_type": "code",
   "execution_count": 13,
   "id": "2c4ec6cb-df3b-4d85-bb4f-81a62d1c14cd",
   "metadata": {},
   "outputs": [
    {
     "name": "stdout",
     "output_type": "stream",
     "text": [
      "Woof!\n",
      "Meow!\n",
      "Tweet!\n"
     ]
    }
   ],
   "source": [
    "class Animal:\n",
    "    def speak(self):\n",
    "        return \"Some generic sound\"\n",
    "\n",
    "class Dog(Animal):\n",
    "    def speak(self):\n",
    "        return \"Woof!\"\n",
    "\n",
    "class Cat(Animal):\n",
    "    def speak(self):\n",
    "        return \"Meow!\"\n",
    "\n",
    "class Bird(Animal):\n",
    "    def speak(self):\n",
    "        return \"Tweet!\"\n",
    "\n",
    "# Polymorphism demonstration\n",
    "dog = Dog()\n",
    "cat = Cat()\n",
    "bird = Bird()\n",
    "\n",
    "print(dog.speak())  # Output: \"Woof!\"\n",
    "print(cat.speak())  # Output: \"Meow!\"\n",
    "print(bird.speak())  # Output: \"Tweet!\""
   ]
  },
  {
   "cell_type": "code",
   "execution_count": null,
   "id": "bf886654-cc60-477f-9a34-8bcb231d2e82",
   "metadata": {},
   "outputs": [],
   "source": [
    "7. Discuss the use of abstract methods and classes in achieving polymorphism in Python. Provide an example \n",
    "using the `abc` module."
   ]
  },
  {
   "cell_type": "code",
   "execution_count": 14,
   "id": "b7bb4ad4-0b5d-48b9-a4fe-8a44c12bf3d5",
   "metadata": {},
   "outputs": [
    {
     "name": "stdout",
     "output_type": "stream",
     "text": [
      "78.5\n",
      "16\n"
     ]
    }
   ],
   "source": [
    "\"\"\"In Python, abstract classes and methods from the abc (Abstract Base Classes) module are used to define a blueprint for other classes. \n",
    "Abstract methods are methods without an implementation, acting as placeholders that must be overridden by subclasses.\n",
    "This concept is useful in achieving polymorphism by ensuring that certain methods are implemented consistently across different subclasses.\n",
    "\n",
    "Here's an example using the abc module to create an abstract class Shape with an abstract method calculate_area():\"\"\"\n",
    "from abc import ABC, abstractmethod\n",
    "\n",
    "class Shape(ABC):  # Inheriting from ABC to create an abstract class\n",
    "    @abstractmethod\n",
    "    def calculate_area(self):\n",
    "        pass  # This method must be overridden by subclasses\n",
    "\n",
    "class Circle(Shape):\n",
    "    def __init__(self, radius):\n",
    "        self.radius = radius\n",
    "\n",
    "    def calculate_area(self):\n",
    "        return 3.14 * self.radius ** 2\n",
    "\n",
    "class Square(Shape):\n",
    "    def __init__(self, side):\n",
    "        self.side = side\n",
    "\n",
    "    def calculate_area(self):\n",
    "        return self.side ** 2\n",
    "\n",
    "# Attempting to instantiate the abstract class will raise an error\n",
    "# shape = Shape()  # This will raise an error: Can't instantiate abstract class Shape\n",
    "\n",
    "# Using overridden methods through polymorphism\n",
    "circle = Circle(5)\n",
    "square = Square(4)\n",
    "\n",
    "print(circle.calculate_area())  # Output: 78.5\n",
    "print(square.calculate_area())  # Output: 16"
   ]
  },
  {
   "cell_type": "code",
   "execution_count": null,
   "id": "169478e0-991a-4a72-b78a-86cad6f8b149",
   "metadata": {},
   "outputs": [],
   "source": [
    "8. Create a Python class hierarchy for a vehicle system (e.g., car, bicycle, boat) \n",
    "and implement a polymorphic `start()` method that prints a message specific to each vehicle type."
   ]
  },
  {
   "cell_type": "code",
   "execution_count": 15,
   "id": "d1939364-2339-4fa8-8f2c-a1a4ae078d3c",
   "metadata": {},
   "outputs": [
    {
     "name": "stdout",
     "output_type": "stream",
     "text": [
      "Car engine started. Vroom!\n",
      "Bicycle pedaling started.\n",
      "Boat engine started. Ready to sail!\n"
     ]
    }
   ],
   "source": [
    "class Vehicle:\n",
    "    def start(self):\n",
    "        pass  # This method will be overridden by subclasses\n",
    "\n",
    "class Car(Vehicle):\n",
    "    def start(self):\n",
    "        return \"Car engine started. Vroom!\"\n",
    "\n",
    "class Bicycle(Vehicle):\n",
    "    def start(self):\n",
    "        return \"Bicycle pedaling started.\"\n",
    "\n",
    "class Boat(Vehicle):\n",
    "    def start(self):\n",
    "        return \"Boat engine started. Ready to sail!\"\n",
    "\n",
    "# Polymorphic demonstration\n",
    "car = Car()\n",
    "bicycle = Bicycle()\n",
    "boat = Boat()\n",
    "\n",
    "print(car.start())  # Output: \"Car engine started. Vroom!\"\n",
    "print(bicycle.start())  # Output: \"Bicycle pedaling started.\"\n",
    "print(boat.start())  # Output: \"Boat engine started. Ready to sail!\""
   ]
  },
  {
   "cell_type": "code",
   "execution_count": null,
   "id": "a3ed4155-d5d9-4a09-8ed3-76ee2804e7a4",
   "metadata": {},
   "outputs": [],
   "source": [
    "9. Explain the significance of the `isinstance()` and `issubclass()` functions in Python polymorphism."
   ]
  },
  {
   "cell_type": "code",
   "execution_count": null,
   "id": "adac8970-9c75-4252-a486-6ac2a4312562",
   "metadata": {},
   "outputs": [],
   "source": [
    "isinstance()\n",
    "The isinstance() function checks if an object is an instance of a particular class or of a subclass derived from that class.\n",
    "It's particularly useful in scenarios where you want to perform different actions based on the type of an object.\n",
    "issubclass()\n",
    "The issubclass() function checks if a given class is a subclass of another class.\n",
    "It helps determine the inheritance relationship between classes.\n",
    "Significance in Polymorphism:\n",
    "Implementation of Polymorphism: These functions are crucial in polymorphism as they allow you to determine the relationships between classes and objects, enabling you to write code that behaves differently depending on the class or inheritance hierarchy.\n",
    "\n",
    "Dynamic Behavior: They facilitate the dynamic behavior of polymorphism by allowing you to check the type or class of an object at runtime, making it possible to call specific methods or perform certain actions based on the actual type of the object.\n",
    "\n",
    "Conditional Logic: They are often used in conditional statements to decide which code to execute based on the type or class of objects, enabling different behavior for different classes."
   ]
  },
  {
   "cell_type": "code",
   "execution_count": null,
   "id": "1f936bd6-f98e-4814-9cb7-7090aa3cc975",
   "metadata": {},
   "outputs": [],
   "source": [
    "10. What is the role of the `@abstractmethod` decorator in achieving polymorphism in Python? Provide an example"
   ]
  },
  {
   "cell_type": "code",
   "execution_count": 17,
   "id": "abc033a4-1117-446d-832e-018d3c696973",
   "metadata": {},
   "outputs": [
    {
     "name": "stdout",
     "output_type": "stream",
     "text": [
      "Woof!\n",
      "Meow!\n"
     ]
    }
   ],
   "source": [
    "\"\"\"The @abstractmethod decorator, from the abc (Abstract Base Classes) module in Python, is crucial in achieving polymorphism by defining abstract methods in abstract classes. \n",
    "Abstract methods act as placeholders that must be overridden by subclasses, ensuring a consistent interface across multiple classes.\n",
    "\n",
    "Here's an example demonstrating the role of @abstractmethod in achieving polymorphism:\"\"\"\n",
    "from abc import ABC, abstractmethod\n",
    "\n",
    "class Animal(ABC):  # Abstract base class\n",
    "    @abstractmethod\n",
    "    def make_sound(self):\n",
    "        pass  # Abstract method that must be overridden by subclasses\n",
    "\n",
    "class Dog(Animal):\n",
    "    def make_sound(self):\n",
    "        return \"Woof!\"\n",
    "\n",
    "class Cat(Animal):\n",
    "    def make_sound(self):\n",
    "        return \"Meow!\"\n",
    "\n",
    "# Attempting to instantiate an abstract class will raise an error\n",
    "# animal = Animal()  # This will raise an error: Can't instantiate abstract class Animal with abstract methods make_sound\n",
    "\n",
    "# Polymorphic demonstration\n",
    "dog = Dog()\n",
    "cat = Cat()\n",
    "\n",
    "print(dog.make_sound())  # Output: \"Woof!\"\n",
    "print(cat.make_sound())  # Output: \"Meow!\""
   ]
  },
  {
   "cell_type": "code",
   "execution_count": null,
   "id": "00cc6c82-62dc-49d4-babb-8618953c8c57",
   "metadata": {},
   "outputs": [],
   "source": [
    "11. Create a Python class called `Shape` with a polymorphic method `area()` that calculates the area of different shapes."
   ]
  },
  {
   "cell_type": "code",
   "execution_count": 18,
   "id": "de840a89-8a03-46c5-816d-dbbf4320f6b2",
   "metadata": {},
   "outputs": [
    {
     "name": "stdout",
     "output_type": "stream",
     "text": [
      "Area of Circle: 78.53981633974483\n",
      "Area of Rectangle: 24\n",
      "Area of Triangle: 10.5\n"
     ]
    }
   ],
   "source": [
    "import math\n",
    "\n",
    "class Shape:\n",
    "    def area(self):\n",
    "        pass  # This method will be overridden by subclasses\n",
    "\n",
    "class Circle(Shape):\n",
    "    def __init__(self, radius):\n",
    "        self.radius = radius\n",
    "\n",
    "    def area(self):\n",
    "        return math.pi * self.radius ** 2\n",
    "\n",
    "class Rectangle(Shape):\n",
    "    def __init__(self, length, width):\n",
    "        self.length = length\n",
    "        self.width = width\n",
    "\n",
    "    def area(self):\n",
    "        return self.length * self.width\n",
    "\n",
    "class Triangle(Shape):\n",
    "    def __init__(self, base, height):\n",
    "        self.base = base\n",
    "        self.height = height\n",
    "\n",
    "    def area(self):\n",
    "        return 0.5 * self.base * self.height\n",
    "\n",
    "# Polymorphic demonstration\n",
    "circle = Circle(5)\n",
    "rectangle = Rectangle(4, 6)\n",
    "triangle = Triangle(3, 7)\n",
    "\n",
    "print(f\"Area of Circle: {circle.area()}\")  # Output: 78.53981633974483\n",
    "print(f\"Area of Rectangle: {rectangle.area()}\")  # Output: 24\n",
    "print(f\"Area of Triangle: {triangle.area()}\")  # Output: 10.5"
   ]
  },
  {
   "cell_type": "code",
   "execution_count": null,
   "id": "50ab42a4-21f9-4b78-a2cf-921f706f7e02",
   "metadata": {},
   "outputs": [],
   "source": [
    "12. Discuss the benefits of polymorphism in terms of code reusability and flexibility in Python programs."
   ]
  },
  {
   "cell_type": "code",
   "execution_count": null,
   "id": "f6f7eaf7-f9fc-47d5-a53a-ca54889c6323",
   "metadata": {},
   "outputs": [],
   "source": [
    "1. Code Reusability:\n",
    "Reusable Interfaces: Polymorphism allows you to define a common interface through base classes or abstract classes. \n",
    "Subclasses can then implement this interface in their own way, promoting code reuse.\n",
    "Shared Functionality: By defining a common set of methods in a superclass, various subclasses can reuse these methods while providing their specific implementations.\n",
    "2. Flexibility:\n",
    "Adaptability: Polymorphism enables you to create code that can work with objects of different classes interchangeably. \n",
    "This flexibility allows you to write more generic, adaptable code.\n",
    "Extensibility: New subclasses can be added without altering the existing code.\n",
    "This makes the codebase more scalable and extensible as new requirements arise.\n",
    "Reduced Redundancy:\n",
    "Avoiding Duplicate Code: Polymorphism helps in avoiding redundant code by promoting the reuse of existing methods and behaviors defined in base classes or interfaces.\n",
    "Centralized Changes: Changes made to the base class or shared interface methods propagate to all subclasses, reducing the need for repeated modifications across multiple classes.\n",
    "4. Improved Maintainability:\n",
    "Easier Maintenance: With polymorphism, modifications or updates to common functionality can be made in a central location (e.g., base class), reducing maintenance efforts across the codebase.\n",
    "Clearer Structure: Polymorphism allows you to create a clear structure by defining common behaviors in base classes or interfaces, making the code more organized and understandable."
   ]
  },
  {
   "cell_type": "code",
   "execution_count": null,
   "id": "0792716a-aec0-4ae8-9d23-8c0c23cec5ac",
   "metadata": {},
   "outputs": [],
   "source": [
    "13. Explain the use of the `super()` function in Python polymorphism. How does it help call methods of parent \n",
    "classes?"
   ]
  },
  {
   "cell_type": "code",
   "execution_count": 19,
   "id": "568462c0-452a-4aa9-803f-ebf4802c5102",
   "metadata": {},
   "outputs": [
    {
     "name": "stdout",
     "output_type": "stream",
     "text": [
      "Vehicle started - Car started\n",
      "Vehicle started - Car started - Electric car started\n"
     ]
    }
   ],
   "source": [
    "\"\"\"The super() function in Python is used to access methods and properties from a parent or superclass within a subclass. It allows you to invoke methods or access attributes of the superclass without explicitly naming the parent class, enabling better code maintenance and promoting a consistent and predictable method resolution order (MRO).\n",
    "\n",
    "Usage of super() in Python Polymorphism:\n",
    "Accessing Parent Class Methods: When a method is overridden in a subclass, super() helps access the overridden method in the parent class.\n",
    "\n",
    "Multiple Inheritance: In cases of multiple inheritance, super() is used to navigate through the method resolution order and call methods from different parent classes.\n",
    "\n",
    "Example of super() in Polymorphism:\"\"\"\n",
    "class Vehicle:\n",
    "    def start(self):\n",
    "        return \"Vehicle started\"\n",
    "\n",
    "class Car(Vehicle):\n",
    "    def start(self):\n",
    "        # Calling the start() method from the parent class using super()\n",
    "        return super().start() + \" - Car started\"\n",
    "\n",
    "class ElectricCar(Car):\n",
    "    def start(self):\n",
    "        # Calling the start() method from the parent class (Car) and then from Vehicle\n",
    "        return super().start() + \" - Electric car started\"\n",
    "\n",
    "# Polymorphic demonstration using super()\n",
    "car = Car()\n",
    "print(car.start())  # Output: \"Vehicle started - Car started\"\n",
    "\n",
    "electric_car = ElectricCar()\n",
    "print(electric_car.start())  # Output: \"Vehicle started - Car started - Electric car started\""
   ]
  },
  {
   "cell_type": "code",
   "execution_count": null,
   "id": "eacbaaff-1e87-463c-9683-a7930258766f",
   "metadata": {},
   "outputs": [],
   "source": [
    "14. Create a Python class hierarchy for a banking system with various account types (e.g., savings, checking, credit card) and demonstrate \n",
    "polymorphism by implementing a common `withdraw()` method."
   ]
  },
  {
   "cell_type": "code",
   "execution_count": 20,
   "id": "30afe9e0-e70e-4cd6-a977-ea52f28d403a",
   "metadata": {},
   "outputs": [
    {
     "name": "stdout",
     "output_type": "stream",
     "text": [
      "Withdrawn 200 from savings account. Remaining balance: 300\n",
      "Insufficient funds in checking account\n",
      "Withdrawn 300 (+5% fee) from credit card account. Remaining balance: 1685.0\n"
     ]
    }
   ],
   "source": [
    "class Account:\n",
    "    def __init__(self, account_number, balance):\n",
    "        self.account_number = account_number\n",
    "        self.balance = balance\n",
    "\n",
    "    def withdraw(self, amount):\n",
    "        pass  # This method will be overridden by subclasses\n",
    "\n",
    "class SavingsAccount(Account):\n",
    "    def withdraw(self, amount):\n",
    "        if amount <= self.balance:\n",
    "            self.balance -= amount\n",
    "            return f\"Withdrawn {amount} from savings account. Remaining balance: {self.balance}\"\n",
    "        else:\n",
    "            return \"Insufficient funds in savings account\"\n",
    "\n",
    "class CheckingAccount(Account):\n",
    "    def withdraw(self, amount):\n",
    "        if amount <= self.balance:\n",
    "            self.balance -= amount\n",
    "            return f\"Withdrawn {amount} from checking account. Remaining balance: {self.balance}\"\n",
    "        else:\n",
    "            return \"Insufficient funds in checking account\"\n",
    "\n",
    "class CreditCardAccount(Account):\n",
    "    def withdraw(self, amount):\n",
    "        withdrawal_amount = amount * 1.05  # Adding a 5% fee for credit card withdrawals\n",
    "        if withdrawal_amount <= self.balance:\n",
    "            self.balance -= withdrawal_amount\n",
    "            return f\"Withdrawn {amount} (+5% fee) from credit card account. Remaining balance: {self.balance}\"\n",
    "        else:\n",
    "            return \"Insufficient funds in credit card account\"\n",
    "\n",
    "# Polymorphic demonstration\n",
    "savings_account = SavingsAccount(\"SA123\", 500)\n",
    "checking_account = CheckingAccount(\"CA456\", 1000)\n",
    "credit_card_account = CreditCardAccount(\"CC789\", 2000)\n",
    "\n",
    "print(savings_account.withdraw(200))  # Output: \"Withdrawn 200 from savings account. Remaining balance: 300\"\n",
    "print(checking_account.withdraw(1200))  # Output: \"Insufficient funds in checking account\"\n",
    "print(credit_card_account.withdraw(300))  # Output: \"Withdrawn 300 (+5% fee) from credit card account. Remaining balance: 1700\""
   ]
  },
  {
   "cell_type": "code",
   "execution_count": null,
   "id": "dc7096b6-7302-4104-b33e-95827fbc0f0a",
   "metadata": {},
   "outputs": [],
   "source": [
    "15. Describe the concept of operator overloading in Python and how it relates to polymorphism. Provide \n",
    "examples using operators like `+` and `*`."
   ]
  },
  {
   "cell_type": "code",
   "execution_count": 21,
   "id": "7083b3b3-b0ae-45cc-9cac-3bfb4988281d",
   "metadata": {},
   "outputs": [
    {
     "name": "stdout",
     "output_type": "stream",
     "text": [
      "Vector(7, 11)\n"
     ]
    }
   ],
   "source": [
    "\"\"\"Operator overloading in Python involves defining special methods in a class that allow objects to respond to built-in operators such as +, -, *, /, and more. \n",
    "These special methods are also known as magic or dunder methods because they are enclosed in double underscores (__method__). Operator overloading enables custom-defined classes to define their behavior for standard operators.\n",
    "\n",
    "Relation to Polymorphism:\n",
    "Operator overloading is closely related to polymorphism in Python.\n",
    "By defining these special methods in a class, you can provide different implementations for operators depending on the object's type, enabling polymorphic behavior. \n",
    "This allows different objects to behave differently when operated upon by the same operator, promoting code readability and flexibility.\n",
    "\n",
    "Examples using + and * operators:\n",
    "+ Operator Overloading Example:\"\"\"\n",
    "class Vector:\n",
    "    def __init__(self, x, y):\n",
    "        self.x = x\n",
    "        self.y = y\n",
    "\n",
    "    def __add__(self, other):\n",
    "        return Vector(self.x + other.x, self.y + other.y)\n",
    "\n",
    "    def __repr__(self):\n",
    "        return f\"Vector({self.x}, {self.y})\"\n",
    "\n",
    "# Overloading the + operator to perform vector addition\n",
    "v1 = Vector(2, 4)\n",
    "v2 = Vector(5, 7)\n",
    "result = v1 + v2\n",
    "print(result)  # Output: Vector(7, 11)"
   ]
  },
  {
   "cell_type": "code",
   "execution_count": 22,
   "id": "80817aaa-22ab-44a2-b1bf-25fd3382e0a8",
   "metadata": {},
   "outputs": [
    {
     "name": "stdout",
     "output_type": "stream",
     "text": [
      "Point(6, 10)\n"
     ]
    }
   ],
   "source": [
    "#'* 'Operator Overloading Example:\n",
    "class Point:\n",
    "    def __init__(self, x, y):\n",
    "        self.x = x\n",
    "        self.y = y\n",
    "\n",
    "    def __mul__(self, other):\n",
    "        return Point(self.x * other, self.y * other)\n",
    "\n",
    "    def __repr__(self):\n",
    "        return f\"Point({self.x}, {self.y})\"\n",
    "\n",
    "# Overloading the * operator to perform scalar multiplication\n",
    "p = Point(3, 5)\n",
    "result = p * 2\n",
    "print(result)  # Output: Point(6, 10)"
   ]
  },
  {
   "cell_type": "code",
   "execution_count": null,
   "id": "fe850c03-1918-4dd9-9565-37c3d904858d",
   "metadata": {},
   "outputs": [],
   "source": [
    "16. What is dynamic polymorphism, and how is it achieved in Python?"
   ]
  },
  {
   "cell_type": "code",
   "execution_count": 23,
   "id": "cbe9fc03-42dd-41b0-ae41-54509e2bb8c1",
   "metadata": {},
   "outputs": [
    {
     "name": "stdout",
     "output_type": "stream",
     "text": [
      "Woof!\n",
      "Meow!\n"
     ]
    }
   ],
   "source": [
    "\"\"\"Dynamic polymorphism refers to the ability of a programming language to resolve the appropriate method or function call at runtime based on the actual type or class of the object. \n",
    "In simpler terms, it allows different classes to be treated uniformly through a common interface, with the actual method being executed determined dynamically based on the object's type during runtime.\n",
    "\n",
    "Achieving Dynamic Polymorphism in Python:\n",
    "Python achieves dynamic polymorphism primarily through method overriding and duck typing.\n",
    "\n",
    "Method Overriding: When a method in a subclass has the same name and signature as a method in its superclass, it overrides the superclass method.\n",
    "During runtime, the interpreter resolves which method to call based on the actual object's type.\n",
    "\n",
    "Duck Typing: Python follows the principle of \"duck typing,\" which states, \"If it looks like a duck, swims like a duck, and quacks like a duck, then it probably is a duck.\" \n",
    "In Python, the type or class of an object is inferred based on its behavior rather than its explicit type. If an object supports a particular method or behavior, it can be used interchangeably with other objects that support the same method, facilitating dynamic polymorphism.\n",
    "\n",
    "Example of Dynamic Polymorphism in Python:\"\"\"\n",
    "\n",
    "class Animal:\n",
    "    def make_sound(self):\n",
    "        return \"Some generic sound\"\n",
    "\n",
    "class Dog(Animal):\n",
    "    def make_sound(self):\n",
    "        return \"Woof!\"\n",
    "\n",
    "class Cat(Animal):\n",
    "    def make_sound(self):\n",
    "        return \"Meow!\"\n",
    "\n",
    "# Polymorphic demonstration using dynamic polymorphism\n",
    "animals = [Dog(), Cat()]\n",
    "\n",
    "for animal in animals:\n",
    "    print(animal.make_sound())"
   ]
  },
  {
   "cell_type": "code",
   "execution_count": null,
   "id": "172ecb16-7dea-4cbe-9dd3-2d6e6ea58136",
   "metadata": {},
   "outputs": [],
   "source": [
    "17. Create a Python class hierarchy for employees in a company (e.g., manager, developer, designer) \n",
    "and implement polymorphism through a common `calculate_salary()` method."
   ]
  },
  {
   "cell_type": "code",
   "execution_count": 24,
   "id": "3f2e2c9a-fefe-4fc5-a5c1-9e2e2d24de0e",
   "metadata": {},
   "outputs": [
    {
     "name": "stdout",
     "output_type": "stream",
     "text": [
      "Alice's salary as a Manager: $80000\n",
      "Bob's salary as a Developer: $8000\n",
      "Charlie's salary as a Designer: $6000\n"
     ]
    }
   ],
   "source": [
    "class Employee:\n",
    "    def __init__(self, name, role):\n",
    "        self.name = name\n",
    "        self.role = role\n",
    "\n",
    "    def calculate_salary(self):\n",
    "        pass  # This method will be overridden by subclasses\n",
    "\n",
    "class Manager(Employee):\n",
    "    def __init__(self, name, salary):\n",
    "        super().__init__(name, \"Manager\")\n",
    "        self.salary = salary\n",
    "\n",
    "    def calculate_salary(self):\n",
    "        return f\"{self.name}'s salary as a Manager: ${self.salary}\"\n",
    "\n",
    "class Developer(Employee):\n",
    "    def __init__(self, name, hourly_rate, hours_worked):\n",
    "        super().__init__(name, \"Developer\")\n",
    "        self.hourly_rate = hourly_rate\n",
    "        self.hours_worked = hours_worked\n",
    "\n",
    "    def calculate_salary(self):\n",
    "        return f\"{self.name}'s salary as a Developer: ${self.hourly_rate * self.hours_worked}\"\n",
    "\n",
    "class Designer(Employee):\n",
    "    def __init__(self, name, monthly_rate):\n",
    "        super().__init__(name, \"Designer\")\n",
    "        self.monthly_rate = monthly_rate\n",
    "\n",
    "    def calculate_salary(self):\n",
    "        return f\"{self.name}'s salary as a Designer: ${self.monthly_rate}\"\n",
    "\n",
    "# Polymorphic demonstration\n",
    "manager = Manager(\"Alice\", 80000)\n",
    "developer = Developer(\"Bob\", 50, 160)\n",
    "designer = Designer(\"Charlie\", 6000)\n",
    "\n",
    "print(manager.calculate_salary())  # Output: \"Alice's salary as a Manager: $80000\"\n",
    "print(developer.calculate_salary())  # Output: \"Bob's salary as a Developer: $8000\"\n",
    "print(designer.calculate_salary())  # Output: \"Charlie's salary as a Designer: $6000\""
   ]
  },
  {
   "cell_type": "code",
   "execution_count": null,
   "id": "4448ecf6-e091-4fe7-b03a-c97e61fda5d3",
   "metadata": {},
   "outputs": [],
   "source": [
    "18. Discuss the concept of function pointers and how they can be used to achieve polymorphism in Python."
   ]
  },
  {
   "cell_type": "code",
   "execution_count": 25,
   "id": "760fcf50-9d1a-4dba-96ca-becc9817a79e",
   "metadata": {},
   "outputs": [
    {
     "name": "stdout",
     "output_type": "stream",
     "text": [
      "8\n",
      "6\n"
     ]
    }
   ],
   "source": [
    "\"\"\"In Python, the concept of function pointers is not explicitly present as in languages like C or C++. \n",
    "However, Python leverages its high-level features to achieve similar behavior through techniques like using first-class functions, higher-order functions, and duck typing to accomplish polymorphism without needing explicit function pointers.\n",
    "\n",
    "Function Pointers in Other Languages:\n",
    "In languages like C or C++, function pointers are variables that store the address of a function in memory.\n",
    "They provide a way to invoke different functions dynamically based on the pointer's value.\n",
    "This allows for polymorphic behavior by enabling different functions to be called through the same pointer.\n",
    "\n",
    "Achieving Polymorphism in Python:\n",
    "First-Class Functions: In Python, functions are first-class citizens, meaning they can be passed as arguments to other functions, returned from functions, and assigned to variables. \n",
    "This behavior enables a level of indirection similar to function pointers.\n",
    "Higher-Order Functions: Python supports higher-order functions, which are functions that can take other functions as arguments or return functions as results.\n",
    "This capability allows the creation of generic functions that can work with different behaviors passed as arguments.\n",
    "\n",
    "Duck Typing: Python focuses on behavior rather than explicit types.\n",
    "If an object behaves like it has a particular method or function, Python allows it to be used in that context, promoting polymorphic behavior without requiring explicit interfaces or function pointers.\n",
    "\n",
    "Example using First-Class Functions for \"Polymorphic\" Behavior:\"\"\"\n",
    "def add(a, b):\n",
    "    return a + b\n",
    "\n",
    "def subtract(a, b):\n",
    "    return a - b\n",
    "\n",
    "def calculate(operation, a, b):\n",
    "    return operation(a, b)  # Operation is a function passed as an argument\n",
    "\n",
    "result1 = calculate(add, 5, 3)  # Using the add function for calculation\n",
    "result2 = calculate(subtract, 10, 4)  # Using the subtract function for calculation\n",
    "\n",
    "print(result1)  # Output: 8\n",
    "print(result2)  # Output: 6"
   ]
  },
  {
   "cell_type": "code",
   "execution_count": null,
   "id": "a6a77284-6be0-44a4-8262-e6aa27c47f6b",
   "metadata": {},
   "outputs": [],
   "source": [
    "19. Explain the role of interfaces and abstract classes in polymorphism, drawing comparisons between them."
   ]
  },
  {
   "cell_type": "code",
   "execution_count": null,
   "id": "72f86b0d-5a27-430e-a78d-69cf6eaa91e0",
   "metadata": {},
   "outputs": [],
   "source": [
    "Interfaces:\n",
    "Definition: Interfaces in Python are a form of abstract base class that define a set of methods that must be implemented by any class that adheres to the interface.\n",
    "No Implementation: Interfaces only declare the methods that participating classes must implement. They do not contain any method implementations.\n",
    "Multiple Inheritance: Python doesn’t have a native interface keyword but supports interfaces through abstract base classes and multiple inheritance.\n",
    "Enforces Method Implementation: Classes that implement an interface must provide concrete implementations for all methods declared in the interface.\n",
    "Abstract Classes:\n",
    "Definition: Abstract classes are classes that contain one or more abstract methods—methods without any implementation. They can also have concrete methods.\n",
    "Partial Implementation: Abstract classes can provide some default functionality along with abstract methods that must be overridden by subclasses.\n",
    "Single Inheritance: Python has native support for abstract classes using the abc module and single inheritance.\n",
    "Facilitates Code Reusability: Abstract classes allow for the reuse of common functionality across multiple subclasses.\n",
    "Comparisons:\n",
    "Similarities: Both interfaces and abstract classes provide a blueprint for defining a common structure/methods that subclasses must adhere to or implement.\n",
    "Differences:\n",
    "Implementation: Interfaces only declare methods without any implementation, while abstract classes can contain both abstract methods and concrete methods.\n",
    "Multiple Inheritance: Interfaces can be implemented via multiple inheritance, while abstract classes support single inheritance.\n",
    "Enforcement: Interfaces enforce the implementation of all declared methods, while abstract classes allow concrete methods that are optional to override."
   ]
  },
  {
   "cell_type": "code",
   "execution_count": null,
   "id": "8e422ec3-94a2-431f-a7ae-464ec7cc2ff9",
   "metadata": {},
   "outputs": [],
   "source": [
    "20. Create a Python class for a zoo simulation, demonstrating polymorphism with different animal types (e.g., mammals birds, reptiles)\n",
    "and their behavior (e.g., eating, sleeping, making sounds)."
   ]
  },
  {
   "cell_type": "code",
   "execution_count": 26,
   "id": "3261cfbe-eee4-4ed8-a168-863f7e23f9bf",
   "metadata": {},
   "outputs": [
    {
     "name": "stdout",
     "output_type": "stream",
     "text": [
      "Mammal Lion is eating.\n",
      "Bird Parrot is sleeping.\n",
      "Reptile hisses\n"
     ]
    }
   ],
   "source": [
    "class Animal:\n",
    "    def __init__(self, name, species):\n",
    "        self.name = name\n",
    "        self.species = species\n",
    "\n",
    "    def make_sound(self):\n",
    "        pass  # To be overridden by subclasses\n",
    "\n",
    "    def eat(self):\n",
    "        return f\"{self.species} {self.name} is eating.\"\n",
    "\n",
    "    def sleep(self):\n",
    "        return f\"{self.species} {self.name} is sleeping.\"\n",
    "\n",
    "\n",
    "class Mammal(Animal):\n",
    "    def __init__(self, name):\n",
    "        super().__init__(name, \"Mammal\")\n",
    "\n",
    "    def make_sound(self):\n",
    "        return \"Mammal makes a generic sound\"\n",
    "\n",
    "\n",
    "class Bird(Animal):\n",
    "    def __init__(self, name):\n",
    "        super().__init__(name, \"Bird\")\n",
    "\n",
    "    def make_sound(self):\n",
    "        return \"Bird chirps\"\n",
    "\n",
    "\n",
    "class Reptile(Animal):\n",
    "    def __init__(self, name):\n",
    "        super().__init__(name, \"Reptile\")\n",
    "\n",
    "    def make_sound(self):\n",
    "        return \"Reptile hisses\"\n",
    "\n",
    "\n",
    "# Polymorphic demonstration in zoo simulation\n",
    "mammal = Mammal(\"Lion\")\n",
    "bird = Bird(\"Parrot\")\n",
    "reptile = Reptile(\"Snake\")\n",
    "\n",
    "print(mammal.eat())  # Output: \"Mammal Lion is eating.\"\n",
    "print(bird.sleep())  # Output: \"Bird Parrot is sleeping.\"\n",
    "print(reptile.make_sound())  # Output: \"Reptile hisses\""
   ]
  },
  {
   "cell_type": "code",
   "execution_count": null,
   "id": "3ffc655c-5162-489d-8d90-f9cf9a86d72a",
   "metadata": {},
   "outputs": [],
   "source": [
    "Abstraction:"
   ]
  },
  {
   "cell_type": "code",
   "execution_count": null,
   "id": "2faac36f-e80c-45ca-baca-ab9c064e81b6",
   "metadata": {},
   "outputs": [],
   "source": [
    "1. What is abstraction in Python, and how does it relate to object-oriented programming?"
   ]
  },
  {
   "cell_type": "code",
   "execution_count": null,
   "id": "91ad90b2-a5f1-4ddc-9868-6e087fa741f5",
   "metadata": {},
   "outputs": [],
   "source": [
    "Key Aspects of Abstraction in Python:\n",
    "Hiding Complexity: Abstraction allows the creation of classes or objects that expose only necessary information to the outside world, hiding the internal implementation details.\n",
    "\n",
    "Creating Interfaces: Abstraction often involves defining interfaces or abstract classes that contain method signatures without implementations, providing a blueprint for concrete classes to follow.\n",
    "\n",
    "Encapsulation: Abstraction is closely related to encapsulation—the bundling of data with methods that operate on that data within a single unit (class).\n",
    "This allows for information hiding and reduces complexity.\n",
    "\n",
    "Focus on What, Not How: It emphasizes focusing on what an object does rather than how it does it, promoting a clearer understanding and easier maintenance of the codebase.\n",
    "\n",
    "Relating Abstraction to Object-Oriented Programming:\n",
    "Classes and Objects: Abstraction is a fundamental principle in OOP that allows the creation of classes and objects with well-defined boundaries, exposing necessary functionality while hiding implementation details.\n",
    "Interfaces and Abstract Classes: Abstract classes and interfaces serve as abstractions in Python. \n",
    "Abstract classes define abstract methods that must be implemented by concrete subclasses, while interfaces specify a contract without any implementation, defining a common structure for multiple classes to follow.\n",
    "\n",
    "Polymorphism: Abstraction enables polymorphism by allowing objects of different classes to be treated uniformly through a common interface. This allows for flexibility in using objects interchangeably based on their common behavior."
   ]
  },
  {
   "cell_type": "code",
   "execution_count": null,
   "id": "3c31e3e6-9c32-44e5-880e-1a118398a10f",
   "metadata": {},
   "outputs": [],
   "source": [
    "2. Describe the benefits of abstraction in terms of code organization and complexity reduction."
   ]
  },
  {
   "cell_type": "code",
   "execution_count": null,
   "id": "90eb2cc5-7be8-4741-ab92-9d769ed61ee9",
   "metadata": {},
   "outputs": [],
   "source": [
    "Abstraction in programming, particularly in object-oriented programming, offers several benefits in terms of code organization and complexity reduction:\n",
    "\n",
    "1. Hiding Implementation Details:\n",
    "Reduced Complexity: Abstraction hides complex implementation details, allowing users of a class or module to interact with a simplified interface. \n",
    "This reduces cognitive load and makes code easier to understand.\n",
    "2. Creating Clear Interfaces:\n",
    "Clear Contract: Abstraction allows the creation of clear interfaces or abstract classes, specifying methods that must be implemented by subclasses. \n",
    "This creates a contract for how different parts of the code can interact with each other.\n",
    "3. Encapsulation and Information Hiding:\n",
    "Encapsulation: Abstraction encourages encapsulation by bundling data and methods within a class.\n",
    "This information hiding prevents direct access to internal data, enforcing controlled access through methods.\n",
    "Modularity: By hiding implementation details, abstraction encourages modular design. Each module or class becomes a black box, allowing changes to the internal implementation without affecting the code using it.\n",
    "4. Code Reusability and Maintenance:\n",
    "Code Reusability: Abstraction promotes the creation of reusable components. Abstract classes or interfaces define a common structure that multiple subclasses can implement, reducing redundancy.\n",
    "Easier Maintenance: Changes made within the abstracted component (class, module) are less likely to affect other parts of the codebase. \n",
    "This localized impact simplifies maintenance and reduces the risk of unintended consequences.\n",
    "5. Facilitating Polymorphism:\n",
    "Polymorphic Behavior: Abstraction enables polymorphism by allowing objects of different classes to be treated uniformly through a common interface.\n",
    "This flexibility promotes extensibility and adaptability in code.\n",
    "6. Enhancing Readability and Understanding:\n",
    "Clarity and Readability: By focusing on essential features and hiding irrelevant details, abstraction makes code more readable and understandable.\n",
    "It allows developers to focus on high-level concepts without getting lost in the nitty-gritty implementation."
   ]
  },
  {
   "cell_type": "code",
   "execution_count": null,
   "id": "b2ac83c2-5f8c-4a4b-a751-01e9361f91cf",
   "metadata": {},
   "outputs": [],
   "source": [
    "3. Create a Python class called `Shape` with an abstract method `calculate_area()`.\n",
    "Then, create child classes (e.g., `Circle`, `Rectangle`) that implement the `calculate_area()` method. Provide an example of \n",
    "using these classes."
   ]
  },
  {
   "cell_type": "code",
   "execution_count": 27,
   "id": "6d0a1927-6e51-4cad-9245-3d22c981cb0c",
   "metadata": {},
   "outputs": [
    {
     "name": "stdout",
     "output_type": "stream",
     "text": [
      "78.5\n",
      "24\n"
     ]
    }
   ],
   "source": [
    "from abc import ABC, abstractmethod\n",
    "\n",
    "class Shape(ABC):  # Abstract class Shape\n",
    "    @abstractmethod\n",
    "    def calculate_area(self):\n",
    "        pass  # Abstract method to be implemented by subclasses\n",
    "\n",
    "class Circle(Shape):\n",
    "    def __init__(self, radius):\n",
    "        self.radius = radius\n",
    "\n",
    "    def calculate_area(self):\n",
    "        return 3.14 * self.radius ** 2  # Calculate area for a circle\n",
    "\n",
    "class Rectangle(Shape):\n",
    "    def __init__(self, length, width):\n",
    "        self.length = length\n",
    "        self.width = width\n",
    "\n",
    "    def calculate_area(self):\n",
    "        return self.length * self.width  # Calculate area for a rectangle\n",
    "\n",
    "# Usage of the Shape, Circle, and Rectangle classes\n",
    "circle = Circle(5)\n",
    "rectangle = Rectangle(4, 6)\n",
    "\n",
    "print(circle.calculate_area())  # Output: 78.5\n",
    "print(rectangle.calculate_area())  # Output: 24"
   ]
  },
  {
   "cell_type": "code",
   "execution_count": null,
   "id": "e187df78-6a55-4013-9847-eba6f5d1b81b",
   "metadata": {},
   "outputs": [],
   "source": [
    "4. Explain the concept of abstract classes in Python and how they are defined using the `abc` module. Provide \n",
    "an example."
   ]
  },
  {
   "cell_type": "code",
   "execution_count": 28,
   "id": "87087542-ab70-42b1-a65b-c2e85c711476",
   "metadata": {},
   "outputs": [
    {
     "name": "stdout",
     "output_type": "stream",
     "text": [
      "78.5\n"
     ]
    }
   ],
   "source": [
    "\"\"\"Abstract classes in Python are classes that contain one or more abstract methods—methods without any implementation. \n",
    "They serve as blueprints or templates for other classes and cannot be instantiated directly. \n",
    "Abstract classes define a structure or interface that concrete subclasses must adhere to by implementing the abstract methods.\n",
    "\n",
    "The abc module (Abstract Base Classes) in Python provides tools for working with abstract classes. \n",
    "It allows the creation of abstract methods and abstract classes, ensuring that derived classes implement necessary functionality.\n",
    "\n",
    "Example of an Abstract Class using the abc Module:\"\"\"\n",
    "from abc import ABC, abstractmethod\n",
    "\n",
    "class Shape(ABC):  # Abstract class Shape from ABC module\n",
    "    @abstractmethod\n",
    "    def calculate_area(self):\n",
    "        pass  # Abstract method to be implemented by subclasses\n",
    "\n",
    "class Circle(Shape):\n",
    "    def __init__(self, radius):\n",
    "        self.radius = radius\n",
    "\n",
    "    def calculate_area(self):\n",
    "        return 3.14 * self.radius ** 2  # Concrete implementation for calculate_area in Circle\n",
    "\n",
    "# Attempting to instantiate an abstract class (Shape)\n",
    "# This would raise an error as abstract classes cannot be instantiated directly\n",
    "# shape = Shape()  # Uncommenting this line will raise TypeError\n",
    "\n",
    "# Instantiating a concrete subclass (Circle) of the abstract class (Shape)\n",
    "circle = Circle(5)\n",
    "print(circle.calculate_area())  # Output: 78.5"
   ]
  },
  {
   "cell_type": "code",
   "execution_count": null,
   "id": "a7868a89-fb0d-4aa0-860e-67e28ea9d750",
   "metadata": {},
   "outputs": [],
   "source": [
    "5. How do abstract classes differ from regular classes in Python? Discuss their use cases."
   ]
  },
  {
   "cell_type": "code",
   "execution_count": null,
   "id": "84fe59d7-57e1-4912-84c2-aff0fbfb72c7",
   "metadata": {},
   "outputs": [],
   "source": [
    "Abstract classes and regular classes differ primarily in their intended use and functionality within the Python programming paradigm.\n",
    "\n",
    "Differences between Abstract Classes and Regular Classes:\n",
    "Instantiation:\n",
    "\n",
    "Regular Classes: Instances of regular classes can be created directly.\n",
    "Abstract Classes: Abstract classes cannot be instantiated directly. \n",
    "They serve as templates or blueprints for other classes and must be subclassed to provide implementations for their abstract methods.\n",
    "Abstract Methods:\n",
    "\n",
    "Regular Classes: Regular classes may or may not contain all method implementations.\n",
    "Abstract Classes: Abstract classes contain one or more abstract methods—methods without any implementation. Subclasses must provide implementations for these abstract methods.\n",
    "Purpose and Usage:\n",
    "    Regular Classes: Regular classes are used to create objects that can be instantiated and used directly. They may or may not contain methods that require implementation by subclasses.\n",
    "Abstract Classes: Abstract classes are used to define a common interface or structure that must be implemented by subclasses. They cannot be instantiated on their own but define a blueprint for derived classes to follow.\n",
    "Use Cases:\n",
    "Abstract Classes:\n",
    "\n",
    "Define a common structure: Abstract classes define a structure or interface that multiple subclasses must adhere to by implementing abstract methods.\n",
    "Promote code reusability: They allow the creation of common functionality that can be shared among multiple subclasses.\n",
    "Provide a contract: Abstract classes specify a contract for derived classes, ensuring that specific methods must be implemented.\n",
    "Example Use Case: In a geometric shapes scenario, an abstract class Shape defines methods like calculate_area() and calculate_perimeter(), which must be implemented by specific shape classes (e.g., Circle, Rectangle, Triangle).\n",
    "Regular Classes:\n",
    "\n",
    "Instantiate objects directly: Regular classes are instantiated directly to create objects that have specific behaviors and attributes.\n",
    "Contain concrete implementations: They may contain methods with concrete implementations or default behaviors.\n",
    "Example Use Case: A Person class that represents individuals and contains attributes like name, age, and methods like greet() or get_age()."
   ]
  },
  {
   "cell_type": "code",
   "execution_count": null,
   "id": "f82be635-aa5f-43a9-875c-92315e8cfd89",
   "metadata": {},
   "outputs": [],
   "source": [
    "6. Create a Python class for a bank account and demonstrate abstraction by hiding the account balance and \n",
    "providing methods to deposit and withdraw funds."
   ]
  },
  {
   "cell_type": "code",
   "execution_count": 29,
   "id": "81348353-d61b-4e06-8bf3-e9c9f8cf4ee4",
   "metadata": {},
   "outputs": [
    {
     "name": "stdout",
     "output_type": "stream",
     "text": [
      "Deposited $500. Current balance: $1500\n",
      "Withdrew $200. Current balance: $1300\n",
      "Interest earned: $39.0\n"
     ]
    }
   ],
   "source": [
    "from abc import ABC, abstractmethod\n",
    "\n",
    "class BankAccount(ABC):\n",
    "    def __init__(self, account_number, initial_balance):\n",
    "        self._account_number = account_number\n",
    "        self._balance = initial_balance\n",
    "\n",
    "    @abstractmethod\n",
    "    def calculate_interest(self):\n",
    "        pass  # Abstract method to calculate interest (to be implemented by subclasses)\n",
    "\n",
    "    def deposit(self, amount):\n",
    "        if amount > 0:\n",
    "            self._balance += amount\n",
    "            print(f\"Deposited ${amount}. Current balance: ${self._balance}\")\n",
    "        else:\n",
    "            print(\"Please deposit an amount greater than 0.\")\n",
    "\n",
    "    def withdraw(self, amount):\n",
    "        if amount > 0:\n",
    "            if amount <= self._balance:\n",
    "                self._balance -= amount\n",
    "                print(f\"Withdrew ${amount}. Current balance: ${self._balance}\")\n",
    "            else:\n",
    "                print(\"Insufficient funds.\")\n",
    "        else:\n",
    "            print(\"Please withdraw an amount greater than 0.\")\n",
    "\n",
    "class SavingsAccount(BankAccount):\n",
    "    def __init__(self, account_number, initial_balance):\n",
    "        super().__init__(account_number, initial_balance)\n",
    "\n",
    "    def calculate_interest(self):\n",
    "        # Implement interest calculation logic for savings account\n",
    "        # For example:\n",
    "        return self._balance * 0.03  # Assuming 3% interest rate\n",
    "\n",
    "# Usage of the BankAccount and SavingsAccount classes\n",
    "savings_account = SavingsAccount(\"SA123\", 1000)\n",
    "savings_account.deposit(500)  # Output: Deposited $500. Current balance: $1500\n",
    "savings_account.withdraw(200)  # Output: Withdrew $200. Current balance: $1300\n",
    "\n",
    "interest = savings_account.calculate_interest()\n",
    "print(f\"Interest earned: ${interest}\")  # Output: Interest earned: $39.0 (assuming the balance is $1300)"
   ]
  },
  {
   "cell_type": "code",
   "execution_count": null,
   "id": "e49c6912-067f-4ebf-9a0a-7e12ef97702e",
   "metadata": {},
   "outputs": [],
   "source": [
    "7. Discuss the concept of interface classes in Python and their role in achieving abstraction."
   ]
  },
  {
   "cell_type": "code",
   "execution_count": null,
   "id": "1d3a01b5-2b3e-49b3-8624-3e34d92a53db",
   "metadata": {},
   "outputs": [],
   "source": [
    "In Python, interface classes serve as blueprints or contracts that define a set of methods without any implementation. \n",
    "They provide a common structure that classes can adhere to by implementing these methods. Interface classes play a role in achieving abstraction by defining a clear and standardized interface that ensures consistent behavior across multiple classes.\n",
    "\n",
    "Role of Interface Classes in Achieving Abstraction:\n",
    "Defining a Common Interface:\n",
    "\n",
    "Interface classes in Python define a set of method signatures without providing any implementation details. \n",
    "These methods act as a contract that subclasses must adhere to by implementing these methods.\n",
    "Enforcing Method Implementation:\n",
    "\n",
    "Classes that inherit from an interface class must provide concrete implementations for all the methods defined in the interface.\n",
    "This ensures that each implementing class has specific behavior for the methods outlined in the interface.\n",
    "Promoting Consistency and Structure:\n",
    "\n",
    "Interface classes establish a standardized structure and behavior that participating classes must follow. \n",
    "This promotes consistency in the way different classes interact and allows for interchangeable usage of these classes.\n",
    "Achieving Abstraction and Polymorphism:\n",
    "\n",
    "Interface classes abstract away implementation details, focusing on defining a common structure. \n",
    "This abstraction facilitates polymorphism by allowing objects of different classes to be treated uniformly through a shared interface.\n",
    "Facilitating Design Patterns:\n",
    "\n",
    "Interface classes are often used in design patterns like the Adapter or Strategy pattern, where multiple classes need to conform to a specific interface, allowing different implementations to be interchangeable.\n"
   ]
  },
  {
   "cell_type": "code",
   "execution_count": null,
   "id": "aff80843-b0b4-4155-b342-b941b2413f71",
   "metadata": {},
   "outputs": [],
   "source": [
    "8. Create a Python class hierarchy for animals and implement abstraction by defining common methods\n",
    "(e.g., `eat()`, `sleep()`) in an abstract base class."
   ]
  },
  {
   "cell_type": "code",
   "execution_count": 30,
   "id": "b4d6f349-945a-41d9-8d31-72edb220be00",
   "metadata": {},
   "outputs": [
    {
     "name": "stdout",
     "output_type": "stream",
     "text": [
      "Woof!\n",
      "Whiskers is eating.\n",
      "Tweetie is sleeping.\n"
     ]
    }
   ],
   "source": [
    "from abc import ABC, abstractmethod\n",
    "\n",
    "class Animal(ABC):  # Abstract base class for animals\n",
    "    def __init__(self, name):\n",
    "        self.name = name\n",
    "\n",
    "    @abstractmethod\n",
    "    def make_sound(self):\n",
    "        pass  # Abstract method to be implemented by subclasses\n",
    "\n",
    "    def eat(self):\n",
    "        return f\"{self.name} is eating.\"\n",
    "\n",
    "    def sleep(self):\n",
    "        return f\"{self.name} is sleeping.\"\n",
    "\n",
    "class Dog(Animal):\n",
    "    def make_sound(self):\n",
    "        return \"Woof!\"  # Specific sound for Dog\n",
    "\n",
    "class Cat(Animal):\n",
    "    def make_sound(self):\n",
    "        return \"Meow!\"  # Specific sound for Cat\n",
    "\n",
    "class Bird(Animal):\n",
    "    def make_sound(self):\n",
    "        return \"Chirp chirp!\"  # Specific sound for Bird\n",
    "\n",
    "# Usage of the Animal class and its subclasses\n",
    "dog = Dog(\"Buddy\")\n",
    "cat = Cat(\"Whiskers\")\n",
    "bird = Bird(\"Tweetie\")\n",
    "\n",
    "print(dog.make_sound())  # Output: Woof!\n",
    "print(cat.eat())  # Output: Whiskers is eating.\n",
    "print(bird.sleep())  # Output: Tweetie is sleeping."
   ]
  },
  {
   "cell_type": "code",
   "execution_count": null,
   "id": "0b2fdd6a-8bd8-4d0c-bc6a-378918e90b48",
   "metadata": {},
   "outputs": [],
   "source": [
    "9. Explain the significance of encapsulation in achieving abstraction. Provide examples."
   ]
  },
  {
   "cell_type": "code",
   "execution_count": 31,
   "id": "b95b58e7-0172-402a-ab53-d25b8d734e5f",
   "metadata": {},
   "outputs": [
    {
     "name": "stdout",
     "output_type": "stream",
     "text": [
      "My Toyota Corolla is running at 20 mph.\n"
     ]
    }
   ],
   "source": [
    "\"\"\"Significance of Encapsulation in Achieving Abstraction:\n",
    "Hiding Implementation Details:\n",
    "\n",
    "Encapsulation involves bundling data (attributes) and methods that operate on that data within a single unit (class).\n",
    "By encapsulating the internal state, the implementation details are hidden from external entities, promoting abstraction.\n",
    "Data Protection and Access Control:\n",
    "\n",
    "Encapsulation allows for controlling the access to the internal state of an object by using access modifiers like public, private, and protected.\n",
    "It prevents direct manipulation of internal data, ensuring that it's accessed and modified through well-defined methods (getters/setters), facilitating abstraction.\n",
    "Promoting Abstraction and Information Hiding:\n",
    "\n",
    "By exposing only necessary information and operations through methods, encapsulation supports abstraction by focusing on what an object does rather than how it does it.\n",
    "It hides the complexities of the implementation, allowing users to interact with the object through a simplified interface.\"\"\"\n",
    "class Car:\n",
    "    def __init__(self, make, model, year):\n",
    "        self._make = make  # Encapsulated attribute\n",
    "        self._model = model  # Encapsulated attribute\n",
    "        self._year = year  # Encapsulated attribute\n",
    "        self._speed = 0  # Encapsulated attribute\n",
    "\n",
    "    def accelerate(self, increment):\n",
    "        self._speed += increment\n",
    "\n",
    "    def get_speed(self):\n",
    "        return self._speed  # Encapsulated method to access speed\n",
    "\n",
    "# Usage of encapsulation and abstraction in Car class\n",
    "my_car = Car(\"Toyota\", \"Corolla\", 2022)\n",
    "my_car.accelerate(20)  # Increasing speed by 20 units\n",
    "current_speed = my_car.get_speed()  # Getting the current speed\n",
    "\n",
    "print(f\"My {my_car._make} {my_car._model} is running at {current_speed} mph.\")"
   ]
  },
  {
   "cell_type": "code",
   "execution_count": null,
   "id": "d9bbee44-7b26-4ac8-a6da-640a75a45c07",
   "metadata": {},
   "outputs": [],
   "source": [
    "10. What is the purpose of abstract methods, and how do they enforce abstraction in Python classes?"
   ]
  },
  {
   "cell_type": "code",
   "execution_count": 32,
   "id": "20e6b84c-68d9-477f-908e-5338f1bed2cb",
   "metadata": {},
   "outputs": [
    {
     "name": "stdout",
     "output_type": "stream",
     "text": [
      "Area of the circle: 78.5\n"
     ]
    }
   ],
   "source": [
    "\"\"\"Purpose of Abstract Methods:\n",
    "Defining a Blueprint:\n",
    "\n",
    "Abstract methods declare method signatures without any implementation details within an abstract class, acting as a blueprint or contract that subclasses must follow.\n",
    "Enforcing Method Implementation:\n",
    "\n",
    "Subclasses inheriting from an abstract class must provide concrete implementations for all the abstract methods defined in the abstract class. This ensures that the subclasses conform to a specific structure defined by the abstract class.\n",
    "Promoting Consistency:\n",
    "\n",
    "Abstract methods establish a standardized interface that participating subclasses must adhere to. This promotes consistency in behavior and ensures that essential methods are implemented across different subclasses.\n",
    "Enforcement of Abstraction in Python Classes:\n",
    "Using Abstract Base Classes (ABCs):\n",
    "Abstract methods are defined in abstract base classes (ABCs) using the @abstractmethod decorator from the abc module.\n",
    "Attempting to create an instance of an abstract class directly or instantiate a subclass without providing implementations for all abstract methods raises a TypeError.\n",
    "Example Demonstrating Abstraction with Abstract Methods:\"\"\"\n",
    "from abc import ABC, abstractmethod\n",
    "\n",
    "class Shape(ABC):  # Abstract class for shapes\n",
    "    @abstractmethod\n",
    "    def calculate_area(self):\n",
    "        pass  # Abstract method to calculate the area of a shape\n",
    "\n",
    "class Circle(Shape):  # Concrete subclass implementing Shape\n",
    "    def __init__(self, radius):\n",
    "        self.radius = radius\n",
    "\n",
    "    def calculate_area(self):\n",
    "        return 3.14 * self.radius ** 2  # Concrete implementation for calculating the area of a circle\n",
    "\n",
    "# Attempting to create an instance of an abstract class (Shape)\n",
    "# This would raise a TypeError as abstract classes cannot be instantiated\n",
    "# shape = Shape()  # Uncommenting this line will raise TypeError\n",
    "\n",
    "# Creating an instance of a concrete subclass (Circle) of the abstract class (Shape)\n",
    "circle = Circle(5)\n",
    "area = circle.calculate_area()\n",
    "print(f\"Area of the circle: {area}\")  # Output: Area of the circle: 78.5"
   ]
  },
  {
   "cell_type": "code",
   "execution_count": null,
   "id": "38b354e7-0ff4-49d8-9462-b61d5aca8e3a",
   "metadata": {},
   "outputs": [],
   "source": [
    "11. Create a Python class for a vehicle system and demonstrate abstraction by defining \n",
    "common methods (e.g., `start()`, `stop()`) in an abstract base class."
   ]
  },
  {
   "cell_type": "code",
   "execution_count": 1,
   "id": "7d4f4387-69aa-42ad-bc4d-b2c5e1682054",
   "metadata": {},
   "outputs": [
    {
     "name": "stdout",
     "output_type": "stream",
     "text": [
      "Toyota Corolla car started\n",
      "Toyota Corolla car stopped\n",
      "Honda CBR motorcycle started\n",
      "Honda CBR motorcycle stopped\n"
     ]
    }
   ],
   "source": [
    "from abc import ABC, abstractmethod\n",
    "\n",
    "class Vehicle(ABC):\n",
    "    def __init__(self, make, model):\n",
    "        self.make = make\n",
    "        self.model = model\n",
    "    \n",
    "    @abstractmethod\n",
    "    def start(self):\n",
    "        pass\n",
    "    \n",
    "    @abstractmethod\n",
    "    def stop(self):\n",
    "        pass\n",
    "\n",
    "class Car(Vehicle):\n",
    "    def start(self):\n",
    "        return f\"{self.make} {self.model} car started\"\n",
    "    \n",
    "    def stop(self):\n",
    "        return f\"{self.make} {self.model} car stopped\"\n",
    "\n",
    "class Motorcycle(Vehicle):\n",
    "    def start(self):\n",
    "        return f\"{self.make} {self.model} motorcycle started\"\n",
    "    \n",
    "    def stop(self):\n",
    "        return f\"{self.make} {self.model} motorcycle stopped\"\n",
    "\n",
    "# Demonstration\n",
    "car = Car(\"Toyota\", \"Corolla\")\n",
    "motorcycle = Motorcycle(\"Honda\", \"CBR\")\n",
    "\n",
    "print(car.start())\n",
    "print(car.stop())\n",
    "\n",
    "print(motorcycle.start())\n",
    "print(motorcycle.stop())"
   ]
  },
  {
   "cell_type": "code",
   "execution_count": null,
   "id": "9d81b70b-7783-40a2-80da-4acb25f018ee",
   "metadata": {},
   "outputs": [],
   "source": [
    "12. Describe the use of abstract properties in Python and how they can be employed in abstract classes."
   ]
  },
  {
   "cell_type": "code",
   "execution_count": 2,
   "id": "b8a7436e-ca8f-4386-b98d-80217c7e71b0",
   "metadata": {},
   "outputs": [
    {
     "name": "stdout",
     "output_type": "stream",
     "text": [
      "Car Fuel Type: Gasoline\n",
      "Motorcycle Fuel Type: Petrol\n"
     ]
    }
   ],
   "source": [
    "\"\"\"Abstract properties in Python are used to define properties in an abstract base class without providing an implementation. \n",
    "They are useful when you want to enforce that subclasses must implement certain properties but leave the implementation details to those subclasses.\n",
    "\n",
    "Here's an example of how abstract properties can be employed in abstract classes using Python's abc module:\"\"\"\n",
    "from abc import ABC, abstractmethod\n",
    "\n",
    "class Vehicle(ABC):\n",
    "    def __init__(self, make, model):\n",
    "        self.make = make\n",
    "        self.model = model\n",
    "    \n",
    "    @property\n",
    "    @abstractmethod\n",
    "    def fuel_type(self):\n",
    "        pass\n",
    "\n",
    "class Car(Vehicle):\n",
    "    def __init__(self, make, model):\n",
    "        super().__init__(make, model)\n",
    "        self._fuel_type = None\n",
    "    \n",
    "    @property\n",
    "    def fuel_type(self):\n",
    "        return self._fuel_type\n",
    "    \n",
    "    @fuel_type.setter\n",
    "    def fuel_type(self, value):\n",
    "        self._fuel_type = value\n",
    "\n",
    "class Motorcycle(Vehicle):\n",
    "    def __init__(self, make, model):\n",
    "        super().__init__(make, model)\n",
    "        self._fuel_type = None\n",
    "    \n",
    "    @property\n",
    "    def fuel_type(self):\n",
    "        return self._fuel_type\n",
    "    \n",
    "    @fuel_type.setter\n",
    "    def fuel_type(self, value):\n",
    "        self._fuel_type = value\n",
    "\n",
    "# Usage\n",
    "car = Car(\"Toyota\", \"Corolla\")\n",
    "car.fuel_type = \"Gasoline\"\n",
    "print(f\"Car Fuel Type: {car.fuel_type}\")\n",
    "\n",
    "motorcycle = Motorcycle(\"Honda\", \"CBR\")\n",
    "motorcycle.fuel_type = \"Petrol\"\n",
    "print(f\"Motorcycle Fuel Type: {motorcycle.fuel_type}\")"
   ]
  },
  {
   "cell_type": "code",
   "execution_count": null,
   "id": "6df6548e-04b5-40b1-acff-f0ec72430b90",
   "metadata": {},
   "outputs": [],
   "source": [
    "13. Create a Python class hierarchy for employees in a company (e.g., manager, developer, designer) \n",
    "and implement abstraction by defining a common `get_salary()` method"
   ]
  },
  {
   "cell_type": "code",
   "execution_count": 3,
   "id": "f506e38a-c76b-4290-beb2-e27f4ac5854a",
   "metadata": {},
   "outputs": [
    {
     "name": "stdout",
     "output_type": "stream",
     "text": [
      "Alice's salary: $80000\n",
      "Bob's salary: $60000\n",
      "Charlie's salary: $55000\n"
     ]
    }
   ],
   "source": [
    "from abc import ABC, abstractmethod\n",
    "\n",
    "class Employee(ABC):\n",
    "    def __init__(self, name, emp_id):\n",
    "        self.name = name\n",
    "        self.emp_id = emp_id\n",
    "    \n",
    "    @abstractmethod\n",
    "    def get_salary(self):\n",
    "        pass\n",
    "\n",
    "class Manager(Employee):\n",
    "    def __init__(self, name, emp_id, department):\n",
    "        super().__init__(name, emp_id)\n",
    "        self.department = department\n",
    "    \n",
    "    def get_salary(self):\n",
    "        # Implement salary calculation for a manager\n",
    "        return 80000  # Example: fixed salary for a manager\n",
    "\n",
    "class Developer(Employee):\n",
    "    def __init__(self, name, emp_id, programming_language):\n",
    "        super().__init__(name, emp_id)\n",
    "        self.programming_language = programming_language\n",
    "    \n",
    "    def get_salary(self):\n",
    "        # Implement salary calculation for a developer\n",
    "        return 60000  # Example: fixed salary for a developer\n",
    "\n",
    "class Designer(Employee):\n",
    "    def __init__(self, name, emp_id, design_tool):\n",
    "        super().__init__(name, emp_id)\n",
    "        self.design_tool = design_tool\n",
    "    \n",
    "    def get_salary(self):\n",
    "        # Implement salary calculation for a designer\n",
    "        return 55000  # Example: fixed salary for a designer\n",
    "\n",
    "# Demonstration\n",
    "manager = Manager(\"Alice\", 1001, \"HR\")\n",
    "developer = Developer(\"Bob\", 2002, \"Python\")\n",
    "designer = Designer(\"Charlie\", 3003, \"Sketch\")\n",
    "\n",
    "print(f\"{manager.name}'s salary: ${manager.get_salary()}\")\n",
    "print(f\"{developer.name}'s salary: ${developer.get_salary()}\")\n",
    "print(f\"{designer.name}'s salary: ${designer.get_salary()}\")"
   ]
  },
  {
   "cell_type": "code",
   "execution_count": null,
   "id": "3d7caad1-c898-4067-bc41-80636853efa7",
   "metadata": {},
   "outputs": [],
   "source": [
    "14. Discuss the differences between abstract classes and concrete classes in Python, including their \n",
    "instantiation."
   ]
  },
  {
   "cell_type": "code",
   "execution_count": null,
   "id": "1f9f7143-ae44-4dbf-9259-e518a7cb5546",
   "metadata": {},
   "outputs": [],
   "source": [
    "Abstract Classes:\n",
    "Definition: Abstract classes cannot be instantiated on their own; they are designed to be subclasses and provide a blueprint for other classes.\n",
    "Use of abc module: Abstract classes are often created using the abc (Abstract Base Classes) module in Python.\n",
    "Contain abstract methods: Abstract classes can contain abstract methods that lack implementation, providing a structure that must be fulfilled by their subclasses.\n",
    "Purpose: They are used to define a common interface and to enforce that their subclasses implement certain methods.\n",
    "Example: Abstract classes are used when you want to create a template that sets out methods that must be implemented by inheriting classes, but doesn’t provide concrete implementations.\n",
    "Concrete Classes:\n",
    "Definition: Concrete classes can be instantiated directly. They are complete and provide implementations for all methods defined in their class hierarchy.\n",
    "Instantiation: You can create objects directly from concrete classes using the class name followed by parentheses ().\n",
    "Purpose: They are used to create objects that have full implementations for all methods and can be used as-is without further subclassing.\n",
    "Example: Classes that can be instantiated directly without the need for any additional methods to be implemented are concrete classes.\n",
    "Instantiation Differences:\n",
    "Abstract Classes: Cannot be instantiated on their own. They are designed to be inherited by concrete subclasses, and objects are instantiated from these concrete subclasses, not the abstract class itself.\n",
    "\n",
    "Concrete Classes: Can be instantiated directly. Objects are created directly from concrete classes by calling the class name followed by parentheses ()."
   ]
  },
  {
   "cell_type": "code",
   "execution_count": null,
   "id": "d6814f84-355e-4c18-9354-5904e772669c",
   "metadata": {},
   "outputs": [],
   "source": [
    "15. Explain the concept of abstract data types (ADTs) and their role in achieving abstraction in Python."
   ]
  },
  {
   "cell_type": "code",
   "execution_count": null,
   "id": "e7b77960-b227-4ac9-aa60-20095a392a65",
   "metadata": {},
   "outputs": [],
   "source": [
    "Abstract Data Types (ADTs) are a theoretical concept in computer science that define a logical model for data types, focusing on how data is structured and what operations can be performed on it, rather than the actual implementation details. \n",
    "ADTs encapsulate data and the operations that can be performed on that data. \n",
    "They serve as a blueprint or a contract for the data type without specifying how the data or operations are implemented.\n",
    "\n",
    "In Python, while the language itself does not have explicit constructs for ADTs like some other programming languages (e.g., Java with interfaces), the concept of ADTs is realized through classes and interfaces created using abstract classes or interfaces provided by modules like abc (Abstract Base Classes).\n",
    "\n",
    "Here's how ADTs contribute to achieving abstraction in Python:\n",
    "\n",
    "Encapsulation: ADTs encapsulate data and define operations that can be performed on that data, hiding the underlying implementation details. This encapsulation allows for better control over data access and modification.\n",
    "Abstraction: ADTs provide an abstract view of data structures and their associated operations. \n",
    "They define a clear interface or set of methods that subclasses must implement. \n",
    "This abstract view allows programmers to work with high-level data structures without being concerned about the specific implementation details.\n",
    "\n",
    "Polymorphism: ADTs support polymorphism, allowing different data structures to adhere to the same interface. \n",
    "This enables the interchangeability of different implementations of the same abstract data type, enhancing flexibility and code reuse.\n",
    "\n",
    "Python achieves abstraction through ADTs using techniques such as abstract base classes (abc module) or defining interfaces through class inheritance with abstract methods. \n",
    "By defining abstract methods that must be implemented in subclasses, Python allows for the creation of abstract data types, ensuring that subclasses adhere to a specific interface or behavior while leaving the implementation details to the subclasses themselves."
   ]
  },
  {
   "cell_type": "code",
   "execution_count": null,
   "id": "d0cea1fb-1de9-4bed-9eb7-3e38c3de2113",
   "metadata": {},
   "outputs": [],
   "source": [
    "16. Create a Python class for a computer system, demonstrating abstraction by defining common methods \n",
    "(e.g., `power_on()`, `shutdown()`) in an abstract base class."
   ]
  },
  {
   "cell_type": "code",
   "execution_count": 4,
   "id": "2d8af1d2-d550-47c4-b1dd-6b66d974f2e8",
   "metadata": {},
   "outputs": [
    {
     "name": "stdout",
     "output_type": "stream",
     "text": [
      "Dell Inspiron desktop is powering on\n",
      "Dell Inspiron desktop is shutting down\n",
      "HP Pavilion laptop is powering on\n",
      "HP Pavilion laptop is shutting down\n"
     ]
    }
   ],
   "source": [
    "from abc import ABC, abstractmethod\n",
    "\n",
    "class ComputerSystem(ABC):\n",
    "    def __init__(self, brand, model):\n",
    "        self.brand = brand\n",
    "        self.model = model\n",
    "    \n",
    "    @abstractmethod\n",
    "    def power_on(self):\n",
    "        pass\n",
    "    \n",
    "    @abstractmethod\n",
    "    def shutdown(self):\n",
    "        pass\n",
    "\n",
    "class Desktop(ComputerSystem):\n",
    "    def power_on(self):\n",
    "        return f\"{self.brand} {self.model} desktop is powering on\"\n",
    "    \n",
    "    def shutdown(self):\n",
    "        return f\"{self.brand} {self.model} desktop is shutting down\"\n",
    "\n",
    "class Laptop(ComputerSystem):\n",
    "    def power_on(self):\n",
    "        return f\"{self.brand} {self.model} laptop is powering on\"\n",
    "    \n",
    "    def shutdown(self):\n",
    "        return f\"{self.brand} {self.model} laptop is shutting down\"\n",
    "\n",
    "# Demonstration\n",
    "desktop = Desktop(\"Dell\", \"Inspiron\")\n",
    "laptop = Laptop(\"HP\", \"Pavilion\")\n",
    "\n",
    "print(desktop.power_on())\n",
    "print(desktop.shutdown())\n",
    "\n",
    "print(laptop.power_on())\n",
    "print(laptop.shutdown())"
   ]
  },
  {
   "cell_type": "code",
   "execution_count": null,
   "id": "158de75a-0c71-4142-9783-0ebcdd0fea5f",
   "metadata": {},
   "outputs": [],
   "source": [
    "17. Discuss the benefits of using abstraction in large-scale software development projects."
   ]
  },
  {
   "cell_type": "code",
   "execution_count": null,
   "id": "3730e8db-f145-449c-8e49-0af942520cd3",
   "metadata": {},
   "outputs": [],
   "source": [
    "Abstraction is a fundamental principle in software development that offers several benefits, especially in large-scale projects:\n",
    "\n",
    "Managing Complexity: In large-scale projects, there's often a significant level of complexity. Abstraction allows developers to manage this complexity by hiding unnecessary details and providing a high-level view of systems or components. This simplification makes the codebase more understandable and maintainable.\n",
    "\n",
    "Modularity and Reusability: Abstraction promotes modularity by breaking down systems into smaller, more manageable components.\n",
    "These components can be designed with well-defined interfaces, allowing them to be reused across different parts of the project or in other projects altogether. \n",
    "This reusability reduces redundancy and speeds up development.\n",
    "\n",
    "Encapsulation of Implementation Details: Abstraction allows developers to encapsulate implementation details within modules or classes. \n",
    "This encapsulation protects the internal workings of a module, exposing only the necessary interfaces. \n",
    "It enables changes to be made to the implementation without affecting the code that uses theabstraction, promoting a more flexible and adaptable system.\n",
    "\n",
    "Enhanced Collaboration: Abstracting away implementation details enables teams to work on different components concurrently without tightly coupling their work.\n",
    "Teams can focus on implementing and understanding specific modules or interfaces without needing to comprehend the entire system, leading to better collaboration and parallel development.\n",
    "\n",
    "Maintenance and Scalability: Abstracting functionalities into reusable components or modules simplifies maintenance. \n",
    "Changes or updates can be made to a specific abstracted component without affecting the rest of the system, enhancing scalability and making it easier to extend or modify the system as requirements evolve.\n",
    "\n",
    "Testing and Debugging: Abstraction aids in testing and debugging as it allows for better isolation of components. \n",
    "With well-defined interfaces, testing becomes more straightforward, and bugs can be traced more efficiently to specific modules or classes, reducing the debugging effort.\n",
    "\n",
    "Adaptability and Future-Proofing: Abstraction fosters an adaptable design that can accommodate changes and updates more easily. \n",
    "It helps future-proof the software by allowing for the integration of new functionalities or technologies without having to overhaul the entire system."
   ]
  },
  {
   "cell_type": "code",
   "execution_count": null,
   "id": "165d592e-6f15-49dc-9960-58bf0ba05a0c",
   "metadata": {},
   "outputs": [],
   "source": [
    "18. Explain how abstraction enhances code reusability and modularity in Python programs."
   ]
  },
  {
   "cell_type": "code",
   "execution_count": null,
   "id": "5e964509-ab77-409d-a416-42a398f763c1",
   "metadata": {},
   "outputs": [],
   "source": [
    "Abstraction plays a crucial role in enhancing code reusability and modularity in Python programs by allowing developers to create components that hide complex implementation details while exposing simplified interfaces. \n",
    "Here's how abstraction contributes to these aspects:\n",
    "\n",
    "Code Reusability:\n",
    "Encapsulation of Complexity: Abstraction allows developers to encapsulate complex functionalities within modules, classes, or functions, exposing only the necessary interfaces. \n",
    "This encapsulation hides implementation details, making it easier to reuse code without understanding its internal complexities.\n",
    "\n",
    "Creation of Reusable Components: Abstracting functionalities into modules or classes results in reusable components.\n",
    "These components can be utilized across different parts of the program or in entirely different projects.\n",
    "Well-designed abstracted components make it easier to plug and play functionality without rewriting code.\n",
    "Inheritance and Polymorphism: Python's support for inheritance and polymorphism enables the creation of abstract classes or interfaces. This allows for defining common interfaces and behaviors, which can be inherited by multiple subclasses. This promotes code reuse by sharing functionalities among related classes.\n",
    "\n",
    "Modularity:\n",
    "Component Isolation: Abstraction allows developers to break down a system into smaller, more manageable components. \n",
    "Each component focuses on a specific task or functionality, promoting a modular design. \n",
    "These components can then be developed, tested, and maintained independently, enhancing the overall modularity of the codebase.\n",
    "\n",
    "Clear Interfaces: By defining clear interfaces through abstract classes, functions, or modules, abstraction promotes a clear separation between different parts of the code.\n",
    "This separation allows for better communication between modules and reduces dependencies, enabling easier integration and maintenance.\n",
    "Dependency Management: Abstraction helps manage dependencies between different modules or components. Well-defined interfaces and abstraction layers reduce tight coupling between modules, allowing changes in one module without affecting others, thus enhancing modularity.\n",
    "\n",
    "Scalability and Maintainability: Modular designs resulting from abstraction make codebases more scalable and maintainable. \n",
    "It becomes easier to extend functionality, add new features, or modify existing ones without causing ripple effects across the entire system."
   ]
  },
  {
   "cell_type": "code",
   "execution_count": null,
   "id": "1472d308-3a13-49e5-bed7-be9dab737928",
   "metadata": {},
   "outputs": [],
   "source": [
    "19. Create a Python class for a library system, implementing abstraction by defining common methods\n",
    "(e.g., `add_book()`, `borro"
   ]
  },
  {
   "cell_type": "code",
   "execution_count": 6,
   "id": "e1af4239-f890-4f88-9239-59d12dd23cd7",
   "metadata": {},
   "outputs": [
    {
     "name": "stdout",
     "output_type": "stream",
     "text": [
      "Book 'Python Crash Course' added to 'My Library'\n",
      "Book 'Clean Code' added to 'My Library'\n",
      "Book 'Python Crash Course' borrowed by 'Alice' from 'My Library'\n",
      "Book 'Design Patterns' not available in 'My Library'\n",
      "Book 'Python Crash Course' returned by 'Alice' to 'My Library'\n"
     ]
    }
   ],
   "source": [
    "from abc import ABC, abstractmethod\n",
    "\n",
    "class LibrarySystem(ABC):\n",
    "    def __init__(self, name):\n",
    "        self.name = name\n",
    "        self.books = []\n",
    "        self.members = []\n",
    "    \n",
    "    @abstractmethod\n",
    "    def add_book(self, book):\n",
    "        pass\n",
    "    \n",
    "    @abstractmethod\n",
    "    def borrow_book(self, book, member):\n",
    "        pass\n",
    "\n",
    "    @abstractmethod\n",
    "    def return_book(self, book, member):\n",
    "        pass\n",
    "\n",
    "class SimpleLibrary(LibrarySystem):\n",
    "    def add_book(self, book):\n",
    "        self.books.append(book)\n",
    "        print(f\"Book '{book}' added to '{self.name}'\")\n",
    "    \n",
    "    def borrow_book(self, book, member):\n",
    "        if book in self.books:\n",
    "            self.books.remove(book)\n",
    "            print(f\"Book '{book}' borrowed by '{member}' from '{self.name}'\")\n",
    "        else:\n",
    "            print(f\"Book '{book}' not available in '{self.name}'\")\n",
    "    \n",
    "    def return_book(self, book, member):\n",
    "        self.books.append(book)\n",
    "        print(f\"Book '{book}' returned by '{member}' to '{self.name}'\")\n",
    "\n",
    "# Demonstration\n",
    "library = SimpleLibrary(\"My Library\")\n",
    "library.add_book(\"Python Crash Course\")\n",
    "library.add_book(\"Clean Code\")\n",
    "\n",
    "library.borrow_book(\"Python Crash Course\", \"Alice\")\n",
    "library.borrow_book(\"Design Patterns\", \"Bob\")  # Book not available example\n",
    "library.return_book(\"Python Crash Course\", \"Alice\")\n"
   ]
  },
  {
   "cell_type": "code",
   "execution_count": null,
   "id": "fcacf379-a6e7-4b13-af17-9bfb5327d339",
   "metadata": {},
   "outputs": [],
   "source": [
    "20. Describe the concept of method abstraction in Python and how it relates to polymorphism."
   ]
  },
  {
   "cell_type": "code",
   "execution_count": null,
   "id": "382052f3-0d14-4a32-a2b7-fba8eb4624e2",
   "metadata": {},
   "outputs": [],
   "source": [
    "Method abstraction in Python refers to the practice of defining methods in a way that their specific implementations are left to the subclasses.\n",
    "This is often achieved through abstract methods or by providing a common method signature in a base class without implementing the actual functionality.\n",
    "\n",
    "Abstract Methods:\n",
    "Abstract Base Classes (ABCs): Python allows the creation of abstract methods using the abc module.\n",
    "Abstract methods are defined in an abstract base class using the @abstractmethod decorator without providing any implementation.\n",
    "\n",
    "Forcing Implementation in Subclasses: When a method is marked as abstract in a base class, all subclasses must implement these methods; otherwise, the code will raise an error. \n",
    "This enforces a contract, ensuring that subclasses adhere to a certain interface.\n",
    "\n",
    "Relation to Polymorphism:\n",
    "    Polymorphism: Method abstraction is closely related to polymorphism, a fundamental principle in object-oriented programming. Polymorphism allows objects of different classes to be treated as objects of a common superclass.\n",
    "\n",
    "Method Overriding: Subclasses that inherit abstract methods from a base class can override these methods with their specific implementations. This leads to polymorphic behavior, where different subclasses provide their versions of the method while adhering to the common method signature defined in the base class.\n",
    "\n",
    "Common Interface: Method abstraction facilitates polymorphism by defining a common interface (method signature) in the base class. This enables different subclasses to exhibit different behaviors while being treated uniformly based on the common method names they share.\n",
    "\n",
    "Dynamic Binding: When methods are called on objects of different subclasses through a common reference of the base class, Python utilizes dynamic binding to determine the appropriate method implementation to execute at runtime based on the actual object type."
   ]
  },
  {
   "cell_type": "code",
   "execution_count": null,
   "id": "6ac9f51d-4505-4bce-8b51-380c54dec372",
   "metadata": {},
   "outputs": [],
   "source": [
    "Composition:"
   ]
  },
  {
   "cell_type": "code",
   "execution_count": null,
   "id": "22919cfc-5daa-4d44-94f1-f14b99783da7",
   "metadata": {},
   "outputs": [],
   "source": [
    "1. Explain the concept of composition in Python and how it is used to build complex objects from simpler ones."
   ]
  },
  {
   "cell_type": "code",
   "execution_count": null,
   "id": "1d805dc0-ec35-4a61-8799-159816b60ed9",
   "metadata": {},
   "outputs": [],
   "source": [
    "Composition is a design principle in object-oriented programming that allows you to create complex objects by combining simpler objects as parts or components. \n",
    "It's a way to construct objects by including other objects as attributes, creating a \"has-a\" relationship between the containing object (composite) and the contained objects (components).\n",
    "\n",
    "Key Points:\n",
    "Relationships: Composition establishes relationships between objects where one object is composed of one or more other objects. \n",
    "These relationships often represent parts of a whole.\n",
    "\n",
    "Code Reusability: Composition promotes code reusability by allowing the reuse of existing classes as components within larger classes. \n",
    "This follows the principle of favoring composition over inheritance to achieve flexibility and reusability.\n",
    "\n",
    "Encapsulation: Objects created through composition encapsulate their components, hiding the internal details of these components and providing a clean interface for interacting with the composite object.\n",
    "Complexity Management: It helps manage complexity by breaking down complex systems into smaller, more manageable parts. \n",
    "Each part (component object) can be developed, tested, and maintained independently."
   ]
  },
  {
   "cell_type": "code",
   "execution_count": null,
   "id": "b9059779-19ea-4c8b-8b1b-015a1c95bb9d",
   "metadata": {},
   "outputs": [],
   "source": [
    "2. Describe the difference between composition and inheritance in object-oriented programming."
   ]
  },
  {
   "cell_type": "code",
   "execution_count": null,
   "id": "7c195032-e6af-461c-9ab4-dfcbed0a61bb",
   "metadata": {},
   "outputs": [],
   "source": [
    "Key Differences:\n",
    "Relationship Type: Composition establishes a \"has-a\" relationship, while inheritance establishes an \"is-a\" relationship.\n",
    "\n",
    "Code Reuse: Composition favors code reuse by assembling objects from other objects, while inheritance promotes code reuse by allowing subclasses to inherit features from superclasses.\n",
    "\n",
    "Flexibility: Composition tends to be more flexible, as it's not bound by the rigid structure of a class hierarchy that inheritance imposes.\n",
    "\n",
    "Example:\n",
    "In the context of a Vehicle:\n",
    "\n",
    "Composition: A Car may have a Engine, Wheels, and other components as attributes, combining these parts to create a complete Car.\n",
    "\n",
    "Inheritance: A Car could inherit common features like start() or stop() methods from a more general Vehicle class, extending its functionalities to suit its specific needs"
   ]
  },
  {
   "cell_type": "code",
   "execution_count": null,
   "id": "491c3753-d462-4045-b860-fba4bdad227a",
   "metadata": {},
   "outputs": [],
   "source": [
    "3. Create a Python class called `Author` with attributes for name and birthdate. Then, create a `Book` class \n",
    "that contains an instance of `Author` as a composition. Provide an example of creating a `Book` object."
   ]
  },
  {
   "cell_type": "code",
   "execution_count": 7,
   "id": "e6a83ed2-d157-4d12-be76-5981e80d277f",
   "metadata": {},
   "outputs": [
    {
     "name": "stdout",
     "output_type": "stream",
     "text": [
      "Title: Harry Potter and the Philosopher's Stone, Author: Author: J.K. Rowling, Birthdate: July 31, 1965, Year: 1997\n"
     ]
    }
   ],
   "source": [
    "class Author:\n",
    "    def __init__(self, name, birthdate):\n",
    "        self.name = name\n",
    "        self.birthdate = birthdate\n",
    "    \n",
    "    def __str__(self):\n",
    "        return f\"Author: {self.name}, Birthdate: {self.birthdate}\"\n",
    "\n",
    "class Book:\n",
    "    def __init__(self, title, author, year):\n",
    "        self.title = title\n",
    "        self.author = author  # Composition: Book has an Author\n",
    "        self.year = year\n",
    "    \n",
    "    def __str__(self):\n",
    "        return f\"Title: {self.title}, Author: {self.author}, Year: {self.year}\"\n",
    "\n",
    "# Creating an Author object\n",
    "author = Author(\"J.K. Rowling\", \"July 31, 1965\")\n",
    "\n",
    "# Creating a Book object with the Author as a component\n",
    "harry_potter = Book(\"Harry Potter and the Philosopher's Stone\", author, 1997)\n",
    "\n",
    "# Displaying Book details\n",
    "print(harry_potter)"
   ]
  },
  {
   "cell_type": "code",
   "execution_count": null,
   "id": "670dec1b-00f7-4802-8bb9-c871b231446e",
   "metadata": {},
   "outputs": [],
   "source": [
    "4. Discuss the benefits of using composition over inheritance in Python, especially in terms of code flexibility \n",
    "and reusability."
   ]
  },
  {
   "cell_type": "code",
   "execution_count": null,
   "id": "7eb9c8d5-e7f7-422a-b4f0-8a996ac9b6fa",
   "metadata": {},
   "outputs": [],
   "source": [
    "Using composition over inheritance in Python offers several advantages, particularly regarding code flexibility and reusability:\n",
    "\n",
    "Code Flexibility:\n",
    "Flexibility in Object Structure: Composition allows for more flexible object structures by allowing classes to be composed of various components.\n",
    "This grants greater flexibility in combining and reusing different functionalities in different combinations.\n",
    "\n",
    "Avoiding Rigidity: Inheritance creates a rigid hierarchy, where changes in superclass implementation can propagate to subclasses.\n",
    "Composition avoids this issue by creating loosely coupled components, allowing changes in one component without affecting others.\n",
    "\n",
    "Ease of Modification: With composition, modifying behavior becomes more straightforward. You can change or swap components without modifying the entire class structure, promoting an open/closed principle (classes should be open for extension but closed for modification).\n",
    "Code Reusability:\n",
    "Promoting Reusable Components: Composition encourages the creation of reusable components that can be utilized across different classes or projects. Components can be easily plugged into various classes to enhance functionality.\n",
    "\n",
    "Facilitating Mixins and Traits: Composition allows the creation of mixins or traits—small, reusable components that can be added to multiple classes to provide specific functionalities without creating complex class hierarchies.\n",
    "\n",
    "Enhanced Modularity: By breaking down complex systems into smaller, more manageable components, composition promotes modularity, enabling easy reuse of specific functionalities across different parts of the codebase."
   ]
  },
  {
   "cell_type": "code",
   "execution_count": null,
   "id": "f09f8573-c1de-4ff1-a075-94797178118a",
   "metadata": {},
   "outputs": [],
   "source": [
    "5. How can you implement composition in Python classes? Provide examples of using composition to create \n",
    "complex objects."
   ]
  },
  {
   "cell_type": "code",
   "execution_count": 8,
   "id": "4e4a7bce-e13b-4e61-92b8-8f78cbc83aa4",
   "metadata": {},
   "outputs": [
    {
     "name": "stdout",
     "output_type": "stream",
     "text": [
      "Engine started\n",
      "Wheels rotating\n"
     ]
    }
   ],
   "source": [
    "\"\"\"In Python, implementing composition involves creating classes that contain instances of other classes as attributes. \n",
    "It establishes a \"has-a\" relationship between the containing class (composite) and the contained classes (components). \n",
    "Here are examples demonstrating composition to create complex objects:\n",
    "\n",
    "Example 1: Creating a Car with Engine and Wheels as Components\"\"\"\n",
    "class Engine:\n",
    "    def start(self):\n",
    "        return \"Engine started\"\n",
    "\n",
    "class Wheels:\n",
    "    def rotate(self):\n",
    "        return \"Wheels rotating\"\n",
    "\n",
    "class Car:\n",
    "    def __init__(self):\n",
    "        self.engine = Engine()  # Composition: Car has an Engine\n",
    "        self.wheels = Wheels()  # Composition: Car has Wheels\n",
    "    \n",
    "    def start_engine(self):\n",
    "        return self.engine.start()\n",
    "    \n",
    "    def move(self):\n",
    "        return self.wheels.rotate()\n",
    "\n",
    "# Usage\n",
    "my_car = Car()\n",
    "print(my_car.start_engine())  # Accessing Engine functionality through composition\n",
    "print(my_car.move())         # Accessing Wheels functionality through composition"
   ]
  },
  {
   "cell_type": "code",
   "execution_count": null,
   "id": "3923d97f-080f-4901-9b76-300c7705e7ed",
   "metadata": {},
   "outputs": [],
   "source": [
    "6. Create a Python class hierarchy for a music player system, using composition to represent playlists and songs."
   ]
  },
  {
   "cell_type": "code",
   "execution_count": 9,
   "id": "e9c24077-ded1-4395-8e6e-de009780f4bc",
   "metadata": {},
   "outputs": [
    {
     "name": "stdout",
     "output_type": "stream",
     "text": [
      "Playlist: My Favorites - 2 songs\n",
      "Playlist: Relaxing Tunes - 2 songs\n",
      "Music Player: 2 playlists\n"
     ]
    }
   ],
   "source": [
    "class Song:\n",
    "    def __init__(self, title, artist, duration):\n",
    "        self.title = title\n",
    "        self.artist = artist\n",
    "        self.duration = duration\n",
    "    \n",
    "    def __str__(self):\n",
    "        return f\"{self.title} by {self.artist} ({self.duration} seconds)\"\n",
    "\n",
    "class Playlist:\n",
    "    def __init__(self, name):\n",
    "        self.name = name\n",
    "        self.songs = []  # Playlist contains Song objects\n",
    "    \n",
    "    def add_song(self, song):\n",
    "        self.songs.append(song)\n",
    "    \n",
    "    def remove_song(self, song):\n",
    "        if song in self.songs:\n",
    "            self.songs.remove(song)\n",
    "    \n",
    "    def total_duration(self):\n",
    "        return sum(song.duration for song in self.songs)\n",
    "\n",
    "    def __str__(self):\n",
    "        return f\"Playlist: {self.name} - {len(self.songs)} songs\"\n",
    "\n",
    "# Creating a music player with playlists and songs\n",
    "class MusicPlayer:\n",
    "    def __init__(self):\n",
    "        self.playlists = []  # MusicPlayer contains Playlist objects\n",
    "    \n",
    "    def create_playlist(self, name):\n",
    "        playlist = Playlist(name)\n",
    "        self.playlists.append(playlist)\n",
    "        return playlist\n",
    "    \n",
    "    def remove_playlist(self, playlist):\n",
    "        if playlist in self.playlists:\n",
    "            self.playlists.remove(playlist)\n",
    "    \n",
    "    def __str__(self):\n",
    "        return f\"Music Player: {len(self.playlists)} playlists\"\n",
    "\n",
    "# Usage\n",
    "music_player = MusicPlayer()\n",
    "\n",
    "playlist1 = music_player.create_playlist(\"My Favorites\")\n",
    "playlist1.add_song(Song(\"Song 1\", \"Artist A\", 200))\n",
    "playlist1.add_song(Song(\"Song 2\", \"Artist B\", 180))\n",
    "print(playlist1)\n",
    "\n",
    "playlist2 = music_player.create_playlist(\"Relaxing Tunes\")\n",
    "playlist2.add_song(Song(\"Song 3\", \"Artist C\", 220))\n",
    "playlist2.add_song(Song(\"Song 4\", \"Artist D\", 190))\n",
    "print(playlist2)\n",
    "\n",
    "print(music_player)"
   ]
  },
  {
   "cell_type": "code",
   "execution_count": null,
   "id": "36c90f4c-dee1-413f-9bed-1f8d061852c3",
   "metadata": {},
   "outputs": [],
   "source": [
    "7. Explain the concept of \"has-a\" relationships in composition and how it helps design software systems."
   ]
  },
  {
   "cell_type": "code",
   "execution_count": null,
   "id": "e0acf669-11dc-49b0-aa96-fd799935f900",
   "metadata": {},
   "outputs": [],
   "source": [
    "The \"has-a\" relationship in composition refers to a design principle in object-oriented programming where one class contains an instance of another class as a component or part.\n",
    "It signifies that an object of one class \"has\" or \"contains\" an object of another class as a part of its structure.\n",
    "\n",
    "Key Points:\n",
    "Composition: In composition, one class is composed of one or more instances of other classes as attributes.\n",
    "It allows for the creation of complex objects by combining simpler objects as parts or components.\n",
    "\n",
    "\"Has-a\" Relationship: The \"has-a\" relationship is established between the containing class (composite) and the contained classes (components).\n",
    "For example, a car \"has\" an engine, a house \"has\" rooms, or a music player \"has\" playlists.\n",
    "\n",
    "Code Reusability: Composition promotes code reuse by allowing existing classes (components) to be used as parts within other classes. \n",
    "This enhances modularity and promotes the use of smaller, reusable components.\n",
    "Flexibility and Scalability: The use of \"has-a\" relationships through composition enables flexible and scalable designs.\n",
    "It allows for changes or enhancements in specific components without affecting the entire system, contributing to a more adaptable codebase."
   ]
  },
  {
   "cell_type": "code",
   "execution_count": null,
   "id": "1eca8816-4855-4c02-ba39-57adcff0bdc9",
   "metadata": {},
   "outputs": [],
   "source": [
    "8. Create a Python class for a computer system, using composition to represent components like CPU, RAM, \n",
    "and storage devices."
   ]
  },
  {
   "cell_type": "code",
   "execution_count": 10,
   "id": "cb8aab95-4be3-4c0b-b919-7cfb75d243b0",
   "metadata": {},
   "outputs": [
    {
     "name": "stdout",
     "output_type": "stream",
     "text": [
      "Computer System Configuration:\n",
      "CPU: Intel i9, Cores: 8\n",
      "RAM: 32GB, Frequency: 3200MHz\n",
      "Storage: 2TB, Type: SSD\n"
     ]
    }
   ],
   "source": [
    "class CPU:\n",
    "    def __init__(self, model, cores):\n",
    "        self.model = model\n",
    "        self.cores = cores\n",
    "    \n",
    "    def __str__(self):\n",
    "        return f\"CPU: {self.model}, Cores: {self.cores}\"\n",
    "\n",
    "class RAM:\n",
    "    def __init__(self, capacity_GB, frequency_MHz):\n",
    "        self.capacity_GB = capacity_GB\n",
    "        self.frequency_MHz = frequency_MHz\n",
    "    \n",
    "    def __str__(self):\n",
    "        return f\"RAM: {self.capacity_GB}GB, Frequency: {self.frequency_MHz}MHz\"\n",
    "\n",
    "class Storage:\n",
    "    def __init__(self, capacity_TB, type):\n",
    "        self.capacity_TB = capacity_TB\n",
    "        self.type = type\n",
    "    \n",
    "    def __str__(self):\n",
    "        return f\"Storage: {self.capacity_TB}TB, Type: {self.type}\"\n",
    "\n",
    "class ComputerSystem:\n",
    "    def __init__(self, cpu, ram, storage):\n",
    "        self.cpu = cpu  # Composition: ComputerSystem has a CPU\n",
    "        self.ram = ram  # Composition: ComputerSystem has RAM\n",
    "        self.storage = storage  # Composition: ComputerSystem has Storage\n",
    "    \n",
    "    def __str__(self):\n",
    "        return f\"Computer System Configuration:\\n{self.cpu}\\n{self.ram}\\n{self.storage}\"\n",
    "\n",
    "# Creating a computer system with components\n",
    "my_cpu = CPU(\"Intel i9\", 8)\n",
    "my_ram = RAM(32, 3200)\n",
    "my_storage = Storage(2, \"SSD\")\n",
    "\n",
    "my_computer = ComputerSystem(my_cpu, my_ram, my_storage)\n",
    "print(my_computer)"
   ]
  },
  {
   "cell_type": "code",
   "execution_count": null,
   "id": "bd13d694-d0f5-4523-a976-fb1df3caf971",
   "metadata": {},
   "outputs": [],
   "source": [
    "9. Describe the concept of \"delegation\" in composition and how it simplifies the design of complex systems"
   ]
  },
  {
   "cell_type": "code",
   "execution_count": 11,
   "id": "2a5cbabd-e675-46b9-a013-d76b77254836",
   "metadata": {},
   "outputs": [
    {
     "name": "stdout",
     "output_type": "stream",
     "text": [
      "Printing: Scanning document\n"
     ]
    }
   ],
   "source": [
    "\"\"\"Delegation in composition refers to the process of passing the responsibility for a particular task or behavior from one object to another object it contains. \n",
    "It allows an object to use functionalities or behaviors of another object by delegating tasks to it rather than implementing those functionalities itself. \n",
    "This concept simplifies the design of complex systems by promoting code reuse, encapsulation, and modularity.\n",
    "\n",
    "Key Points:\n",
    "Task Delegation: Delegation occurs when an object delegates specific tasks or functionalities to another object it contains as a component.\n",
    "\n",
    "Code Reusability: Delegation promotes code reuse by allowing objects to utilize the functionalities of other objects. \n",
    "It fosters modular design by composing complex objects from simpler, reusable components.\n",
    "\n",
    "Encapsulation: It enables encapsulation by hiding the implementation details of delegated functionalities within the delegated objects. \n",
    "This allows the delegating object to focus on its primary responsibilities.\n",
    "Simplification of Design: Delegation simplifies the design of complex systems by breaking down functionalities into smaller, manageable components.\n",
    "Each component handles specific tasks, leading to a clearer and more maintainable codebase.\n",
    "\n",
    "Loose Coupling: Delegation often results in loosely coupled objects.\n",
    "Changes in the delegated object's implementation generally do not affect the delegating object, reducing dependencies and enhancing flexibility.\"\"\"\n",
    "class Printer:\n",
    "    def print_document(self, document):\n",
    "        return f\"Printing: {document}\"\n",
    "\n",
    "class Scanner:\n",
    "    def scan_document(self):\n",
    "        return \"Scanning document\"\n",
    "\n",
    "class Photocopier:\n",
    "    def __init__(self):\n",
    "        self.printer = Printer()  # Delegation: Photocopier has a Printer\n",
    "        self.scanner = Scanner()  # Delegation: Photocopier has a Scanner\n",
    "    \n",
    "    def copy_document(self, document):\n",
    "        scanned_doc = self.scanner.scan_document()\n",
    "        return self.printer.print_document(scanned_doc)\n",
    "\n",
    "# Usage\n",
    "my_photocopier = Photocopier()\n",
    "copied_doc = my_photocopier.copy_document(\"Original document\")\n",
    "print(copied_doc)"
   ]
  },
  {
   "cell_type": "code",
   "execution_count": null,
   "id": "a6b118a4-cbab-45d4-a98f-cdde1ed48c03",
   "metadata": {},
   "outputs": [],
   "source": [
    "10. Create a Python class for a car, using composition to represent components like the engine, wheels, and \n",
    "transmission."
   ]
  },
  {
   "cell_type": "code",
   "execution_count": 12,
   "id": "a34ebe97-9f9b-416e-81a2-e82f137d9001",
   "metadata": {},
   "outputs": [
    {
     "name": "stdout",
     "output_type": "stream",
     "text": [
      "Engine started\n",
      "Wheels rotating\n"
     ]
    }
   ],
   "source": [
    "class Engine:\n",
    "    def start(self):\n",
    "        return \"Engine started\"\n",
    "\n",
    "class Wheels:\n",
    "    def rotate(self):\n",
    "        return \"Wheels rotating\"\n",
    "\n",
    "class Transmission:\n",
    "    def shift_gear(self):\n",
    "        return \"Gear shifted\"\n",
    "\n",
    "class Car:\n",
    "    def __init__(self):\n",
    "        self.engine = Engine()  # Composition: Car has an Engine\n",
    "        self.wheels = Wheels()  # Composition: Car has Wheels\n",
    "        self.transmission = Transmission()  # Composition: Car has a Transmission\n",
    "    \n",
    "    def start_car(self):\n",
    "        return self.engine.start()\n",
    "    \n",
    "    def drive(self):\n",
    "        self.transmission.shift_gear()\n",
    "        return self.wheels.rotate()\n",
    "\n",
    "# Creating a Car object and using its components\n",
    "my_car = Car()\n",
    "print(my_car.start_car())  # Accessing Engine functionality through composition\n",
    "print(my_car.drive())     # Accessing Transmission and Wheels functionalities through composition"
   ]
  },
  {
   "cell_type": "code",
   "execution_count": null,
   "id": "7dea83a6-96dd-4d06-bd0f-3aa7c283d73b",
   "metadata": {},
   "outputs": [],
   "source": [
    "11. How can you encapsulate and hide the details of composed objects in Python classes to maintain \n",
    "abstraction?"
   ]
  },
  {
   "cell_type": "code",
   "execution_count": null,
   "id": "07cb4f55-2c02-41a6-a65f-fad6787c537d",
   "metadata": {},
   "outputs": [],
   "source": [
    "Encapsulation and abstraction are essential concepts in object-oriented programming that help in managing complexity and \n",
    "promoting a clear interface between objects. In Python, you can encapsulate and hide the details of composed objects within a class to maintain abstraction by following these principles:\n",
    "\n",
    "Encapsulation:\n",
    "Private Attributes: Use private attributes (attributes prefixed with double underscore __) to hide the internal details of composed objects. This prevents direct access from outside the class, promoting encapsulation.\n",
    "\n",
    "Accessor Methods (Getters and Setters): Implement accessor methods to interact with and manipulate the composed objects. \n",
    "These methods provide controlled access to the attributes, allowing validation or modification of data as needed.\n",
    "\n",
    "Maintaining Abstraction:\n",
    "Limit Exposure of Details: Expose only necessary functionalities and information about the composed objects. \n",
    "Hide unnecessary details that don't need to be accessed or modified directly by external code.\n",
    "\n",
    "Provide Abstract Interfaces: Define abstract interfaces or methods in your class that interact with the composed objects. \n",
    "These interfaces allow external code to use the functionalities without needing to know the internal implementation details."
   ]
  },
  {
   "cell_type": "code",
   "execution_count": null,
   "id": "172c1b51-d9ee-4d2b-a5e8-8f48f7a97b5a",
   "metadata": {},
   "outputs": [],
   "source": [
    "12. Create a Python class for a university course, using composition to represent students, instructors, and \n",
    "course materials"
   ]
  },
  {
   "cell_type": "code",
   "execution_count": 13,
   "id": "6992819c-de12-4b21-ace2-529283b46c8c",
   "metadata": {},
   "outputs": [
    {
     "name": "stdout",
     "output_type": "stream",
     "text": [
      "University Course: Mathematics\n",
      "Students:\n",
      "Student: Alice, ID: S001\n",
      "Student: Bob, ID: S002\n",
      "Instructors:\n",
      "Instructor: Dr. Smith, ID: I001\n",
      "Course Material: Course Material: Algebra Book\n"
     ]
    }
   ],
   "source": [
    "class Student:\n",
    "    def __init__(self, name, student_id):\n",
    "        self.name = name\n",
    "        self.student_id = student_id\n",
    "    \n",
    "    def __str__(self):\n",
    "        return f\"Student: {self.name}, ID: {self.student_id}\"\n",
    "\n",
    "class Instructor:\n",
    "    def __init__(self, name, instructor_id):\n",
    "        self.name = name\n",
    "        self.instructor_id = instructor_id\n",
    "    \n",
    "    def __str__(self):\n",
    "        return f\"Instructor: {self.name}, ID: {self.instructor_id}\"\n",
    "\n",
    "class CourseMaterial:\n",
    "    def __init__(self, material_name):\n",
    "        self.material_name = material_name\n",
    "    \n",
    "    def __str__(self):\n",
    "        return f\"Course Material: {self.material_name}\"\n",
    "\n",
    "class UniversityCourse:\n",
    "    def __init__(self, course_name):\n",
    "        self.course_name = course_name\n",
    "        self.students = []  # Composition: UniversityCourse has Student objects\n",
    "        self.instructors = []  # Composition: UniversityCourse has Instructor objects\n",
    "        self.course_material = None  # Composition: UniversityCourse has a CourseMaterial\n",
    "    \n",
    "    def add_student(self, student):\n",
    "        self.students.append(student)\n",
    "    \n",
    "    def add_instructor(self, instructor):\n",
    "        self.instructors.append(instructor)\n",
    "    \n",
    "    def add_course_material(self, material):\n",
    "        self.course_material = material\n",
    "    \n",
    "    def __str__(self):\n",
    "        student_list = \"\\n\".join(str(student) for student in self.students)\n",
    "        instructor_list = \"\\n\".join(str(instructor) for instructor in self.instructors)\n",
    "        return f\"University Course: {self.course_name}\\nStudents:\\n{student_list}\\nInstructors:\\n{instructor_list}\\nCourse Material: {self.course_material}\"\n",
    "\n",
    "# Usage\n",
    "math_course = UniversityCourse(\"Mathematics\")\n",
    "\n",
    "student1 = Student(\"Alice\", \"S001\")\n",
    "student2 = Student(\"Bob\", \"S002\")\n",
    "math_course.add_student(student1)\n",
    "math_course.add_student(student2)\n",
    "\n",
    "instructor = Instructor(\"Dr. Smith\", \"I001\")\n",
    "math_course.add_instructor(instructor)\n",
    "\n",
    "material = CourseMaterial(\"Algebra Book\")\n",
    "math_course.add_course_material(material)\n",
    "\n",
    "print(math_course)"
   ]
  },
  {
   "cell_type": "code",
   "execution_count": null,
   "id": "ee9bd69a-48be-49fd-9e13-45bbf54276cb",
   "metadata": {},
   "outputs": [],
   "source": [
    "13. Discuss the challenges and drawbacks of composition, such as increased complexity and potential for \n",
    "tight coupling between objects."
   ]
  },
  {
   "cell_type": "code",
   "execution_count": null,
   "id": "fd30b59d-4149-479e-8784-d438583be278",
   "metadata": {},
   "outputs": [],
   "source": [
    "Challenges and Drawbacks of Composition:\n",
    "Increased Complexity:\n",
    "\n",
    "Managing relationships between multiple components can lead to increased complexity, especially in large systems with numerous interconnected objects.\n",
    "Understanding how various components interact within a composed structure might require more effort and thorough documentation.\n",
    "Potential for Tight Coupling:\n",
    "\n",
    "If not designed carefully, composition can lead to tight coupling between objects, where changes in one component may heavily affect or require modifications in other components.\n",
    "Strong interdependencies between components can make the system less flexible and harder to maintain.\n",
    "Overhead of Managing Relationships:\n",
    "\n",
    "Creating, maintaining, and managing relationships between objects through composition can require additional code and effort, especially when dealing with complex hierarchies of objects.\n",
    "Initialization and Configuration Complexity:\n",
    "Setting up composed objects, especially with nested compositions, can become complex. \n",
    "Initializing and configuring objects with multiple levels of compositions might require intricate setups.\n",
    "Potential for Inconsistent Behavior:\n",
    "\n",
    "If not managed properly, different instances of composed objects might behave inconsistently due to variations in the states of their components.\n",
    "Performance Overhead:\n",
    "\n",
    "Depending on the design and implementation, composition might introduce a slight performance overhead due to the extra level of indirection when accessing functionalities through composed objects.\n",
    "Strategies to Mitigate Drawbacks:\n",
    "Design for Loose Coupling:\n",
    "\n",
    "Aim for loose coupling between objects. Define clear interfaces and minimize direct dependencies between components to reduce the impact of changes in one component on others.\n",
    "Encapsulate Complexities:\n",
    "\n",
    "Encapsulate the complexities of relationships and interactions within composed objects.\n",
    "Hide unnecessary details and expose only the essential functionalities through well-defined interfaces.\n",
    "Modularity and Hierarchical Structure:\n",
    "\n",
    "Maintain modularity in the design. Break down complex systems into smaller, manageable components with a clear hierarchical structure, reducing the overall complexity.\n",
    "Careful Design and Testing:\n",
    "\n",
    "Thoroughly design and test the composition structure. Validate the behavior of composed objects and their interactions to ensure consistency and stability.\n",
    "Documentation and Code Clarity:\n",
    "\n",
    "Provide comprehensive documentation and maintain code clarity to help developers understand the relationships and interactions between composed objects."
   ]
  },
  {
   "cell_type": "code",
   "execution_count": null,
   "id": "b8cf90e1-0821-4b14-9b74-5fc4059812d6",
   "metadata": {},
   "outputs": [],
   "source": [
    "14. Create a Python class hierarchy for a restaurant system, using composition to represent menus, dishes, \n",
    "and ingredients."
   ]
  },
  {
   "cell_type": "code",
   "execution_count": 14,
   "id": "b680500a-7f69-4e74-9d84-b1d229624edd",
   "metadata": {},
   "outputs": [
    {
     "name": "stdout",
     "output_type": "stream",
     "text": [
      "Menu: Italian Cuisine\n",
      "\n",
      "Dishes:\n",
      "Dish: Margherita Pizza\n",
      "Ingredients:\n",
      "Tomato: 5\n",
      "Onion: 3\n",
      "Cheese: 2\n",
      "\n",
      "Dish: Pasta Carbonara\n",
      "Ingredients:\n",
      "Onion: 3\n",
      "Cheese: 2\n"
     ]
    }
   ],
   "source": [
    "class Ingredient:\n",
    "    def __init__(self, name, quantity):\n",
    "        self.name = name\n",
    "        self.quantity = quantity\n",
    "    \n",
    "    def __str__(self):\n",
    "        return f\"{self.name}: {self.quantity}\"\n",
    "\n",
    "class Dish:\n",
    "    def __init__(self, name, ingredients):\n",
    "        self.name = name\n",
    "        self.ingredients = ingredients  # Composition: Dish has Ingredient objects\n",
    "    \n",
    "    def __str__(self):\n",
    "        ingredient_list = \"\\n\".join(str(ingredient) for ingredient in self.ingredients)\n",
    "        return f\"Dish: {self.name}\\nIngredients:\\n{ingredient_list}\"\n",
    "\n",
    "class Menu:\n",
    "    def __init__(self, name):\n",
    "        self.name = name\n",
    "        self.dishes = []  # Composition: Menu has Dish objects\n",
    "    \n",
    "    def add_dish(self, dish):\n",
    "        self.dishes.append(dish)\n",
    "    \n",
    "    def __str__(self):\n",
    "        dish_list = \"\\n\\n\".join(str(dish) for dish in self.dishes)\n",
    "        return f\"Menu: {self.name}\\n\\nDishes:\\n{dish_list}\"\n",
    "\n",
    "# Creating a Restaurant System\n",
    "ingredient1 = Ingredient(\"Tomato\", 5)\n",
    "ingredient2 = Ingredient(\"Onion\", 3)\n",
    "ingredient3 = Ingredient(\"Cheese\", 2)\n",
    "\n",
    "dish1 = Dish(\"Margherita Pizza\", [ingredient1, ingredient2, ingredient3])\n",
    "dish2 = Dish(\"Pasta Carbonara\", [ingredient2, ingredient3])\n",
    "\n",
    "menu = Menu(\"Italian Cuisine\")\n",
    "menu.add_dish(dish1)\n",
    "menu.add_dish(dish2)\n",
    "\n",
    "print(menu)"
   ]
  },
  {
   "cell_type": "code",
   "execution_count": null,
   "id": "dcb15540-ec65-488c-8f84-11511a93ccb8",
   "metadata": {},
   "outputs": [],
   "source": [
    "15. Explain how composition enhances code maintainability and modularity in Python programs."
   ]
  },
  {
   "cell_type": "code",
   "execution_count": null,
   "id": "75d600f3-5350-42fb-ab08-691c386c9028",
   "metadata": {},
   "outputs": [],
   "source": [
    "Composition significantly enhances code maintainability and modularity in Python programs through several key aspects:\n",
    "\n",
    "Encapsulation of Responsibilities:\n",
    "Modularity: Composition breaks down complex systems into smaller, manageable components. \n",
    "Each component focuses on specific functionalities or responsibilities, promoting a modular design.\n",
    "Encapsulation: Components hide their internal details, allowing modifications within a component without affecting other parts of the codebase. This encapsulation isolates changes, making the code easier to understand and maintain.\n",
    "Reusability and Flexibility:\n",
    "Code Reusability: Composed components are reusable across different parts of the codebase or even in different projects. \n",
    "This reusability reduces redundancy and promotes efficient development.\n",
    "Flexibility: By composing objects from smaller components, the system becomes more flexible. \n",
    "Components can be swapped, extended, or replaced without affecting the overall system, enhancing adaptability to changes.\n",
    "Clear Separation of Concerns:\n",
    "Separation of Responsibilities: Each component has a specific responsibility or concern, ensuring a clear separation of functionalities. This separation improves code readability and allows for focused development and testing of individual components.\n",
    "Reduced Complexity and Dependencies:\n",
    "Low Coupling: Composition reduces tight coupling between components. \n",
    "Objects interact through well-defined interfaces, minimizing dependencies and making the codebase less prone to ripple effects from changes in one component.\n",
    "Complexity Reduction: Breaking down systems into smaller, independent components reduces the complexity of understanding and maintaining the code, as developers can focus on smaller, more manageable parts.\n",
    "Facilitates Testing and Debugging:\n",
    "Isolated Testing: Smaller, encapsulated components are easier to test in isolation. \n",
    "Unit testing becomes more manageable as components can be tested independently, leading to more reliable code.\n",
    "Easier Debugging: With clear responsibilities, debugging and tracing issues within a specific component becomes easier, enhancing the overall maintainability of the codebase.\n",
    "Example Scenario:\n",
    "Consider a complex system like an e-commerce platform. Composition could involve composing various components like User, ShoppingCart, Product, and Payment:\n",
    "\n",
    "Each component handles a specific functionality (e.g., ShoppingCart manages shopping items, Payment deals with payment processing).\n",
    "These components can be reused in different parts of the platform, ensuring consistency and reducing development effort.\n",
    "Modifications or updates within a specific component won't necessitate changes across the entire system, promoting maintainability."
   ]
  },
  {
   "cell_type": "code",
   "execution_count": null,
   "id": "c7515386-8d51-4384-a60b-1c266c33a1b8",
   "metadata": {},
   "outputs": [],
   "source": [
    "16. Create a Python class for a computer game character, using composition to represent attributes like \n",
    "weapons, armor, and inventory."
   ]
  },
  {
   "cell_type": "code",
   "execution_count": 15,
   "id": "c1c18a12-cc15-4d89-aced-0141b3281f70",
   "metadata": {},
   "outputs": [
    {
     "name": "stdout",
     "output_type": "stream",
     "text": [
      "Character: Warrior\n",
      "Weapon: Sword, Damage: 20\n",
      "Armor: Shield, Defense: 15\n",
      "Inventory: Item: Health Potion, Quantity: 5\n"
     ]
    }
   ],
   "source": [
    "class Weapon:\n",
    "    def __init__(self, name, damage):\n",
    "        self.name = name\n",
    "        self.damage = damage\n",
    "    \n",
    "    def __str__(self):\n",
    "        return f\"Weapon: {self.name}, Damage: {self.damage}\"\n",
    "\n",
    "class Armor:\n",
    "    def __init__(self, name, defense):\n",
    "        self.name = name\n",
    "        self.defense = defense\n",
    "    \n",
    "    def __str__(self):\n",
    "        return f\"Armor: {self.name}, Defense: {self.defense}\"\n",
    "\n",
    "class InventoryItem:\n",
    "    def __init__(self, name, quantity):\n",
    "        self.name = name\n",
    "        self.quantity = quantity\n",
    "    \n",
    "    def __str__(self):\n",
    "        return f\"Item: {self.name}, Quantity: {self.quantity}\"\n",
    "\n",
    "class GameCharacter:\n",
    "    def __init__(self, name):\n",
    "        self.name = name\n",
    "        self.weapon = None  # Composition: GameCharacter has a Weapon\n",
    "        self.armor = None  # Composition: GameCharacter has Armor\n",
    "        self.inventory = []  # Composition: GameCharacter has InventoryItems\n",
    "    \n",
    "    def equip_weapon(self, weapon):\n",
    "        self.weapon = weapon\n",
    "    \n",
    "    def equip_armor(self, armor):\n",
    "        self.armor = armor\n",
    "    \n",
    "    def add_to_inventory(self, item):\n",
    "        self.inventory.append(item)\n",
    "    \n",
    "    def __str__(self):\n",
    "        return f\"Character: {self.name}\\n{self.weapon}\\n{self.armor}\\nInventory: {', '.join(str(item) for item in self.inventory)}\"\n",
    "\n",
    "# Creating a Game Character\n",
    "character = GameCharacter(\"Warrior\")\n",
    "\n",
    "sword = Weapon(\"Sword\", 20)\n",
    "character.equip_weapon(sword)\n",
    "\n",
    "shield = Armor(\"Shield\", 15)\n",
    "character.equip_armor(shield)\n",
    "\n",
    "potion = InventoryItem(\"Health Potion\", 5)\n",
    "character.add_to_inventory(potion)\n",
    "\n",
    "print(character)"
   ]
  },
  {
   "cell_type": "code",
   "execution_count": null,
   "id": "32eb2d55-2704-4758-98ea-927d9ecbf3be",
   "metadata": {},
   "outputs": [],
   "source": [
    "17. Describe the concept of \"aggregation\" in composition and how it differs from simple composition."
   ]
  },
  {
   "cell_type": "code",
   "execution_count": null,
   "id": "6cf218de-5b0a-49d4-acb7-8e1838297775",
   "metadata": {},
   "outputs": [],
   "source": [
    "\"Aggregation\" in composition refers to a form of association where one class (an object) is part of or belongs to another class (an object), but the objects can exist independently. It's a specialized form of composition where the relationship between objects represents a \"has-a\" or \"part-of\" relationship, but the objects have a more loosely coupled association compared to typical composition.\n",
    "\n",
    "Key Points:\n",
    "Relationship Representation:\n",
    "\n",
    "Aggregation represents a whole-part relationship where one object (the whole) contains or is associated with another object (the part).\n",
    "It's commonly referred to as a \"has-a\" relationship, indicating that one object \"has\" another object as a part of its structure.\n",
    "Independence of Objects:\n",
    "\n",
    "In aggregation, the objects involved can exist independently of each other.\n",
    "The part object can be shared among multiple whole objects, or it might exist even if the whole object is destroyed or not present.\n",
    "Weaker Coupling:\n",
    "\n",
    "Aggregation implies a weaker form of coupling between objects compared to simple composition.\n",
    "Changes in the part object generally do not affect the whole object directly, promoting looser coupling and easier maintenance.\n",
    "Navigation and Lifetime Dependency:\n",
    "\n",
    "In aggregation, the part object can be accessed through the whole object, but it's not fully owned or managed by the whole object.\n",
    "The lifetime of the part object is not entirely dependent on the whole object. It can be created, destroyed, or modified independently.\n",
    "Example:\n",
    "\n",
    "An example of aggregation could be a Car object containing a Engine object. The engine is a part of the car, and multiple cars might share the same type of engine. If the car is destroyed, the engine might still exist and be used elsewhere.\n",
    "Difference from Simple Composition:\n",
    "Ownership and Lifecycle:\n",
    "\n",
    "In simple composition, the whole object fully owns and manages the part object. The part object cannot exist or function independently of the whole object.\n",
    "In aggregation, the part object can exist independently of the whole object and might be shared among multiple whole objects or exist even if the whole object is destroyed.\n",
    "Coupling and Dependency:\n",
    "\n",
    "Simple composition often implies stronger coupling, where changes in the part object can directly affect the whole object.\n",
    "Aggregation involves looser coupling, allowing the part object to be more independent and changes in the part object to have less impact on the whole object.\n",
    "Both composition and aggregation are forms of object association, but aggregation specifically emphasizes a weaker, more independent relationship between objects, allowing for more flexibility and reusability in the design of object-oriented systems."
   ]
  },
  {
   "cell_type": "code",
   "execution_count": null,
   "id": "590077e5-ca69-4b43-b40c-cd62c477ce08",
   "metadata": {},
   "outputs": [],
   "source": [
    "18. Create a Python class for a house, using composition to represent rooms, furniture, and appliances."
   ]
  },
  {
   "cell_type": "code",
   "execution_count": 16,
   "id": "41a4dce0-9935-4b44-9fd4-4456acc2ae9b",
   "metadata": {},
   "outputs": [
    {
     "name": "stdout",
     "output_type": "stream",
     "text": [
      "House: My House\n",
      "\n",
      "Rooms:\n",
      "Room: Living Room\n",
      "Furniture:\n",
      "Furniture: Sofa\n",
      "Furniture: Coffee Table\n",
      "Appliances:\n",
      "Appliance: Television\n",
      "\n",
      "Room: Kitchen\n",
      "Furniture:\n",
      "Furniture: Dining Table\n",
      "Appliances:\n",
      "Appliance: Refrigerator\n",
      "Appliance: Oven\n"
     ]
    }
   ],
   "source": [
    "class Furniture:\n",
    "    def __init__(self, name):\n",
    "        self.name = name\n",
    "    \n",
    "    def __str__(self):\n",
    "        return f\"Furniture: {self.name}\"\n",
    "\n",
    "class Appliance:\n",
    "    def __init__(self, name):\n",
    "        self.name = name\n",
    "    \n",
    "    def __str__(self):\n",
    "        return f\"Appliance: {self.name}\"\n",
    "\n",
    "class Room:\n",
    "    def __init__(self, name):\n",
    "        self.name = name\n",
    "        self.furniture = []  # Composition: Room has Furniture objects\n",
    "        self.appliances = []  # Composition: Room has Appliance objects\n",
    "    \n",
    "    def add_furniture(self, furniture):\n",
    "        self.furniture.append(furniture)\n",
    "    \n",
    "    def add_appliance(self, appliance):\n",
    "        self.appliances.append(appliance)\n",
    "    \n",
    "    def __str__(self):\n",
    "        furniture_list = \"\\n\".join(str(item) for item in self.furniture)\n",
    "        appliance_list = \"\\n\".join(str(item) for item in self.appliances)\n",
    "        return f\"Room: {self.name}\\nFurniture:\\n{furniture_list}\\nAppliances:\\n{appliance_list}\"\n",
    "\n",
    "class House:\n",
    "    def __init__(self, name):\n",
    "        self.name = name\n",
    "        self.rooms = []  # Composition: House has Room objects\n",
    "    \n",
    "    def add_room(self, room):\n",
    "        self.rooms.append(room)\n",
    "    \n",
    "    def __str__(self):\n",
    "        room_list = \"\\n\\n\".join(str(room) for room in self.rooms)\n",
    "        return f\"House: {self.name}\\n\\nRooms:\\n{room_list}\"\n",
    "\n",
    "# Creating a House with Rooms, Furniture, and Appliances\n",
    "living_room = Room(\"Living Room\")\n",
    "living_room.add_furniture(Furniture(\"Sofa\"))\n",
    "living_room.add_furniture(Furniture(\"Coffee Table\"))\n",
    "living_room.add_appliance(Appliance(\"Television\"))\n",
    "\n",
    "kitchen = Room(\"Kitchen\")\n",
    "kitchen.add_furniture(Furniture(\"Dining Table\"))\n",
    "kitchen.add_appliance(Appliance(\"Refrigerator\"))\n",
    "kitchen.add_appliance(Appliance(\"Oven\"))\n",
    "\n",
    "my_house = House(\"My House\")\n",
    "my_house.add_room(living_room)\n",
    "my_house.add_room(kitchen)\n",
    "\n",
    "print(my_house)"
   ]
  },
  {
   "cell_type": "code",
   "execution_count": null,
   "id": "162aaf09-c46e-49ee-b032-c90139b524ed",
   "metadata": {},
   "outputs": [],
   "source": [
    "19. How can you achieve flexibility in composed objects by allowing them to be replaced or modified \n",
    "dynamically at runtime?"
   ]
  },
  {
   "cell_type": "code",
   "execution_count": 17,
   "id": "5bd10c9d-02f7-4b7e-8117-1dec2ee529a9",
   "metadata": {},
   "outputs": [
    {
     "name": "stdout",
     "output_type": "stream",
     "text": [
      "Operation from Component A\n",
      "Operation from Component B\n"
     ]
    }
   ],
   "source": [
    "\"\"\"Achieving flexibility in composed objects, allowing them to be replaced or modified dynamically at runtime, involves implementing design patterns and principles that support runtime changes without affecting the overall functionality of the system. Here are some approaches to achieve this flexibility:\n",
    "\n",
    "1. Use of Interfaces or Abstract Classes:\n",
    "Define interfaces or abstract classes for the components involved in composition. This allows different implementations to be swapped at runtime while adhering to a common interface.\n",
    "2. Factory or Builder Patterns:\n",
    "Implement design patterns like the Factory or Builder patterns to dynamically create instances of composed objects. This enables the creation of different implementations of components based on certain conditions or requirements during runtime.\n",
    "3. Dependency Injection:\n",
    "Employ Dependency Injection, where objects are injected into another object rather than being instantiated within it. This allows different implementations of components to be injected at runtime, facilitating flexibility and easier replacement.\n",
    "4. Configurations or External Data:\n",
    "Use configurations or external data (such as JSON, YAML, or databases) to define and load the compositions dynamically. This allows the system to configure and modify composed objects without code changes.\n",
    "Example using Python:\n",
    "Let's illustrate this with a simplified example:\"\"\"\n",
    "class ComponentInterface:\n",
    "    def operation(self):\n",
    "        pass\n",
    "\n",
    "class ComponentA(ComponentInterface):\n",
    "    def operation(self):\n",
    "        return \"Operation from Component A\"\n",
    "\n",
    "class ComponentB(ComponentInterface):\n",
    "    def operation(self):\n",
    "        return \"Operation from Component B\"\n",
    "\n",
    "class ComposedObject:\n",
    "    def __init__(self, component):\n",
    "        self.component = component\n",
    "    \n",
    "    def perform_operation(self):\n",
    "        return self.component.operation()\n",
    "\n",
    "# Usage\n",
    "# Dynamically change or replace the component at runtime\n",
    "component_a = ComponentA()\n",
    "component_b = ComponentB()\n",
    "\n",
    "obj_with_component_a = ComposedObject(component_a)\n",
    "print(obj_with_component_a.perform_operation())  # Output: \"Operation from Component A\"\n",
    "\n",
    "obj_with_component_b = ComposedObject(component_b)\n",
    "print(obj_with_component_b.perform_operation())  # Output: \"Operation from Component B\""
   ]
  },
  {
   "cell_type": "code",
   "execution_count": null,
   "id": "0f9f78e9-669d-4f72-a0d7-18578e2233d0",
   "metadata": {},
   "outputs": [],
   "source": [
    "20. Create a Python class for a social media application, using composition to represent users, posts, and \n",
    "comments"
   ]
  },
  {
   "cell_type": "code",
   "execution_count": 18,
   "id": "786c97dc-c9f0-4798-ad43-90597a67edda",
   "metadata": {},
   "outputs": [
    {
     "name": "stdout",
     "output_type": "stream",
     "text": [
      "\n",
      "User: Alice's Posts:\n",
      "Post by Alice:\n",
      "Hello, this is my first post!\n",
      "Comments:\n",
      "Bob: Nice post!\n",
      "Alice: Thank you!\n",
      "\n",
      "User: Bob's Posts:\n",
      "Post by Bob:\n",
      "I love Python programming!\n",
      "Comments:\n",
      "Alice: Me too!\n",
      "Bob: Python is amazing!\n"
     ]
    }
   ],
   "source": [
    "class Comment:\n",
    "    def __init__(self, user, text):\n",
    "        self.user = user\n",
    "        self.text = text\n",
    "    \n",
    "    def __str__(self):\n",
    "        return f\"{self.user}: {self.text}\"\n",
    "\n",
    "class Post:\n",
    "    def __init__(self, user, content):\n",
    "        self.user = user\n",
    "        self.content = content\n",
    "        self.comments = []  # Composition: Post has Comment objects\n",
    "    \n",
    "    def add_comment(self, comment):\n",
    "        self.comments.append(comment)\n",
    "    \n",
    "    def __str__(self):\n",
    "        comments_str = \"\\n\".join(str(comment) for comment in self.comments)\n",
    "        return f\"Post by {self.user}:\\n{self.content}\\nComments:\\n{comments_str}\"\n",
    "\n",
    "class User:\n",
    "    def __init__(self, username):\n",
    "        self.username = username\n",
    "        self.posts = []  # Composition: User has Post objects\n",
    "    \n",
    "    def create_post(self, content):\n",
    "        post = Post(self.username, content)\n",
    "        self.posts.append(post)\n",
    "        return post\n",
    "    \n",
    "    def comment_on_post(self, post, text):\n",
    "        comment = Comment(self.username, text)\n",
    "        post.add_comment(comment)\n",
    "    \n",
    "    def __str__(self):\n",
    "        return f\"User: {self.username}\"\n",
    "\n",
    "# Creating a Social Media Application\n",
    "user1 = User(\"Alice\")\n",
    "user2 = User(\"Bob\")\n",
    "\n",
    "post1 = user1.create_post(\"Hello, this is my first post!\")\n",
    "user2.comment_on_post(post1, \"Nice post!\")\n",
    "user1.comment_on_post(post1, \"Thank you!\")\n",
    "\n",
    "post2 = user2.create_post(\"I love Python programming!\")\n",
    "user1.comment_on_post(post2, \"Me too!\")\n",
    "user2.comment_on_post(post2, \"Python is amazing!\")\n",
    "\n",
    "# Printing Posts and Comments\n",
    "for user in [user1, user2]:\n",
    "    print(f\"\\n{user}'s Posts:\")\n",
    "    for post in user.posts:\n",
    "        print(post)"
   ]
  }
 ],
 "metadata": {
  "kernelspec": {
   "display_name": "Python 3 (ipykernel)",
   "language": "python",
   "name": "python3"
  },
  "language_info": {
   "codemirror_mode": {
    "name": "ipython",
    "version": 3
   },
   "file_extension": ".py",
   "mimetype": "text/x-python",
   "name": "python",
   "nbconvert_exporter": "python",
   "pygments_lexer": "ipython3",
   "version": "3.10.8"
  }
 },
 "nbformat": 4,
 "nbformat_minor": 5
}
